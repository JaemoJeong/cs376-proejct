{
 "cells": [
  {
   "cell_type": "markdown",
   "metadata": {},
   "source": [
    "# Book Recommend System"
   ]
  },
  {
   "cell_type": "code",
   "execution_count": 1,
   "metadata": {
    "execution": {
     "iopub.execute_input": "2022-04-02T11:34:08.22044Z",
     "iopub.status.busy": "2022-04-02T11:34:08.220078Z",
     "iopub.status.idle": "2022-04-02T11:34:08.243961Z",
     "shell.execute_reply": "2022-04-02T11:34:08.243017Z",
     "shell.execute_reply.started": "2022-04-02T11:34:08.220344Z"
    }
   },
   "outputs": [],
   "source": [
    "import numpy as np\n",
    "import pandas as pd\n",
    "import tensorflow as tf\n",
    "import tensorflow.keras as keras\n",
    "from matplotlib import pyplot as plt\n",
    "from sklearn.model_selection import train_test_split\n",
    "import os\n",
    "\n",
    "tf.config.run_functions_eagerly(True)"
   ]
  },
  {
   "cell_type": "code",
   "execution_count": 2,
   "metadata": {
    "execution": {
     "iopub.execute_input": "2022-04-02T11:34:08.246381Z",
     "iopub.status.busy": "2022-04-02T11:34:08.24585Z",
     "iopub.status.idle": "2022-04-02T11:34:10.80162Z",
     "shell.execute_reply": "2022-04-02T11:34:10.798664Z",
     "shell.execute_reply.started": "2022-04-02T11:34:08.246346Z"
    }
   },
   "outputs": [
    {
     "name": "stderr",
     "output_type": "stream",
     "text": [
      "C:\\Users\\gosfl\\anaconda3\\lib\\site-packages\\IPython\\core\\interactiveshell.py:3444: DtypeWarning: Columns (3) have mixed types.Specify dtype option on import or set low_memory=False.\n",
      "  exec(code_obj, self.user_global_ns, self.user_ns)\n"
     ]
    }
   ],
   "source": [
    "data = pd.read_csv('Books.csv')"
   ]
  },
  {
   "cell_type": "code",
   "execution_count": null,
   "metadata": {},
   "outputs": [],
   "source": []
  },
  {
   "cell_type": "code",
   "execution_count": 3,
   "metadata": {
    "execution": {
     "iopub.execute_input": "2022-04-02T11:34:10.803882Z",
     "iopub.status.busy": "2022-04-02T11:34:10.803637Z",
     "iopub.status.idle": "2022-04-02T11:34:10.82909Z",
     "shell.execute_reply": "2022-04-02T11:34:10.828247Z",
     "shell.execute_reply.started": "2022-04-02T11:34:10.80385Z"
    }
   },
   "outputs": [
    {
     "data": {
      "text/html": [
       "<div>\n",
       "<style scoped>\n",
       "    .dataframe tbody tr th:only-of-type {\n",
       "        vertical-align: middle;\n",
       "    }\n",
       "\n",
       "    .dataframe tbody tr th {\n",
       "        vertical-align: top;\n",
       "    }\n",
       "\n",
       "    .dataframe thead th {\n",
       "        text-align: right;\n",
       "    }\n",
       "</style>\n",
       "<table border=\"1\" class=\"dataframe\">\n",
       "  <thead>\n",
       "    <tr style=\"text-align: right;\">\n",
       "      <th></th>\n",
       "      <th>ISBN</th>\n",
       "      <th>Book-Title</th>\n",
       "      <th>Book-Author</th>\n",
       "      <th>Year-Of-Publication</th>\n",
       "      <th>Publisher</th>\n",
       "      <th>Image-URL-S</th>\n",
       "      <th>Image-URL-M</th>\n",
       "      <th>Image-URL-L</th>\n",
       "    </tr>\n",
       "  </thead>\n",
       "  <tbody>\n",
       "    <tr>\n",
       "      <th>0</th>\n",
       "      <td>0195153448</td>\n",
       "      <td>Classical Mythology</td>\n",
       "      <td>Mark P. O. Morford</td>\n",
       "      <td>2002</td>\n",
       "      <td>Oxford University Press</td>\n",
       "      <td>http://images.amazon.com/images/P/0195153448.0...</td>\n",
       "      <td>http://images.amazon.com/images/P/0195153448.0...</td>\n",
       "      <td>http://images.amazon.com/images/P/0195153448.0...</td>\n",
       "    </tr>\n",
       "    <tr>\n",
       "      <th>1</th>\n",
       "      <td>0002005018</td>\n",
       "      <td>Clara Callan</td>\n",
       "      <td>Richard Bruce Wright</td>\n",
       "      <td>2001</td>\n",
       "      <td>HarperFlamingo Canada</td>\n",
       "      <td>http://images.amazon.com/images/P/0002005018.0...</td>\n",
       "      <td>http://images.amazon.com/images/P/0002005018.0...</td>\n",
       "      <td>http://images.amazon.com/images/P/0002005018.0...</td>\n",
       "    </tr>\n",
       "    <tr>\n",
       "      <th>2</th>\n",
       "      <td>0060973129</td>\n",
       "      <td>Decision in Normandy</td>\n",
       "      <td>Carlo D'Este</td>\n",
       "      <td>1991</td>\n",
       "      <td>HarperPerennial</td>\n",
       "      <td>http://images.amazon.com/images/P/0060973129.0...</td>\n",
       "      <td>http://images.amazon.com/images/P/0060973129.0...</td>\n",
       "      <td>http://images.amazon.com/images/P/0060973129.0...</td>\n",
       "    </tr>\n",
       "    <tr>\n",
       "      <th>3</th>\n",
       "      <td>0374157065</td>\n",
       "      <td>Flu: The Story of the Great Influenza Pandemic...</td>\n",
       "      <td>Gina Bari Kolata</td>\n",
       "      <td>1999</td>\n",
       "      <td>Farrar Straus Giroux</td>\n",
       "      <td>http://images.amazon.com/images/P/0374157065.0...</td>\n",
       "      <td>http://images.amazon.com/images/P/0374157065.0...</td>\n",
       "      <td>http://images.amazon.com/images/P/0374157065.0...</td>\n",
       "    </tr>\n",
       "    <tr>\n",
       "      <th>4</th>\n",
       "      <td>0393045218</td>\n",
       "      <td>The Mummies of Urumchi</td>\n",
       "      <td>E. J. W. Barber</td>\n",
       "      <td>1999</td>\n",
       "      <td>W. W. Norton &amp;amp; Company</td>\n",
       "      <td>http://images.amazon.com/images/P/0393045218.0...</td>\n",
       "      <td>http://images.amazon.com/images/P/0393045218.0...</td>\n",
       "      <td>http://images.amazon.com/images/P/0393045218.0...</td>\n",
       "    </tr>\n",
       "  </tbody>\n",
       "</table>\n",
       "</div>"
      ],
      "text/plain": [
       "         ISBN                                         Book-Title  \\\n",
       "0  0195153448                                Classical Mythology   \n",
       "1  0002005018                                       Clara Callan   \n",
       "2  0060973129                               Decision in Normandy   \n",
       "3  0374157065  Flu: The Story of the Great Influenza Pandemic...   \n",
       "4  0393045218                             The Mummies of Urumchi   \n",
       "\n",
       "            Book-Author Year-Of-Publication                   Publisher  \\\n",
       "0    Mark P. O. Morford                2002     Oxford University Press   \n",
       "1  Richard Bruce Wright                2001       HarperFlamingo Canada   \n",
       "2          Carlo D'Este                1991             HarperPerennial   \n",
       "3      Gina Bari Kolata                1999        Farrar Straus Giroux   \n",
       "4       E. J. W. Barber                1999  W. W. Norton &amp; Company   \n",
       "\n",
       "                                         Image-URL-S  \\\n",
       "0  http://images.amazon.com/images/P/0195153448.0...   \n",
       "1  http://images.amazon.com/images/P/0002005018.0...   \n",
       "2  http://images.amazon.com/images/P/0060973129.0...   \n",
       "3  http://images.amazon.com/images/P/0374157065.0...   \n",
       "4  http://images.amazon.com/images/P/0393045218.0...   \n",
       "\n",
       "                                         Image-URL-M  \\\n",
       "0  http://images.amazon.com/images/P/0195153448.0...   \n",
       "1  http://images.amazon.com/images/P/0002005018.0...   \n",
       "2  http://images.amazon.com/images/P/0060973129.0...   \n",
       "3  http://images.amazon.com/images/P/0374157065.0...   \n",
       "4  http://images.amazon.com/images/P/0393045218.0...   \n",
       "\n",
       "                                         Image-URL-L  \n",
       "0  http://images.amazon.com/images/P/0195153448.0...  \n",
       "1  http://images.amazon.com/images/P/0002005018.0...  \n",
       "2  http://images.amazon.com/images/P/0060973129.0...  \n",
       "3  http://images.amazon.com/images/P/0374157065.0...  \n",
       "4  http://images.amazon.com/images/P/0393045218.0...  "
      ]
     },
     "execution_count": 3,
     "metadata": {},
     "output_type": "execute_result"
    }
   ],
   "source": [
    "data.head()"
   ]
  },
  {
   "cell_type": "code",
   "execution_count": 4,
   "metadata": {
    "execution": {
     "iopub.execute_input": "2022-04-02T11:34:10.830622Z",
     "iopub.status.busy": "2022-04-02T11:34:10.830354Z",
     "iopub.status.idle": "2022-04-02T11:34:11.754739Z",
     "shell.execute_reply": "2022-04-02T11:34:11.753914Z",
     "shell.execute_reply.started": "2022-04-02T11:34:10.830592Z"
    }
   },
   "outputs": [],
   "source": [
    "data1 = pd.read_csv('Ratings.csv')"
   ]
  },
  {
   "cell_type": "code",
   "execution_count": 5,
   "metadata": {
    "execution": {
     "iopub.execute_input": "2022-04-02T11:34:11.757457Z",
     "iopub.status.busy": "2022-04-02T11:34:11.757151Z",
     "iopub.status.idle": "2022-04-02T11:34:11.770027Z",
     "shell.execute_reply": "2022-04-02T11:34:11.76915Z",
     "shell.execute_reply.started": "2022-04-02T11:34:11.757417Z"
    }
   },
   "outputs": [
    {
     "data": {
      "text/html": [
       "<div>\n",
       "<style scoped>\n",
       "    .dataframe tbody tr th:only-of-type {\n",
       "        vertical-align: middle;\n",
       "    }\n",
       "\n",
       "    .dataframe tbody tr th {\n",
       "        vertical-align: top;\n",
       "    }\n",
       "\n",
       "    .dataframe thead th {\n",
       "        text-align: right;\n",
       "    }\n",
       "</style>\n",
       "<table border=\"1\" class=\"dataframe\">\n",
       "  <thead>\n",
       "    <tr style=\"text-align: right;\">\n",
       "      <th></th>\n",
       "      <th>User-ID</th>\n",
       "      <th>ISBN</th>\n",
       "      <th>Book-Rating</th>\n",
       "    </tr>\n",
       "  </thead>\n",
       "  <tbody>\n",
       "    <tr>\n",
       "      <th>0</th>\n",
       "      <td>276725</td>\n",
       "      <td>034545104X</td>\n",
       "      <td>0</td>\n",
       "    </tr>\n",
       "    <tr>\n",
       "      <th>1</th>\n",
       "      <td>276726</td>\n",
       "      <td>0155061224</td>\n",
       "      <td>5</td>\n",
       "    </tr>\n",
       "    <tr>\n",
       "      <th>2</th>\n",
       "      <td>276727</td>\n",
       "      <td>0446520802</td>\n",
       "      <td>0</td>\n",
       "    </tr>\n",
       "    <tr>\n",
       "      <th>3</th>\n",
       "      <td>276729</td>\n",
       "      <td>052165615X</td>\n",
       "      <td>3</td>\n",
       "    </tr>\n",
       "    <tr>\n",
       "      <th>4</th>\n",
       "      <td>276729</td>\n",
       "      <td>0521795028</td>\n",
       "      <td>6</td>\n",
       "    </tr>\n",
       "  </tbody>\n",
       "</table>\n",
       "</div>"
      ],
      "text/plain": [
       "   User-ID        ISBN  Book-Rating\n",
       "0   276725  034545104X            0\n",
       "1   276726  0155061224            5\n",
       "2   276727  0446520802            0\n",
       "3   276729  052165615X            3\n",
       "4   276729  0521795028            6"
      ]
     },
     "execution_count": 5,
     "metadata": {},
     "output_type": "execute_result"
    }
   ],
   "source": [
    "data1.head()"
   ]
  },
  {
   "cell_type": "code",
   "execution_count": 6,
   "metadata": {
    "execution": {
     "iopub.execute_input": "2022-04-02T11:34:11.772004Z",
     "iopub.status.busy": "2022-04-02T11:34:11.771695Z",
     "iopub.status.idle": "2022-04-02T11:34:11.791457Z",
     "shell.execute_reply": "2022-04-02T11:34:11.790497Z",
     "shell.execute_reply.started": "2022-04-02T11:34:11.771964Z"
    }
   },
   "outputs": [
    {
     "data": {
      "text/plain": [
       "array([ 0,  5,  3,  6,  8,  7, 10,  9,  4,  1,  2], dtype=int64)"
      ]
     },
     "execution_count": 6,
     "metadata": {},
     "output_type": "execute_result"
    }
   ],
   "source": [
    "data1['Book-Rating'].unique()"
   ]
  },
  {
   "cell_type": "code",
   "execution_count": 7,
   "metadata": {
    "execution": {
     "iopub.execute_input": "2022-04-02T11:34:11.793711Z",
     "iopub.status.busy": "2022-04-02T11:34:11.793387Z",
     "iopub.status.idle": "2022-04-02T11:34:12.301879Z",
     "shell.execute_reply": "2022-04-02T11:34:12.30092Z",
     "shell.execute_reply.started": "2022-04-02T11:34:11.793672Z"
    }
   },
   "outputs": [],
   "source": [
    "data1.loc[(data1['Book-Rating'] >=0) & (data1['Book-Rating'] >=1),'Rating between'] = 'between 0 and 1'\n",
    "data1.loc[(data1['Book-Rating'] >=1) & (data1['Book-Rating'] >=2),'Rating between'] = 'between 1 and 2'\n",
    "data1.loc[(data1['Book-Rating'] >=2) & (data1['Book-Rating'] >=3),'Rating between'] = 'between 2 and 3'\n",
    "data1.loc[(data1['Book-Rating'] >=3) & (data1['Book-Rating'] >=4),'Rating between'] = 'between 3 and 4'\n",
    "data1.loc[(data1['Book-Rating'] >=4) & (data1['Book-Rating'] >=5),'Rating between'] = 'between 4 and 5'\n",
    "data1.loc[(data1['Book-Rating'] >=5) & (data1['Book-Rating'] >=6),'Rating between'] = 'between 5 and 6'\n",
    "data1.loc[(data1['Book-Rating'] >=6) & (data1['Book-Rating'] >=7),'Rating between'] = 'between 6 and 7'\n",
    "data1.loc[(data1['Book-Rating'] >=7) & (data1['Book-Rating'] >=8),'Rating between'] = 'between 7 and 8'\n",
    "data1.loc[(data1['Book-Rating'] >=8) & (data1['Book-Rating'] >=9),'Rating between'] = 'between 8 and 9'\n",
    "data1.loc[(data1['Book-Rating'] >=9) & (data1['Book-Rating'] >=10),'Rating between'] = 'between 9 and 10'"
   ]
  },
  {
   "cell_type": "code",
   "execution_count": 8,
   "metadata": {
    "execution": {
     "iopub.execute_input": "2022-04-02T11:34:12.303276Z",
     "iopub.status.busy": "2022-04-02T11:34:12.302996Z",
     "iopub.status.idle": "2022-04-02T11:34:12.32152Z",
     "shell.execute_reply": "2022-04-02T11:34:12.320614Z",
     "shell.execute_reply.started": "2022-04-02T11:34:12.303245Z"
    }
   },
   "outputs": [],
   "source": [
    "data1['prefer'] = (data1['Book-Rating']>5).astype(int)"
   ]
  },
  {
   "cell_type": "code",
   "execution_count": 9,
   "metadata": {
    "execution": {
     "iopub.execute_input": "2022-04-02T11:34:12.323701Z",
     "iopub.status.busy": "2022-04-02T11:34:12.323308Z",
     "iopub.status.idle": "2022-04-02T11:34:12.328761Z",
     "shell.execute_reply": "2022-04-02T11:34:12.328012Z",
     "shell.execute_reply.started": "2022-04-02T11:34:12.323657Z"
    }
   },
   "outputs": [
    {
     "data": {
      "text/html": [
       "<div>\n",
       "<style scoped>\n",
       "    .dataframe tbody tr th:only-of-type {\n",
       "        vertical-align: middle;\n",
       "    }\n",
       "\n",
       "    .dataframe tbody tr th {\n",
       "        vertical-align: top;\n",
       "    }\n",
       "\n",
       "    .dataframe thead th {\n",
       "        text-align: right;\n",
       "    }\n",
       "</style>\n",
       "<table border=\"1\" class=\"dataframe\">\n",
       "  <thead>\n",
       "    <tr style=\"text-align: right;\">\n",
       "      <th></th>\n",
       "      <th>ISBN</th>\n",
       "      <th>Book-Rating</th>\n",
       "      <th>Rating between</th>\n",
       "      <th>prefer</th>\n",
       "    </tr>\n",
       "  </thead>\n",
       "  <tbody>\n",
       "    <tr>\n",
       "      <th>count</th>\n",
       "      <td>105283.000000</td>\n",
       "      <td>105283.000000</td>\n",
       "      <td>105283.000000</td>\n",
       "      <td>105283.000000</td>\n",
       "    </tr>\n",
       "    <tr>\n",
       "      <th>mean</th>\n",
       "      <td>10.920851</td>\n",
       "      <td>10.920851</td>\n",
       "      <td>4.119098</td>\n",
       "      <td>10.920851</td>\n",
       "    </tr>\n",
       "    <tr>\n",
       "      <th>std</th>\n",
       "      <td>90.562825</td>\n",
       "      <td>90.562825</td>\n",
       "      <td>37.905533</td>\n",
       "      <td>90.562825</td>\n",
       "    </tr>\n",
       "    <tr>\n",
       "      <th>min</th>\n",
       "      <td>1.000000</td>\n",
       "      <td>1.000000</td>\n",
       "      <td>0.000000</td>\n",
       "      <td>1.000000</td>\n",
       "    </tr>\n",
       "    <tr>\n",
       "      <th>25%</th>\n",
       "      <td>1.000000</td>\n",
       "      <td>1.000000</td>\n",
       "      <td>0.000000</td>\n",
       "      <td>1.000000</td>\n",
       "    </tr>\n",
       "    <tr>\n",
       "      <th>50%</th>\n",
       "      <td>1.000000</td>\n",
       "      <td>1.000000</td>\n",
       "      <td>1.000000</td>\n",
       "      <td>1.000000</td>\n",
       "    </tr>\n",
       "    <tr>\n",
       "      <th>75%</th>\n",
       "      <td>4.000000</td>\n",
       "      <td>4.000000</td>\n",
       "      <td>2.000000</td>\n",
       "      <td>4.000000</td>\n",
       "    </tr>\n",
       "    <tr>\n",
       "      <th>max</th>\n",
       "      <td>13602.000000</td>\n",
       "      <td>13602.000000</td>\n",
       "      <td>8524.000000</td>\n",
       "      <td>13602.000000</td>\n",
       "    </tr>\n",
       "  </tbody>\n",
       "</table>\n",
       "</div>"
      ],
      "text/plain": [
       "                ISBN    Book-Rating  Rating between         prefer\n",
       "count  105283.000000  105283.000000   105283.000000  105283.000000\n",
       "mean       10.920851      10.920851        4.119098      10.920851\n",
       "std        90.562825      90.562825       37.905533      90.562825\n",
       "min         1.000000       1.000000        0.000000       1.000000\n",
       "25%         1.000000       1.000000        0.000000       1.000000\n",
       "50%         1.000000       1.000000        1.000000       1.000000\n",
       "75%         4.000000       4.000000        2.000000       4.000000\n",
       "max     13602.000000   13602.000000     8524.000000   13602.000000"
      ]
     },
     "execution_count": 9,
     "metadata": {},
     "output_type": "execute_result"
    }
   ],
   "source": [
    "(\n",
    "    data1\n",
    "    .groupby('User-ID')\n",
    "    .agg('count')\n",
    "    .describe()\n",
    ")"
   ]
  },
  {
   "cell_type": "code",
   "execution_count": null,
   "metadata": {
    "execution": {
     "iopub.execute_input": "2022-04-02T11:34:12.331117Z",
     "iopub.status.busy": "2022-04-02T11:34:12.330328Z",
     "iopub.status.idle": "2022-04-02T11:34:12.344687Z",
     "shell.execute_reply": "2022-04-02T11:34:12.343805Z",
     "shell.execute_reply.started": "2022-04-02T11:34:12.331022Z"
    }
   },
   "outputs": [],
   "source": []
  },
  {
   "cell_type": "code",
   "execution_count": 10,
   "metadata": {
    "execution": {
     "iopub.execute_input": "2022-04-02T11:34:12.347553Z",
     "iopub.status.busy": "2022-04-02T11:34:12.347278Z",
     "iopub.status.idle": "2022-04-02T11:34:13.330525Z",
     "shell.execute_reply": "2022-04-02T11:34:13.329579Z",
     "shell.execute_reply.started": "2022-04-02T11:34:12.347522Z"
    }
   },
   "outputs": [
    {
     "data": {
      "text/plain": [
       "(105283, 340556)"
      ]
     },
     "execution_count": 10,
     "metadata": {},
     "output_type": "execute_result"
    }
   ],
   "source": [
    "num_of_user = len(data1['User-ID'].unique())\n",
    "num_of_item = len(data1['ISBN'].unique())\n",
    "num_of_author = len(data['Book-Author'].unique())\n",
    "num_of_user, num_of_item"
   ]
  },
  {
   "cell_type": "code",
   "execution_count": 11,
   "metadata": {
    "execution": {
     "iopub.execute_input": "2022-04-02T11:34:13.332209Z",
     "iopub.status.busy": "2022-04-02T11:34:13.331881Z",
     "iopub.status.idle": "2022-04-02T11:34:13.340384Z",
     "shell.execute_reply": "2022-04-02T11:34:13.339232Z",
     "shell.execute_reply.started": "2022-04-02T11:34:13.332166Z"
    }
   },
   "outputs": [
    {
     "name": "stdout",
     "output_type": "stream",
     "text": [
      "Model: \"model\"\n",
      "__________________________________________________________________________________________________\n",
      " Layer (type)                   Output Shape         Param #     Connected to                     \n",
      "==================================================================================================\n",
      " input_1 (InputLayer)           [(None, 1)]          0           []                               \n",
      "                                                                                                  \n",
      " input_2 (InputLayer)           [(None, 1)]          0           []                               \n",
      "                                                                                                  \n",
      " user_embedding (Embedding)     (None, 1, 8)         842264      ['input_1[0][0]']                \n",
      "                                                                                                  \n",
      " item_embedding (Embedding)     (None, 1, 8)         2724448     ['input_2[0][0]']                \n",
      "                                                                                                  \n",
      " reshape (Reshape)              (None, 8, 1)         0           ['user_embedding[0][0]']         \n",
      "                                                                                                  \n",
      " reshape_1 (Reshape)            (None, 8, 1)         0           ['item_embedding[0][0]']         \n",
      "                                                                                                  \n",
      " dot (Dot)                      (None, 1, 1)         0           ['reshape[0][0]',                \n",
      "                                                                  'reshape_1[0][0]']              \n",
      "                                                                                                  \n",
      " activation (Activation)        (None, 1, 1)         0           ['dot[0][0]']                    \n",
      "                                                                                                  \n",
      "==================================================================================================\n",
      "Total params: 3,566,712\n",
      "Trainable params: 3,566,712\n",
      "Non-trainable params: 0\n",
      "__________________________________________________________________________________________________\n"
     ]
    }
   ],
   "source": [
    "def compile_model(num_of_user, num_of_item, learning_rate=0.001): \n",
    "    VECTOR_DIMENSION = 8\n",
    "    \n",
    "    user_input = keras.layers.Input((1,))\n",
    "    user_embedding = keras.layers.Embedding(num_of_user, VECTOR_DIMENSION, input_length=1, name='user_embedding')\n",
    "    user = user_embedding(user_input)\n",
    "    user = keras.layers.Reshape((VECTOR_DIMENSION, 1))(user)\n",
    "    \n",
    "    item_input = keras.layers.Input((1,))\n",
    "    item_embedding = keras.layers.Embedding(num_of_item, VECTOR_DIMENSION, input_length=1, name='item_embedding')\n",
    "    item = item_embedding(item_input)\n",
    "    item = keras.layers.Reshape((VECTOR_DIMENSION, 1))(item)\n",
    "    \n",
    "    dot_product = keras.layers.dot([user, item], axes=1) \n",
    "    output = keras.layers.Activation('sigmoid')(dot_product)\n",
    "    \n",
    "    model = keras.models.Model(inputs=[user_input, item_input], outputs=output) \n",
    "    model.compile(\n",
    "        loss='binary_crossentropy', \n",
    "        optimizer=keras.optimizers.Adam(learning_rate=learning_rate), \n",
    "        metrics=['binary_accuracy'],\n",
    "    )\n",
    "    return model\n",
    "\n",
    "\n",
    "model = compile_model(num_of_user, num_of_item)\n",
    "model.summary()"
   ]
  },
  {
   "cell_type": "code",
   "execution_count": 12,
   "metadata": {},
   "outputs": [
    {
     "name": "stdout",
     "output_type": "stream",
     "text": [
      "You must install pydot (`pip install pydot`) and install graphviz (see instructions at https://graphviz.gitlab.io/download/) for plot_model/model_to_dot to work.\n"
     ]
    }
   ],
   "source": [
    "keras.utils.plot_model(\n",
    "    model, to_file='movie.png', show_shapes=True, show_layer_activations=True,\n",
    ")"
   ]
  },
  {
   "cell_type": "code",
   "execution_count": 13,
   "metadata": {},
   "outputs": [
    {
     "data": {
      "text/html": [
       "<div>\n",
       "<style scoped>\n",
       "    .dataframe tbody tr th:only-of-type {\n",
       "        vertical-align: middle;\n",
       "    }\n",
       "\n",
       "    .dataframe tbody tr th {\n",
       "        vertical-align: top;\n",
       "    }\n",
       "\n",
       "    .dataframe thead th {\n",
       "        text-align: right;\n",
       "    }\n",
       "</style>\n",
       "<table border=\"1\" class=\"dataframe\">\n",
       "  <thead>\n",
       "    <tr style=\"text-align: right;\">\n",
       "      <th></th>\n",
       "      <th>uidx</th>\n",
       "      <th>iidx</th>\n",
       "      <th>y</th>\n",
       "    </tr>\n",
       "  </thead>\n",
       "  <tbody>\n",
       "    <tr>\n",
       "      <th>0</th>\n",
       "      <td>0</td>\n",
       "      <td>0</td>\n",
       "      <td>0</td>\n",
       "    </tr>\n",
       "    <tr>\n",
       "      <th>1</th>\n",
       "      <td>1</td>\n",
       "      <td>1</td>\n",
       "      <td>0</td>\n",
       "    </tr>\n",
       "    <tr>\n",
       "      <th>2</th>\n",
       "      <td>2</td>\n",
       "      <td>2</td>\n",
       "      <td>0</td>\n",
       "    </tr>\n",
       "    <tr>\n",
       "      <th>3</th>\n",
       "      <td>3</td>\n",
       "      <td>3</td>\n",
       "      <td>0</td>\n",
       "    </tr>\n",
       "    <tr>\n",
       "      <th>4</th>\n",
       "      <td>3</td>\n",
       "      <td>4</td>\n",
       "      <td>1</td>\n",
       "    </tr>\n",
       "    <tr>\n",
       "      <th>...</th>\n",
       "      <td>...</td>\n",
       "      <td>...</td>\n",
       "      <td>...</td>\n",
       "    </tr>\n",
       "    <tr>\n",
       "      <th>1149775</th>\n",
       "      <td>105278</td>\n",
       "      <td>226347</td>\n",
       "      <td>1</td>\n",
       "    </tr>\n",
       "    <tr>\n",
       "      <th>1149776</th>\n",
       "      <td>105279</td>\n",
       "      <td>7295</td>\n",
       "      <td>0</td>\n",
       "    </tr>\n",
       "    <tr>\n",
       "      <th>1149777</th>\n",
       "      <td>105280</td>\n",
       "      <td>12065</td>\n",
       "      <td>1</td>\n",
       "    </tr>\n",
       "    <tr>\n",
       "      <th>1149778</th>\n",
       "      <td>105281</td>\n",
       "      <td>78598</td>\n",
       "      <td>1</td>\n",
       "    </tr>\n",
       "    <tr>\n",
       "      <th>1149779</th>\n",
       "      <td>105282</td>\n",
       "      <td>340555</td>\n",
       "      <td>1</td>\n",
       "    </tr>\n",
       "  </tbody>\n",
       "</table>\n",
       "<p>1149780 rows × 3 columns</p>\n",
       "</div>"
      ],
      "text/plain": [
       "           uidx    iidx  y\n",
       "0             0       0  0\n",
       "1             1       1  0\n",
       "2             2       2  0\n",
       "3             3       3  0\n",
       "4             3       4  1\n",
       "...         ...     ... ..\n",
       "1149775  105278  226347  1\n",
       "1149776  105279    7295  0\n",
       "1149777  105280   12065  1\n",
       "1149778  105281   78598  1\n",
       "1149779  105282  340555  1\n",
       "\n",
       "[1149780 rows x 3 columns]"
      ]
     },
     "execution_count": 13,
     "metadata": {},
     "output_type": "execute_result"
    }
   ],
   "source": [
    "uid2idx = {v: k for k, v in dict(enumerate(data1['User-ID'].unique())).items()}\n",
    "iid2idx = {v: k for k, v in dict(enumerate(data1['ISBN'].unique())).items()}\n",
    "\n",
    "dataset = pd.DataFrame()\n",
    "dataset['uidx'] = data1['User-ID'].map(uid2idx.get)\n",
    "dataset['iidx'] = data1['ISBN'].map(iid2idx.get)\n",
    "dataset['y'] = data1['prefer']\n",
    "dataset"
   ]
  },
  {
   "cell_type": "code",
   "execution_count": 14,
   "metadata": {},
   "outputs": [
    {
     "name": "stdout",
     "output_type": "stream",
     "text": [
      "(1149780, 2) (1149780, 1)\n",
      "(1034802, 2) (1034802, 1) (57489, 2) (57489, 1) (57489, 2) (57489, 1)\n"
     ]
    }
   ],
   "source": [
    "data_x = np.array([\n",
    "    dataset['uidx'].values, \n",
    "    dataset['iidx'].values, \n",
    "]).T\n",
    "data_y = np.array([\n",
    "    dataset['y'].values, \n",
    "]).T\n",
    "print(data_x.shape, data_y.shape)\n",
    "train_x, valid_x, train_y, valid_y = train_test_split(\n",
    "    data_x, data_y, test_size=0.1,\n",
    ")\n",
    "valid_x, test_x, valid_y, test_y = train_test_split(\n",
    "    valid_x, valid_y, test_size=0.5,\n",
    ")\n",
    "print(\n",
    "    train_x.shape, train_y.shape, \n",
    "    valid_x.shape, valid_y.shape, \n",
    "    test_x.shape, test_y.shape,\n",
    ")"
   ]
  },
  {
   "cell_type": "code",
   "execution_count": 15,
   "metadata": {},
   "outputs": [],
   "source": [
    "checkpoint_filepath = './model_{epoch:02d}_{val_loss:.2f}.hdf5'\n",
    "model_checkpoint_callback = tf.keras.callbacks.ModelCheckpoint(\n",
    "    filepath=checkpoint_filepath,\n",
    "    save_best_only=True,\n",
    ")"
   ]
  },
  {
   "cell_type": "code",
   "execution_count": 16,
   "metadata": {
    "execution": {
     "iopub.execute_input": "2022-04-02T11:34:13.342534Z",
     "iopub.status.busy": "2022-04-02T11:34:13.342221Z",
     "iopub.status.idle": "2022-04-02T11:34:13.352714Z",
     "shell.execute_reply": "2022-04-02T11:34:13.352083Z",
     "shell.execute_reply.started": "2022-04-02T11:34:13.342499Z"
    }
   },
   "outputs": [
    {
     "name": "stdout",
     "output_type": "stream",
     "text": [
      "Epoch 1/8\n"
     ]
    },
    {
     "name": "stderr",
     "output_type": "stream",
     "text": [
      "C:\\Users\\gosfl\\anaconda3\\lib\\site-packages\\tensorflow\\python\\data\\ops\\structured_function.py:264: UserWarning: Even though the `tf.config.experimental_run_functions_eagerly` option is set, this option does not apply to tf.data functions. To force eager execution of tf.data functions, please use `tf.data.experimental.enable_debug_mode()`.\n",
      "  warnings.warn(\n"
     ]
    },
    {
     "name": "stdout",
     "output_type": "stream",
     "text": [
      "2022/2022 [==============================] - 373s 185ms/step - loss: 0.6909 - binary_accuracy: 0.5417 - val_loss: 0.6789 - val_binary_accuracy: 0.6144\n",
      "Epoch 2/8\n",
      "2022/2022 [==============================] - 386s 191ms/step - loss: 0.6342 - binary_accuracy: 0.8021 - val_loss: 0.6209 - val_binary_accuracy: 0.6497\n",
      "Epoch 3/8\n",
      "2022/2022 [==============================] - 354s 175ms/step - loss: 0.5561 - binary_accuracy: 0.8600 - val_loss: 0.5990 - val_binary_accuracy: 0.6545\n",
      "Epoch 4/8\n",
      "2022/2022 [==============================] - 375s 185ms/step - loss: 0.4965 - binary_accuracy: 0.8690 - val_loss: 0.5940 - val_binary_accuracy: 0.6557\n",
      "Epoch 5/8\n",
      "2022/2022 [==============================] - 317s 157ms/step - loss: 0.4475 - binary_accuracy: 0.8753 - val_loss: 0.5970 - val_binary_accuracy: 0.6573\n",
      "Epoch 6/8\n",
      "2022/2022 [==============================] - 355s 176ms/step - loss: 0.4058 - binary_accuracy: 0.8816 - val_loss: 0.6047 - val_binary_accuracy: 0.6577\n",
      "Epoch 7/8\n",
      "2022/2022 [==============================] - 340s 168ms/step - loss: 0.3697 - binary_accuracy: 0.8883 - val_loss: 0.6152 - val_binary_accuracy: 0.6566\n",
      "Epoch 8/8\n",
      "2022/2022 [==============================] - 322s 159ms/step - loss: 0.3379 - binary_accuracy: 0.8951 - val_loss: 0.6281 - val_binary_accuracy: 0.6559\n"
     ]
    }
   ],
   "source": [
    "model = compile_model(num_of_user, num_of_item)\n",
    "history = model.fit(\n",
    "    x=(train_x[:,0,None], train_x[:,1,None]),\n",
    "    y=train_y, \n",
    "    batch_size=512,\n",
    "    epochs=8, \n",
    "    verbose='auto',\n",
    "    validation_data=((valid_x[:,0,None], valid_x[:,1,None]), valid_y), \n",
    "    shuffle=True,\n",
    "    callbacks=[model_checkpoint_callback],\n",
    ")"
   ]
  },
  {
   "cell_type": "code",
   "execution_count": 17,
   "metadata": {
    "execution": {
     "iopub.execute_input": "2022-04-02T11:34:13.354828Z",
     "iopub.status.busy": "2022-04-02T11:34:13.353935Z",
     "iopub.status.idle": "2022-04-02T11:34:13.519866Z",
     "shell.execute_reply": "2022-04-02T11:34:13.518972Z",
     "shell.execute_reply.started": "2022-04-02T11:34:13.354773Z"
    }
   },
   "outputs": [
    {
     "data": {
      "image/png": "[encoded data removed]",
      "text/plain": [
       "<Figure size 432x288 with 1 Axes>"
      ]
     },
     "metadata": {
      "needs_background": "light"
     },
     "output_type": "display_data"
    }
   ],
   "source": [
    "plt.plot(history.history['loss'])\n",
    "plt.plot(history.history['val_loss'])\n",
    "plt.title('model loss')\n",
    "plt.ylabel('loss')\n",
    "plt.xlabel('epoch')\n",
    "plt.legend(['train', 'val'], loc='upper left')\n",
    "plt.show()"
   ]
  },
  {
   "cell_type": "code",
   "execution_count": 19,
   "metadata": {
    "execution": {
     "iopub.execute_input": "2022-04-02T11:34:13.522173Z",
     "iopub.status.busy": "2022-04-02T11:34:13.521207Z",
     "iopub.status.idle": "2022-04-02T11:34:14.604291Z",
     "shell.execute_reply": "2022-04-02T11:34:14.603464Z",
     "shell.execute_reply.started": "2022-04-02T11:34:13.522124Z"
    }
   },
   "outputs": [],
   "source": [
    "best_model = keras.models.load_model('./model_03_0.60.hdf5')"
   ]
  },
  {
   "cell_type": "code",
   "execution_count": 20,
   "metadata": {},
   "outputs": [
    {
     "name": "stdout",
     "output_type": "stream",
     "text": [
      "1797/1797 [==============================] - 45s 25ms/step - loss: 0.5991 - binary_accuracy: 0.6513\n"
     ]
    },
    {
     "data": {
      "text/plain": [
       "[0.5991086959838867, 0.6512898206710815]"
      ]
     },
     "execution_count": 20,
     "metadata": {},
     "output_type": "execute_result"
    }
   ],
   "source": [
    "best_model.evaluate(\n",
    "    x=(test_x[:,0,None], test_x[:,1,None]),\n",
    "    y=test_y\n",
    ")"
   ]
  },
  {
   "cell_type": "code",
   "execution_count": 21,
   "metadata": {},
   "outputs": [
    {
     "data": {
      "text/plain": [
       "((105283, 8), (340556, 8))"
      ]
     },
     "execution_count": 21,
     "metadata": {},
     "output_type": "execute_result"
    }
   ],
   "source": [
    "user_layer = best_model.layers[2]\n",
    "item_layer = best_model.layers[3]\n",
    "user_vectors = user_layer.get_weights()[0]\n",
    "item_vectors = item_layer.get_weights()[0]\n",
    "user_vectors.shape, item_vectors.shape"
   ]
  },
  {
   "cell_type": "code",
   "execution_count": 24,
   "metadata": {},
   "outputs": [
    {
     "ename": "KeyError",
     "evalue": "'track_id'",
     "output_type": "error",
     "traceback": [
      "\u001b[1;31m---------------------------------------------------------------------------\u001b[0m",
      "\u001b[1;31mKeyError\u001b[0m                                  Traceback (most recent call last)",
      "\u001b[1;32m~\\anaconda3\\lib\\site-packages\\pandas\\core\\indexes\\base.py\u001b[0m in \u001b[0;36mget_loc\u001b[1;34m(self, key, method, tolerance)\u001b[0m\n\u001b[0;32m   3360\u001b[0m             \u001b[1;32mtry\u001b[0m\u001b[1;33m:\u001b[0m\u001b[1;33m\u001b[0m\u001b[1;33m\u001b[0m\u001b[0m\n\u001b[1;32m-> 3361\u001b[1;33m                 \u001b[1;32mreturn\u001b[0m \u001b[0mself\u001b[0m\u001b[1;33m.\u001b[0m\u001b[0m_engine\u001b[0m\u001b[1;33m.\u001b[0m\u001b[0mget_loc\u001b[0m\u001b[1;33m(\u001b[0m\u001b[0mcasted_key\u001b[0m\u001b[1;33m)\u001b[0m\u001b[1;33m\u001b[0m\u001b[1;33m\u001b[0m\u001b[0m\n\u001b[0m\u001b[0;32m   3362\u001b[0m             \u001b[1;32mexcept\u001b[0m \u001b[0mKeyError\u001b[0m \u001b[1;32mas\u001b[0m \u001b[0merr\u001b[0m\u001b[1;33m:\u001b[0m\u001b[1;33m\u001b[0m\u001b[1;33m\u001b[0m\u001b[0m\n",
      "\u001b[1;32m~\\anaconda3\\lib\\site-packages\\pandas\\_libs\\index.pyx\u001b[0m in \u001b[0;36mpandas._libs.index.IndexEngine.get_loc\u001b[1;34m()\u001b[0m\n",
      "\u001b[1;32m~\\anaconda3\\lib\\site-packages\\pandas\\_libs\\index.pyx\u001b[0m in \u001b[0;36mpandas._libs.index.IndexEngine.get_loc\u001b[1;34m()\u001b[0m\n",
      "\u001b[1;32mpandas\\_libs\\hashtable_class_helper.pxi\u001b[0m in \u001b[0;36mpandas._libs.hashtable.PyObjectHashTable.get_item\u001b[1;34m()\u001b[0m\n",
      "\u001b[1;32mpandas\\_libs\\hashtable_class_helper.pxi\u001b[0m in \u001b[0;36mpandas._libs.hashtable.PyObjectHashTable.get_item\u001b[1;34m()\u001b[0m\n",
      "\u001b[1;31mKeyError\u001b[0m: 'track_id'",
      "\nThe above exception was the direct cause of the following exception:\n",
      "\u001b[1;31mKeyError\u001b[0m                                  Traceback (most recent call last)",
      "\u001b[1;32mC:\\Users\\Public\\Documents\\ESTsoft\\CreatorTemp/ipykernel_17256/2636139342.py\u001b[0m in \u001b[0;36m<module>\u001b[1;34m\u001b[0m\n\u001b[0;32m      1\u001b[0m source_df = (\n\u001b[1;32m----> 2\u001b[1;33m     \u001b[0mdata\u001b[0m\u001b[1;33m\u001b[0m\u001b[1;33m\u001b[0m\u001b[0m\n\u001b[0m\u001b[0;32m      3\u001b[0m     .assign(\n\u001b[0;32m      4\u001b[0m         \u001b[0mmusicIdx\u001b[0m\u001b[1;33m=\u001b[0m\u001b[1;32mlambda\u001b[0m \u001b[0mdf\u001b[0m\u001b[1;33m:\u001b[0m \u001b[0mdf\u001b[0m\u001b[1;33m[\u001b[0m\u001b[1;34m'track_id'\u001b[0m\u001b[1;33m]\u001b[0m\u001b[1;33m.\u001b[0m\u001b[0mmap\u001b[0m\u001b[1;33m(\u001b[0m\u001b[0miid2idx\u001b[0m\u001b[1;33m.\u001b[0m\u001b[0mget\u001b[0m\u001b[1;33m)\u001b[0m\u001b[1;33m,\u001b[0m\u001b[1;33m\u001b[0m\u001b[1;33m\u001b[0m\u001b[0m\n\u001b[0;32m      5\u001b[0m     )\n",
      "\u001b[1;32m~\\anaconda3\\lib\\site-packages\\pandas\\core\\frame.py\u001b[0m in \u001b[0;36massign\u001b[1;34m(self, **kwargs)\u001b[0m\n\u001b[0;32m   4484\u001b[0m \u001b[1;33m\u001b[0m\u001b[0m\n\u001b[0;32m   4485\u001b[0m         \u001b[1;32mfor\u001b[0m \u001b[0mk\u001b[0m\u001b[1;33m,\u001b[0m \u001b[0mv\u001b[0m \u001b[1;32min\u001b[0m \u001b[0mkwargs\u001b[0m\u001b[1;33m.\u001b[0m\u001b[0mitems\u001b[0m\u001b[1;33m(\u001b[0m\u001b[1;33m)\u001b[0m\u001b[1;33m:\u001b[0m\u001b[1;33m\u001b[0m\u001b[1;33m\u001b[0m\u001b[0m\n\u001b[1;32m-> 4486\u001b[1;33m             \u001b[0mdata\u001b[0m\u001b[1;33m[\u001b[0m\u001b[0mk\u001b[0m\u001b[1;33m]\u001b[0m \u001b[1;33m=\u001b[0m \u001b[0mcom\u001b[0m\u001b[1;33m.\u001b[0m\u001b[0mapply_if_callable\u001b[0m\u001b[1;33m(\u001b[0m\u001b[0mv\u001b[0m\u001b[1;33m,\u001b[0m \u001b[0mdata\u001b[0m\u001b[1;33m)\u001b[0m\u001b[1;33m\u001b[0m\u001b[1;33m\u001b[0m\u001b[0m\n\u001b[0m\u001b[0;32m   4487\u001b[0m         \u001b[1;32mreturn\u001b[0m \u001b[0mdata\u001b[0m\u001b[1;33m\u001b[0m\u001b[1;33m\u001b[0m\u001b[0m\n\u001b[0;32m   4488\u001b[0m \u001b[1;33m\u001b[0m\u001b[0m\n",
      "\u001b[1;32m~\\anaconda3\\lib\\site-packages\\pandas\\core\\common.py\u001b[0m in \u001b[0;36mapply_if_callable\u001b[1;34m(maybe_callable, obj, **kwargs)\u001b[0m\n\u001b[0;32m    356\u001b[0m     \"\"\"\n\u001b[0;32m    357\u001b[0m     \u001b[1;32mif\u001b[0m \u001b[0mcallable\u001b[0m\u001b[1;33m(\u001b[0m\u001b[0mmaybe_callable\u001b[0m\u001b[1;33m)\u001b[0m\u001b[1;33m:\u001b[0m\u001b[1;33m\u001b[0m\u001b[1;33m\u001b[0m\u001b[0m\n\u001b[1;32m--> 358\u001b[1;33m         \u001b[1;32mreturn\u001b[0m \u001b[0mmaybe_callable\u001b[0m\u001b[1;33m(\u001b[0m\u001b[0mobj\u001b[0m\u001b[1;33m,\u001b[0m \u001b[1;33m**\u001b[0m\u001b[0mkwargs\u001b[0m\u001b[1;33m)\u001b[0m\u001b[1;33m\u001b[0m\u001b[1;33m\u001b[0m\u001b[0m\n\u001b[0m\u001b[0;32m    359\u001b[0m \u001b[1;33m\u001b[0m\u001b[0m\n\u001b[0;32m    360\u001b[0m     \u001b[1;32mreturn\u001b[0m \u001b[0mmaybe_callable\u001b[0m\u001b[1;33m\u001b[0m\u001b[1;33m\u001b[0m\u001b[0m\n",
      "\u001b[1;32mC:\\Users\\Public\\Documents\\ESTsoft\\CreatorTemp/ipykernel_17256/2636139342.py\u001b[0m in \u001b[0;36m<lambda>\u001b[1;34m(df)\u001b[0m\n\u001b[0;32m      2\u001b[0m     \u001b[0mdata\u001b[0m\u001b[1;33m\u001b[0m\u001b[1;33m\u001b[0m\u001b[0m\n\u001b[0;32m      3\u001b[0m     .assign(\n\u001b[1;32m----> 4\u001b[1;33m         \u001b[0mmusicIdx\u001b[0m\u001b[1;33m=\u001b[0m\u001b[1;32mlambda\u001b[0m \u001b[0mdf\u001b[0m\u001b[1;33m:\u001b[0m \u001b[0mdf\u001b[0m\u001b[1;33m[\u001b[0m\u001b[1;34m'track_id'\u001b[0m\u001b[1;33m]\u001b[0m\u001b[1;33m.\u001b[0m\u001b[0mmap\u001b[0m\u001b[1;33m(\u001b[0m\u001b[0miid2idx\u001b[0m\u001b[1;33m.\u001b[0m\u001b[0mget\u001b[0m\u001b[1;33m)\u001b[0m\u001b[1;33m,\u001b[0m\u001b[1;33m\u001b[0m\u001b[1;33m\u001b[0m\u001b[0m\n\u001b[0m\u001b[0;32m      5\u001b[0m     )\n\u001b[0;32m      6\u001b[0m     .join(\n",
      "\u001b[1;32m~\\anaconda3\\lib\\site-packages\\pandas\\core\\frame.py\u001b[0m in \u001b[0;36m__getitem__\u001b[1;34m(self, key)\u001b[0m\n\u001b[0;32m   3456\u001b[0m             \u001b[1;32mif\u001b[0m \u001b[0mself\u001b[0m\u001b[1;33m.\u001b[0m\u001b[0mcolumns\u001b[0m\u001b[1;33m.\u001b[0m\u001b[0mnlevels\u001b[0m \u001b[1;33m>\u001b[0m \u001b[1;36m1\u001b[0m\u001b[1;33m:\u001b[0m\u001b[1;33m\u001b[0m\u001b[1;33m\u001b[0m\u001b[0m\n\u001b[0;32m   3457\u001b[0m                 \u001b[1;32mreturn\u001b[0m \u001b[0mself\u001b[0m\u001b[1;33m.\u001b[0m\u001b[0m_getitem_multilevel\u001b[0m\u001b[1;33m(\u001b[0m\u001b[0mkey\u001b[0m\u001b[1;33m)\u001b[0m\u001b[1;33m\u001b[0m\u001b[1;33m\u001b[0m\u001b[0m\n\u001b[1;32m-> 3458\u001b[1;33m             \u001b[0mindexer\u001b[0m \u001b[1;33m=\u001b[0m \u001b[0mself\u001b[0m\u001b[1;33m.\u001b[0m\u001b[0mcolumns\u001b[0m\u001b[1;33m.\u001b[0m\u001b[0mget_loc\u001b[0m\u001b[1;33m(\u001b[0m\u001b[0mkey\u001b[0m\u001b[1;33m)\u001b[0m\u001b[1;33m\u001b[0m\u001b[1;33m\u001b[0m\u001b[0m\n\u001b[0m\u001b[0;32m   3459\u001b[0m             \u001b[1;32mif\u001b[0m \u001b[0mis_integer\u001b[0m\u001b[1;33m(\u001b[0m\u001b[0mindexer\u001b[0m\u001b[1;33m)\u001b[0m\u001b[1;33m:\u001b[0m\u001b[1;33m\u001b[0m\u001b[1;33m\u001b[0m\u001b[0m\n\u001b[0;32m   3460\u001b[0m                 \u001b[0mindexer\u001b[0m \u001b[1;33m=\u001b[0m \u001b[1;33m[\u001b[0m\u001b[0mindexer\u001b[0m\u001b[1;33m]\u001b[0m\u001b[1;33m\u001b[0m\u001b[1;33m\u001b[0m\u001b[0m\n",
      "\u001b[1;32m~\\anaconda3\\lib\\site-packages\\pandas\\core\\indexes\\base.py\u001b[0m in \u001b[0;36mget_loc\u001b[1;34m(self, key, method, tolerance)\u001b[0m\n\u001b[0;32m   3361\u001b[0m                 \u001b[1;32mreturn\u001b[0m \u001b[0mself\u001b[0m\u001b[1;33m.\u001b[0m\u001b[0m_engine\u001b[0m\u001b[1;33m.\u001b[0m\u001b[0mget_loc\u001b[0m\u001b[1;33m(\u001b[0m\u001b[0mcasted_key\u001b[0m\u001b[1;33m)\u001b[0m\u001b[1;33m\u001b[0m\u001b[1;33m\u001b[0m\u001b[0m\n\u001b[0;32m   3362\u001b[0m             \u001b[1;32mexcept\u001b[0m \u001b[0mKeyError\u001b[0m \u001b[1;32mas\u001b[0m \u001b[0merr\u001b[0m\u001b[1;33m:\u001b[0m\u001b[1;33m\u001b[0m\u001b[1;33m\u001b[0m\u001b[0m\n\u001b[1;32m-> 3363\u001b[1;33m                 \u001b[1;32mraise\u001b[0m \u001b[0mKeyError\u001b[0m\u001b[1;33m(\u001b[0m\u001b[0mkey\u001b[0m\u001b[1;33m)\u001b[0m \u001b[1;32mfrom\u001b[0m \u001b[0merr\u001b[0m\u001b[1;33m\u001b[0m\u001b[1;33m\u001b[0m\u001b[0m\n\u001b[0m\u001b[0;32m   3364\u001b[0m \u001b[1;33m\u001b[0m\u001b[0m\n\u001b[0;32m   3365\u001b[0m         \u001b[1;32mif\u001b[0m \u001b[0mis_scalar\u001b[0m\u001b[1;33m(\u001b[0m\u001b[0mkey\u001b[0m\u001b[1;33m)\u001b[0m \u001b[1;32mand\u001b[0m \u001b[0misna\u001b[0m\u001b[1;33m(\u001b[0m\u001b[0mkey\u001b[0m\u001b[1;33m)\u001b[0m \u001b[1;32mand\u001b[0m \u001b[1;32mnot\u001b[0m \u001b[0mself\u001b[0m\u001b[1;33m.\u001b[0m\u001b[0mhasnans\u001b[0m\u001b[1;33m:\u001b[0m\u001b[1;33m\u001b[0m\u001b[1;33m\u001b[0m\u001b[0m\n",
      "\u001b[1;31mKeyError\u001b[0m: 'track_id'"
     ]
    }
   ],
   "source": [
    "source_df = (\n",
    "    data\n",
    "    .assign(\n",
    "        musicIdx=lambda df: df[''].map(iid2idx.get),\n",
    "    )\n",
    "    .join(\n",
    "        data\n",
    "        .groupby('User-ID')\n",
    "        .agg(count=('popular', 'count'))\n",
    "        .sort_values('count', ascending=False),\n",
    "        on='track_id',\n",
    "        how='inner',\n",
    "    )\n",
    ")\n",
    "print(len(source_df))\n",
    "source_df.sort_values('count', ascending=False).head(17)"
   ]
  },
  {
   "cell_type": "code",
   "execution_count": null,
   "metadata": {
    "execution": {
     "iopub.execute_input": "2022-04-02T11:34:14.606037Z",
     "iopub.status.busy": "2022-04-02T11:34:14.605367Z",
     "iopub.status.idle": "2022-04-02T11:34:14.653389Z",
     "shell.execute_reply": "2022-04-02T11:34:14.652548Z",
     "shell.execute_reply.started": "2022-04-02T11:34:14.606005Z"
    }
   },
   "outputs": [],
   "source": [
    "data = data.rename(columns={'Book-Title':'bookname'})"
   ]
  },
  {
   "cell_type": "code",
   "execution_count": null,
   "metadata": {},
   "outputs": [],
   "source": [
    "def consine_similarity(v, mat, topn=10):\n",
    "    sim = np.dot(v, mat.T) / (np.linalg.norm(v) * np.linalg.norm(mat, axis=1))\n",
    "    ind = np.argpartition(sim, -(topn + 1))[-(topn + 1):]\n",
    "    ind = ind[np.argsort(sim[ind])][topn - 1::-1]\n",
    "    return sim[ind], ind"
   ]
  },
  {
   "cell_type": "code",
   "execution_count": null,
   "metadata": {},
   "outputs": [],
   "source": [
    "sim, ind = consine_similarity(item_vectors[113], item_vectors)\n",
    "print(sim)\n",
    "print(ind)\n",
    "source_df[source_df['musicIdx'].isin(ind)]"
   ]
  },
  {
   "cell_type": "code",
   "execution_count": null,
   "metadata": {},
   "outputs": [],
   "source": [
    "sim, ind = consine_similarity(item_vectors[41], item_vectors)\n",
    "print(sim)\n",
    "print(ind)\n",
    "source_df[source_df['musicIdx'].isin(ind)]\n"
   ]
  },
  {
   "cell_type": "code",
   "execution_count": null,
   "metadata": {
    "execution": {
     "iopub.execute_input": "2022-04-02T11:34:14.656266Z",
     "iopub.status.busy": "2022-04-02T11:34:14.654683Z",
     "iopub.status.idle": "2022-04-02T11:34:14.662956Z",
     "shell.execute_reply": "2022-04-02T11:34:14.662104Z",
     "shell.execute_reply.started": "2022-04-02T11:34:14.656207Z"
    }
   },
   "outputs": [],
   "source": [
    "def recommend(bookname):\n",
    "    book_list_name = []\n",
    "    book_id  = data[data['bookname'] == bookname].index\n",
    "    book_id = book_id[0]\n",
    "    \n",
    "    for newid in islist[book_id]:\n",
    "        book_list_name.append(data.loc[newid].bookname)\n",
    "        \n",
    "        \n",
    "    return book_list_name   "
   ]
  },
  {
   "cell_type": "code",
   "execution_count": null,
   "metadata": {
    "execution": {
     "iopub.execute_input": "2022-04-02T11:34:14.665519Z",
     "iopub.status.busy": "2022-04-02T11:34:14.664468Z",
     "iopub.status.idle": "2022-04-02T11:34:14.721001Z",
     "shell.execute_reply": "2022-04-02T11:34:14.720411Z",
     "shell.execute_reply.started": "2022-04-02T11:34:14.665478Z"
    }
   },
   "outputs": [],
   "source": [
    "recommend('Clara Callan')"
   ]
  },
  {
   "cell_type": "code",
   "execution_count": null,
   "metadata": {},
   "outputs": [],
   "source": []
  }
 ],
 "metadata": {
  "kernelspec": {
   "display_name": "Python 3 (ipykernel)",
   "language": "python",
   "name": "python3"
  },
  "language_info": {
   "codemirror_mode": {
    "name": "ipython",
    "version": 3
   },
   "file_extension": ".py",
   "mimetype": "text/x-python",
   "name": "python",
   "nbconvert_exporter": "python",
   "pygments_lexer": "ipython3",
   "version": "3.9.7"
  }
 },
 "nbformat": 4,
 "nbformat_minor": 4
}
