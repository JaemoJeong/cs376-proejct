{
 "cells": [
  {
   "cell_type": "markdown",
   "metadata": {},
   "source": [
    "# Book Recommend System"
   ]
  },
  {
   "cell_type": "code",
   "execution_count": 1,
   "metadata": {
    "execution": {
     "iopub.execute_input": "2022-04-02T11:34:08.22044Z",
     "iopub.status.busy": "2022-04-02T11:34:08.220078Z",
     "iopub.status.idle": "2022-04-02T11:34:08.243961Z",
     "shell.execute_reply": "2022-04-02T11:34:08.243017Z",
     "shell.execute_reply.started": "2022-04-02T11:34:08.220344Z"
    }
   },
   "outputs": [],
   "source": [
    "import os\n",
    "import pickle\n",
    "\n",
    "import joblib\n",
    "import numpy as np\n",
    "import pandas as pd\n",
    "import tensorflow as tf\n",
    "import tensorflow.keras as keras\n",
    "from sklearn import svm, tree, linear_model\n",
    "from tqdm.notebook import tqdm\n",
    "from sklearn.model_selection import train_test_split\n",
    "from matplotlib import pyplot as plt\n",
    "tf.config.run_functions_eagerly(True)"
   ]
  },
  {
   "cell_type": "code",
   "execution_count": 2,
   "metadata": {
    "execution": {
     "iopub.execute_input": "2022-04-02T11:34:08.246381Z",
     "iopub.status.busy": "2022-04-02T11:34:08.24585Z",
     "iopub.status.idle": "2022-04-02T11:34:10.80162Z",
     "shell.execute_reply": "2022-04-02T11:34:10.798664Z",
     "shell.execute_reply.started": "2022-04-02T11:34:08.246346Z"
    }
   },
   "outputs": [
    {
     "name": "stderr",
     "output_type": "stream",
     "text": [
      "C:\\Users\\gosfl\\anaconda3\\lib\\site-packages\\IPython\\core\\interactiveshell.py:3444: DtypeWarning: Columns (3) have mixed types.Specify dtype option on import or set low_memory=False.\n",
      "  exec(code_obj, self.user_global_ns, self.user_ns)\n"
     ]
    }
   ],
   "source": [
    "data = pd.read_csv('Books.csv')"
   ]
  },
  {
   "cell_type": "code",
   "execution_count": 3,
   "metadata": {
    "execution": {
     "iopub.execute_input": "2022-04-02T11:34:10.803882Z",
     "iopub.status.busy": "2022-04-02T11:34:10.803637Z",
     "iopub.status.idle": "2022-04-02T11:34:10.82909Z",
     "shell.execute_reply": "2022-04-02T11:34:10.828247Z",
     "shell.execute_reply.started": "2022-04-02T11:34:10.80385Z"
    }
   },
   "outputs": [
    {
     "data": {
      "text/html": [
       "<div>\n",
       "<style scoped>\n",
       "    .dataframe tbody tr th:only-of-type {\n",
       "        vertical-align: middle;\n",
       "    }\n",
       "\n",
       "    .dataframe tbody tr th {\n",
       "        vertical-align: top;\n",
       "    }\n",
       "\n",
       "    .dataframe thead th {\n",
       "        text-align: right;\n",
       "    }\n",
       "</style>\n",
       "<table border=\"1\" class=\"dataframe\">\n",
       "  <thead>\n",
       "    <tr style=\"text-align: right;\">\n",
       "      <th></th>\n",
       "      <th>ISBN</th>\n",
       "      <th>Book-Title</th>\n",
       "      <th>Book-Author</th>\n",
       "      <th>Year-Of-Publication</th>\n",
       "      <th>Publisher</th>\n",
       "      <th>Image-URL-S</th>\n",
       "      <th>Image-URL-M</th>\n",
       "      <th>Image-URL-L</th>\n",
       "    </tr>\n",
       "  </thead>\n",
       "  <tbody>\n",
       "    <tr>\n",
       "      <th>0</th>\n",
       "      <td>0195153448</td>\n",
       "      <td>Classical Mythology</td>\n",
       "      <td>Mark P. O. Morford</td>\n",
       "      <td>2002</td>\n",
       "      <td>Oxford University Press</td>\n",
       "      <td>http://images.amazon.com/images/P/0195153448.0...</td>\n",
       "      <td>http://images.amazon.com/images/P/0195153448.0...</td>\n",
       "      <td>http://images.amazon.com/images/P/0195153448.0...</td>\n",
       "    </tr>\n",
       "    <tr>\n",
       "      <th>1</th>\n",
       "      <td>0002005018</td>\n",
       "      <td>Clara Callan</td>\n",
       "      <td>Richard Bruce Wright</td>\n",
       "      <td>2001</td>\n",
       "      <td>HarperFlamingo Canada</td>\n",
       "      <td>http://images.amazon.com/images/P/0002005018.0...</td>\n",
       "      <td>http://images.amazon.com/images/P/0002005018.0...</td>\n",
       "      <td>http://images.amazon.com/images/P/0002005018.0...</td>\n",
       "    </tr>\n",
       "    <tr>\n",
       "      <th>2</th>\n",
       "      <td>0060973129</td>\n",
       "      <td>Decision in Normandy</td>\n",
       "      <td>Carlo D'Este</td>\n",
       "      <td>1991</td>\n",
       "      <td>HarperPerennial</td>\n",
       "      <td>http://images.amazon.com/images/P/0060973129.0...</td>\n",
       "      <td>http://images.amazon.com/images/P/0060973129.0...</td>\n",
       "      <td>http://images.amazon.com/images/P/0060973129.0...</td>\n",
       "    </tr>\n",
       "    <tr>\n",
       "      <th>3</th>\n",
       "      <td>0374157065</td>\n",
       "      <td>Flu: The Story of the Great Influenza Pandemic...</td>\n",
       "      <td>Gina Bari Kolata</td>\n",
       "      <td>1999</td>\n",
       "      <td>Farrar Straus Giroux</td>\n",
       "      <td>http://images.amazon.com/images/P/0374157065.0...</td>\n",
       "      <td>http://images.amazon.com/images/P/0374157065.0...</td>\n",
       "      <td>http://images.amazon.com/images/P/0374157065.0...</td>\n",
       "    </tr>\n",
       "    <tr>\n",
       "      <th>4</th>\n",
       "      <td>0393045218</td>\n",
       "      <td>The Mummies of Urumchi</td>\n",
       "      <td>E. J. W. Barber</td>\n",
       "      <td>1999</td>\n",
       "      <td>W. W. Norton &amp;amp; Company</td>\n",
       "      <td>http://images.amazon.com/images/P/0393045218.0...</td>\n",
       "      <td>http://images.amazon.com/images/P/0393045218.0...</td>\n",
       "      <td>http://images.amazon.com/images/P/0393045218.0...</td>\n",
       "    </tr>\n",
       "  </tbody>\n",
       "</table>\n",
       "</div>"
      ],
      "text/plain": [
       "         ISBN                                         Book-Title  \\\n",
       "0  0195153448                                Classical Mythology   \n",
       "1  0002005018                                       Clara Callan   \n",
       "2  0060973129                               Decision in Normandy   \n",
       "3  0374157065  Flu: The Story of the Great Influenza Pandemic...   \n",
       "4  0393045218                             The Mummies of Urumchi   \n",
       "\n",
       "            Book-Author Year-Of-Publication                   Publisher  \\\n",
       "0    Mark P. O. Morford                2002     Oxford University Press   \n",
       "1  Richard Bruce Wright                2001       HarperFlamingo Canada   \n",
       "2          Carlo D'Este                1991             HarperPerennial   \n",
       "3      Gina Bari Kolata                1999        Farrar Straus Giroux   \n",
       "4       E. J. W. Barber                1999  W. W. Norton &amp; Company   \n",
       "\n",
       "                                         Image-URL-S  \\\n",
       "0  http://images.amazon.com/images/P/0195153448.0...   \n",
       "1  http://images.amazon.com/images/P/0002005018.0...   \n",
       "2  http://images.amazon.com/images/P/0060973129.0...   \n",
       "3  http://images.amazon.com/images/P/0374157065.0...   \n",
       "4  http://images.amazon.com/images/P/0393045218.0...   \n",
       "\n",
       "                                         Image-URL-M  \\\n",
       "0  http://images.amazon.com/images/P/0195153448.0...   \n",
       "1  http://images.amazon.com/images/P/0002005018.0...   \n",
       "2  http://images.amazon.com/images/P/0060973129.0...   \n",
       "3  http://images.amazon.com/images/P/0374157065.0...   \n",
       "4  http://images.amazon.com/images/P/0393045218.0...   \n",
       "\n",
       "                                         Image-URL-L  \n",
       "0  http://images.amazon.com/images/P/0195153448.0...  \n",
       "1  http://images.amazon.com/images/P/0002005018.0...  \n",
       "2  http://images.amazon.com/images/P/0060973129.0...  \n",
       "3  http://images.amazon.com/images/P/0374157065.0...  \n",
       "4  http://images.amazon.com/images/P/0393045218.0...  "
      ]
     },
     "execution_count": 3,
     "metadata": {},
     "output_type": "execute_result"
    }
   ],
   "source": [
    "data.head()"
   ]
  },
  {
   "cell_type": "code",
   "execution_count": 4,
   "metadata": {
    "execution": {
     "iopub.execute_input": "2022-04-02T11:34:10.830622Z",
     "iopub.status.busy": "2022-04-02T11:34:10.830354Z",
     "iopub.status.idle": "2022-04-02T11:34:11.754739Z",
     "shell.execute_reply": "2022-04-02T11:34:11.753914Z",
     "shell.execute_reply.started": "2022-04-02T11:34:10.830592Z"
    }
   },
   "outputs": [],
   "source": [
    "data1 = pd.read_csv('Ratings.csv')"
   ]
  },
  {
   "cell_type": "code",
   "execution_count": 5,
   "metadata": {
    "execution": {
     "iopub.execute_input": "2022-04-02T11:34:11.757457Z",
     "iopub.status.busy": "2022-04-02T11:34:11.757151Z",
     "iopub.status.idle": "2022-04-02T11:34:11.770027Z",
     "shell.execute_reply": "2022-04-02T11:34:11.76915Z",
     "shell.execute_reply.started": "2022-04-02T11:34:11.757417Z"
    }
   },
   "outputs": [],
   "source": [
    "\n",
    "data1 = pd.merge(left = data1 , right = data, how = \"left\", on = \"ISBN\")"
   ]
  },
  {
   "cell_type": "code",
   "execution_count": 6,
   "metadata": {
    "execution": {
     "iopub.execute_input": "2022-04-02T11:34:11.772004Z",
     "iopub.status.busy": "2022-04-02T11:34:11.771695Z",
     "iopub.status.idle": "2022-04-02T11:34:11.791457Z",
     "shell.execute_reply": "2022-04-02T11:34:11.790497Z",
     "shell.execute_reply.started": "2022-04-02T11:34:11.771964Z"
    }
   },
   "outputs": [
    {
     "data": {
      "text/plain": [
       "0     716109\n",
       "8     103736\n",
       "10     78610\n",
       "7      76457\n",
       "9      67541\n",
       "5      50974\n",
       "6      36924\n",
       "4       8904\n",
       "3       5996\n",
       "2       2759\n",
       "1       1770\n",
       "Name: Book-Rating, dtype: int64"
      ]
     },
     "execution_count": 6,
     "metadata": {},
     "output_type": "execute_result"
    }
   ],
   "source": [
    "data1['Book-Rating'].unique()\n",
    "data1['Book-Rating'].value_counts()"
   ]
  },
  {
   "cell_type": "code",
   "execution_count": 7,
   "metadata": {
    "execution": {
     "iopub.execute_input": "2022-04-02T11:34:12.303276Z",
     "iopub.status.busy": "2022-04-02T11:34:12.302996Z",
     "iopub.status.idle": "2022-04-02T11:34:12.32152Z",
     "shell.execute_reply": "2022-04-02T11:34:12.320614Z",
     "shell.execute_reply.started": "2022-04-02T11:34:12.303245Z"
    }
   },
   "outputs": [],
   "source": [
    "data1['prefer'] = (data1['Book-Rating']>7).astype(int)"
   ]
  },
  {
   "cell_type": "code",
   "execution_count": 8,
   "metadata": {},
   "outputs": [
    {
     "data": {
      "text/plain": [
       "0    899893\n",
       "1    249887\n",
       "Name: prefer, dtype: int64"
      ]
     },
     "execution_count": 8,
     "metadata": {},
     "output_type": "execute_result"
    }
   ],
   "source": [
    "data1['prefer'].value_counts()"
   ]
  },
  {
   "cell_type": "code",
   "execution_count": 9,
   "metadata": {
    "execution": {
     "iopub.execute_input": "2022-04-02T11:34:12.323701Z",
     "iopub.status.busy": "2022-04-02T11:34:12.323308Z",
     "iopub.status.idle": "2022-04-02T11:34:12.328761Z",
     "shell.execute_reply": "2022-04-02T11:34:12.328012Z",
     "shell.execute_reply.started": "2022-04-02T11:34:12.323657Z"
    }
   },
   "outputs": [
    {
     "data": {
      "text/html": [
       "<div>\n",
       "<style scoped>\n",
       "    .dataframe tbody tr th:only-of-type {\n",
       "        vertical-align: middle;\n",
       "    }\n",
       "\n",
       "    .dataframe tbody tr th {\n",
       "        vertical-align: top;\n",
       "    }\n",
       "\n",
       "    .dataframe thead th {\n",
       "        text-align: right;\n",
       "    }\n",
       "</style>\n",
       "<table border=\"1\" class=\"dataframe\">\n",
       "  <thead>\n",
       "    <tr style=\"text-align: right;\">\n",
       "      <th></th>\n",
       "      <th>ISBN</th>\n",
       "      <th>Book-Rating</th>\n",
       "      <th>Book-Title</th>\n",
       "      <th>Book-Author</th>\n",
       "      <th>Year-Of-Publication</th>\n",
       "      <th>Publisher</th>\n",
       "      <th>Image-URL-S</th>\n",
       "      <th>Image-URL-M</th>\n",
       "      <th>Image-URL-L</th>\n",
       "      <th>prefer</th>\n",
       "    </tr>\n",
       "  </thead>\n",
       "  <tbody>\n",
       "    <tr>\n",
       "      <th>count</th>\n",
       "      <td>105283.000000</td>\n",
       "      <td>105283.000000</td>\n",
       "      <td>105283.000000</td>\n",
       "      <td>105283.000000</td>\n",
       "      <td>105283.000000</td>\n",
       "      <td>105283.000000</td>\n",
       "      <td>105283.000000</td>\n",
       "      <td>105283.000000</td>\n",
       "      <td>105283.000000</td>\n",
       "      <td>105283.000000</td>\n",
       "    </tr>\n",
       "    <tr>\n",
       "      <th>mean</th>\n",
       "      <td>10.920851</td>\n",
       "      <td>10.920851</td>\n",
       "      <td>9.793946</td>\n",
       "      <td>9.793936</td>\n",
       "      <td>9.793946</td>\n",
       "      <td>9.793927</td>\n",
       "      <td>9.793946</td>\n",
       "      <td>9.793946</td>\n",
       "      <td>9.793908</td>\n",
       "      <td>10.920851</td>\n",
       "    </tr>\n",
       "    <tr>\n",
       "      <th>std</th>\n",
       "      <td>90.562825</td>\n",
       "      <td>90.562825</td>\n",
       "      <td>83.032990</td>\n",
       "      <td>83.032979</td>\n",
       "      <td>83.032990</td>\n",
       "      <td>83.031671</td>\n",
       "      <td>83.032990</td>\n",
       "      <td>83.032990</td>\n",
       "      <td>83.032884</td>\n",
       "      <td>90.562825</td>\n",
       "    </tr>\n",
       "    <tr>\n",
       "      <th>min</th>\n",
       "      <td>1.000000</td>\n",
       "      <td>1.000000</td>\n",
       "      <td>0.000000</td>\n",
       "      <td>0.000000</td>\n",
       "      <td>0.000000</td>\n",
       "      <td>0.000000</td>\n",
       "      <td>0.000000</td>\n",
       "      <td>0.000000</td>\n",
       "      <td>0.000000</td>\n",
       "      <td>1.000000</td>\n",
       "    </tr>\n",
       "    <tr>\n",
       "      <th>25%</th>\n",
       "      <td>1.000000</td>\n",
       "      <td>1.000000</td>\n",
       "      <td>1.000000</td>\n",
       "      <td>1.000000</td>\n",
       "      <td>1.000000</td>\n",
       "      <td>1.000000</td>\n",
       "      <td>1.000000</td>\n",
       "      <td>1.000000</td>\n",
       "      <td>1.000000</td>\n",
       "      <td>1.000000</td>\n",
       "    </tr>\n",
       "    <tr>\n",
       "      <th>50%</th>\n",
       "      <td>1.000000</td>\n",
       "      <td>1.000000</td>\n",
       "      <td>1.000000</td>\n",
       "      <td>1.000000</td>\n",
       "      <td>1.000000</td>\n",
       "      <td>1.000000</td>\n",
       "      <td>1.000000</td>\n",
       "      <td>1.000000</td>\n",
       "      <td>1.000000</td>\n",
       "      <td>1.000000</td>\n",
       "    </tr>\n",
       "    <tr>\n",
       "      <th>75%</th>\n",
       "      <td>4.000000</td>\n",
       "      <td>4.000000</td>\n",
       "      <td>3.000000</td>\n",
       "      <td>3.000000</td>\n",
       "      <td>3.000000</td>\n",
       "      <td>3.000000</td>\n",
       "      <td>3.000000</td>\n",
       "      <td>3.000000</td>\n",
       "      <td>3.000000</td>\n",
       "      <td>4.000000</td>\n",
       "    </tr>\n",
       "    <tr>\n",
       "      <th>max</th>\n",
       "      <td>13602.000000</td>\n",
       "      <td>13602.000000</td>\n",
       "      <td>11144.000000</td>\n",
       "      <td>11144.000000</td>\n",
       "      <td>11144.000000</td>\n",
       "      <td>11144.000000</td>\n",
       "      <td>11144.000000</td>\n",
       "      <td>11144.000000</td>\n",
       "      <td>11144.000000</td>\n",
       "      <td>13602.000000</td>\n",
       "    </tr>\n",
       "  </tbody>\n",
       "</table>\n",
       "</div>"
      ],
      "text/plain": [
       "                ISBN    Book-Rating     Book-Title    Book-Author  \\\n",
       "count  105283.000000  105283.000000  105283.000000  105283.000000   \n",
       "mean       10.920851      10.920851       9.793946       9.793936   \n",
       "std        90.562825      90.562825      83.032990      83.032979   \n",
       "min         1.000000       1.000000       0.000000       0.000000   \n",
       "25%         1.000000       1.000000       1.000000       1.000000   \n",
       "50%         1.000000       1.000000       1.000000       1.000000   \n",
       "75%         4.000000       4.000000       3.000000       3.000000   \n",
       "max     13602.000000   13602.000000   11144.000000   11144.000000   \n",
       "\n",
       "       Year-Of-Publication      Publisher    Image-URL-S    Image-URL-M  \\\n",
       "count        105283.000000  105283.000000  105283.000000  105283.000000   \n",
       "mean              9.793946       9.793927       9.793946       9.793946   \n",
       "std              83.032990      83.031671      83.032990      83.032990   \n",
       "min               0.000000       0.000000       0.000000       0.000000   \n",
       "25%               1.000000       1.000000       1.000000       1.000000   \n",
       "50%               1.000000       1.000000       1.000000       1.000000   \n",
       "75%               3.000000       3.000000       3.000000       3.000000   \n",
       "max           11144.000000   11144.000000   11144.000000   11144.000000   \n",
       "\n",
       "         Image-URL-L         prefer  \n",
       "count  105283.000000  105283.000000  \n",
       "mean        9.793908      10.920851  \n",
       "std        83.032884      90.562825  \n",
       "min         0.000000       1.000000  \n",
       "25%         1.000000       1.000000  \n",
       "50%         1.000000       1.000000  \n",
       "75%         3.000000       4.000000  \n",
       "max     11144.000000   13602.000000  "
      ]
     },
     "execution_count": 9,
     "metadata": {},
     "output_type": "execute_result"
    }
   ],
   "source": [
    "(\n",
    "    data1\n",
    "    .groupby('User-ID')\n",
    "    .agg('count')\n",
    "    .describe()\n",
    ")"
   ]
  },
  {
   "cell_type": "code",
   "execution_count": 10,
   "metadata": {
    "execution": {
     "iopub.execute_input": "2022-04-02T11:34:12.331117Z",
     "iopub.status.busy": "2022-04-02T11:34:12.330328Z",
     "iopub.status.idle": "2022-04-02T11:34:12.344687Z",
     "shell.execute_reply": "2022-04-02T11:34:12.343805Z",
     "shell.execute_reply.started": "2022-04-02T11:34:12.331022Z"
    }
   },
   "outputs": [],
   "source": [
    "data_user = pd.read_csv('Users.csv')"
   ]
  },
  {
   "cell_type": "code",
   "execution_count": 11,
   "metadata": {},
   "outputs": [
    {
     "data": {
      "text/html": [
       "<div>\n",
       "<style scoped>\n",
       "    .dataframe tbody tr th:only-of-type {\n",
       "        vertical-align: middle;\n",
       "    }\n",
       "\n",
       "    .dataframe tbody tr th {\n",
       "        vertical-align: top;\n",
       "    }\n",
       "\n",
       "    .dataframe thead th {\n",
       "        text-align: right;\n",
       "    }\n",
       "</style>\n",
       "<table border=\"1\" class=\"dataframe\">\n",
       "  <thead>\n",
       "    <tr style=\"text-align: right;\">\n",
       "      <th></th>\n",
       "      <th>User-ID</th>\n",
       "      <th>Location</th>\n",
       "      <th>Age</th>\n",
       "    </tr>\n",
       "  </thead>\n",
       "  <tbody>\n",
       "    <tr>\n",
       "      <th>0</th>\n",
       "      <td>1</td>\n",
       "      <td>nyc, new york, usa</td>\n",
       "      <td>NaN</td>\n",
       "    </tr>\n",
       "    <tr>\n",
       "      <th>1</th>\n",
       "      <td>2</td>\n",
       "      <td>stockton, california, usa</td>\n",
       "      <td>18.0</td>\n",
       "    </tr>\n",
       "    <tr>\n",
       "      <th>2</th>\n",
       "      <td>3</td>\n",
       "      <td>moscow, yukon territory, russia</td>\n",
       "      <td>NaN</td>\n",
       "    </tr>\n",
       "    <tr>\n",
       "      <th>3</th>\n",
       "      <td>4</td>\n",
       "      <td>porto, v.n.gaia, portugal</td>\n",
       "      <td>17.0</td>\n",
       "    </tr>\n",
       "    <tr>\n",
       "      <th>4</th>\n",
       "      <td>5</td>\n",
       "      <td>farnborough, hants, united kingdom</td>\n",
       "      <td>NaN</td>\n",
       "    </tr>\n",
       "  </tbody>\n",
       "</table>\n",
       "</div>"
      ],
      "text/plain": [
       "   User-ID                            Location   Age\n",
       "0        1                  nyc, new york, usa   NaN\n",
       "1        2           stockton, california, usa  18.0\n",
       "2        3     moscow, yukon territory, russia   NaN\n",
       "3        4           porto, v.n.gaia, portugal  17.0\n",
       "4        5  farnborough, hants, united kingdom   NaN"
      ]
     },
     "execution_count": 11,
     "metadata": {},
     "output_type": "execute_result"
    }
   ],
   "source": [
    "data_user.head()"
   ]
  },
  {
   "cell_type": "code",
   "execution_count": 12,
   "metadata": {},
   "outputs": [],
   "source": [
    "#data_user = data_user.fillna(value=0)\n",
    "data_user = data_user.dropna()\n",
    "#data_user.loc[(data_user['Age'] ==0),'Age between'] = 0\n",
    "data_user = data_user.dropna()\n",
    "data_user.loc[(data_user['Age'] >0) & (data_user['Age'] <30),'Age between'] = 0\n",
    "#data_user.loc[(data_user['Age'] >=30) & (data_user['Age'] <60),'Age between'] = 2\n",
    "#data_user.loc[(data_user['Age'] >=40) & (data_user['Age'] <60),'Age between'] = 3\n",
    "data_user.loc[(data_user['Age'] >=30),'Age between'] = 1"
   ]
  },
  {
   "cell_type": "code",
   "execution_count": 13,
   "metadata": {},
   "outputs": [],
   "source": [
    "data1 = pd.merge(left = data1 , right = data_user, how = \"left\", on = \"User-ID\")"
   ]
  },
  {
   "cell_type": "code",
   "execution_count": 14,
   "metadata": {},
   "outputs": [
    {
     "data": {
      "text/plain": [
       "Index(['0971880107', '0316666343', '0385504209', '0060928336', '0312195516',\n",
       "       '044023722X', '0679781587', '0142001740', '067976402X', '0671027360'],\n",
       "      dtype='object')"
      ]
     },
     "execution_count": 14,
     "metadata": {},
     "output_type": "execute_result"
    }
   ],
   "source": [
    "\n",
    "data_value = pd.DataFrame(data1['ISBN'].value_counts().head(10))\n",
    "data_value.index"
   ]
  },
  {
   "cell_type": "code",
   "execution_count": 15,
   "metadata": {},
   "outputs": [],
   "source": [
    "#data2 = data1[(data1['ISBN'].isin(data_value.index))]\n",
    "#data2\n",
    "#data2['Age between'].value_counts()\n",
    "#data1['Age between'].value_counts()"
   ]
  },
  {
   "cell_type": "code",
   "execution_count": 16,
   "metadata": {
    "execution": {
     "iopub.execute_input": "2022-04-02T11:34:11.793711Z",
     "iopub.status.busy": "2022-04-02T11:34:11.793387Z",
     "iopub.status.idle": "2022-04-02T11:34:12.301879Z",
     "shell.execute_reply": "2022-04-02T11:34:12.30092Z",
     "shell.execute_reply.started": "2022-04-02T11:34:11.793672Z"
    }
   },
   "outputs": [],
   "source": [
    "#plt.scatter(data2['ISBN'],data2['Age'])\n",
    "#plt.show()"
   ]
  },
  {
   "cell_type": "code",
   "execution_count": 17,
   "metadata": {
    "execution": {
     "iopub.execute_input": "2022-04-02T11:34:12.347553Z",
     "iopub.status.busy": "2022-04-02T11:34:12.347278Z",
     "iopub.status.idle": "2022-04-02T11:34:13.330525Z",
     "shell.execute_reply": "2022-04-02T11:34:13.329579Z",
     "shell.execute_reply.started": "2022-04-02T11:34:12.347522Z"
    }
   },
   "outputs": [
    {
     "data": {
      "text/plain": [
       "(105283, 340556, 101589, 16730)"
      ]
     },
     "execution_count": 17,
     "metadata": {},
     "output_type": "execute_result"
    }
   ],
   "source": [
    "num_of_user = len(data1['User-ID'].unique())\n",
    "num_of_item = len(data1['ISBN'].unique())\n",
    "num_of_author = len(data1['Book-Author'].unique())\n",
    "num_of_publisher = len(data1['Publisher'].unique())\n",
    "num_of_user, num_of_item, num_of_author, num_of_publisher"
   ]
  },
  {
   "cell_type": "code",
   "execution_count": 18,
   "metadata": {
    "execution": {
     "iopub.execute_input": "2022-04-02T11:34:13.332209Z",
     "iopub.status.busy": "2022-04-02T11:34:13.331881Z",
     "iopub.status.idle": "2022-04-02T11:34:13.340384Z",
     "shell.execute_reply": "2022-04-02T11:34:13.339232Z",
     "shell.execute_reply.started": "2022-04-02T11:34:13.332166Z"
    }
   },
   "outputs": [
    {
     "name": "stdout",
     "output_type": "stream",
     "text": [
      "Model: \"model\"\n",
      "__________________________________________________________________________________________________\n",
      " Layer (type)                   Output Shape         Param #     Connected to                     \n",
      "==================================================================================================\n",
      " input_1 (InputLayer)           [(None, 1)]          0           []                               \n",
      "                                                                                                  \n",
      " input_2 (InputLayer)           [(None, 1)]          0           []                               \n",
      "                                                                                                  \n",
      " user_embedding (Embedding)     (None, 1, 8)         842264      ['input_1[0][0]']                \n",
      "                                                                                                  \n",
      " item_embedding (Embedding)     (None, 1, 8)         2724448     ['input_2[0][0]']                \n",
      "                                                                                                  \n",
      " reshape (Reshape)              (None, 8, 1)         0           ['user_embedding[0][0]']         \n",
      "                                                                                                  \n",
      " reshape_1 (Reshape)            (None, 8, 1)         0           ['item_embedding[0][0]']         \n",
      "                                                                                                  \n",
      " dot (Dot)                      (None, 1, 1)         0           ['reshape[0][0]',                \n",
      "                                                                  'reshape_1[0][0]']              \n",
      "                                                                                                  \n",
      " activation (Activation)        (None, 1, 1)         0           ['dot[0][0]']                    \n",
      "                                                                                                  \n",
      "==================================================================================================\n",
      "Total params: 3,566,712\n",
      "Trainable params: 3,566,712\n",
      "Non-trainable params: 0\n",
      "__________________________________________________________________________________________________\n"
     ]
    }
   ],
   "source": [
    "def compile_model(num_of_user, num_of_item, learning_rate=0.001): \n",
    "    VECTOR_DIMENSION = 8\n",
    "    \n",
    "    user_input = keras.layers.Input((1,))\n",
    "    user_embedding = keras.layers.Embedding(num_of_user, VECTOR_DIMENSION, input_length=1, name='user_embedding')\n",
    "    user = user_embedding(user_input)\n",
    "    user = keras.layers.Reshape((VECTOR_DIMENSION, 1))(user)\n",
    "    \n",
    "    item_input = keras.layers.Input((1,))\n",
    "    item_embedding = keras.layers.Embedding(num_of_item, VECTOR_DIMENSION, input_length=1, name='item_embedding')\n",
    "    item = item_embedding(item_input)\n",
    "    item = keras.layers.Reshape((VECTOR_DIMENSION, 1))(item)\n",
    "    \n",
    "    dot_product = keras.layers.dot([user, item], axes=1) \n",
    "    output = keras.layers.Activation('sigmoid')(dot_product)\n",
    "    \n",
    "    model = keras.models.Model(inputs=[user_input, item_input], outputs=output) \n",
    "    model.compile(\n",
    "        loss='binary_crossentropy', \n",
    "        optimizer=keras.optimizers.Adam(learning_rate=learning_rate), \n",
    "        metrics=['binary_accuracy'],\n",
    "    )\n",
    "    return model\n",
    "\n",
    "\n",
    "model = compile_model(num_of_user, num_of_item)\n",
    "model.summary()"
   ]
  },
  {
   "cell_type": "code",
   "execution_count": null,
   "metadata": {},
   "outputs": [],
   "source": []
  },
  {
   "cell_type": "code",
   "execution_count": 19,
   "metadata": {},
   "outputs": [
    {
     "name": "stdout",
     "output_type": "stream",
     "text": [
      "You must install pydot (`pip install pydot`) and install graphviz (see instructions at https://graphviz.gitlab.io/download/) for plot_model/model_to_dot to work.\n"
     ]
    }
   ],
   "source": [
    "keras.utils.plot_model(\n",
    "    model, to_file='movie.png', show_shapes=True, show_layer_activations=True,\n",
    ")"
   ]
  },
  {
   "cell_type": "code",
   "execution_count": 20,
   "metadata": {},
   "outputs": [
    {
     "name": "stdout",
     "output_type": "stream",
     "text": [
      "         User-ID        ISBN  Book-Rating  \\\n",
      "2         276727  0446520802            0   \n",
      "3         276729  052165615X            3   \n",
      "4         276729  0521795028            6   \n",
      "5         276733  2080674722            0   \n",
      "16        276747  0060517794            9   \n",
      "...          ...         ...          ...   \n",
      "1149756   276690  0590581066            0   \n",
      "1149757   276690  0590907301            0   \n",
      "1149776   276706  0679447156            0   \n",
      "1149777   276709  0515107662           10   \n",
      "1149778   276721  0590442449           10   \n",
      "\n",
      "                                                Book-Title  \\\n",
      "2                                             The Notebook   \n",
      "3                                           Help!: Level 1   \n",
      "4        The Amsterdam Connection : Level 4 (Cambridge ...   \n",
      "5                              Les Particules Elementaires   \n",
      "16                                Little Altars Everywhere   \n",
      "...                                                    ...   \n",
      "1149756  Triplet Trouble and the Red Heart Race (Triple...   \n",
      "1149757  Triplet Trouble and the Class Trip (Triplet Tr...   \n",
      "1149776  Eight Weeks to Optimum Health: A Proven Progra...   \n",
      "1149777   The Sherbrooke Bride (Bride Trilogy (Paperback))   \n",
      "1149778                                  Fourth Grade Rats   \n",
      "\n",
      "                Book-Author Year-Of-Publication                   Publisher  \\\n",
      "2           Nicholas Sparks                1996                Warner Books   \n",
      "3             Philip Prowse                1999  Cambridge University Press   \n",
      "4               Sue Leather                2001  Cambridge University Press   \n",
      "5        Michel Houellebecq                1998                  Flammarion   \n",
      "16            Rebecca Wells                2003                 HarperTorch   \n",
      "...                     ...                 ...                         ...   \n",
      "1149756        Debbie Dadey                1996       Scholastic Paperbacks   \n",
      "1149757        Debbie Dadey                1997                       Apple   \n",
      "1149776         Andrew Weil                1997             Alfred A. Knopf   \n",
      "1149777   Catherine Coulter                1996                  Jove Books   \n",
      "1149778      Jerry Spinelli                1996                  Scholastic   \n",
      "\n",
      "                                               Image-URL-S  \\\n",
      "2        http://images.amazon.com/images/P/0446520802.0...   \n",
      "3        http://images.amazon.com/images/P/052165615X.0...   \n",
      "4        http://images.amazon.com/images/P/0521795028.0...   \n",
      "5        http://images.amazon.com/images/P/2080674722.0...   \n",
      "16       http://images.amazon.com/images/P/0060517794.0...   \n",
      "...                                                    ...   \n",
      "1149756  http://images.amazon.com/images/P/0590581066.0...   \n",
      "1149757  http://images.amazon.com/images/P/0590907301.0...   \n",
      "1149776  http://images.amazon.com/images/P/0679447156.0...   \n",
      "1149777  http://images.amazon.com/images/P/0515107662.0...   \n",
      "1149778  http://images.amazon.com/images/P/0590442449.0...   \n",
      "\n",
      "                                               Image-URL-M  \\\n",
      "2        http://images.amazon.com/images/P/0446520802.0...   \n",
      "3        http://images.amazon.com/images/P/052165615X.0...   \n",
      "4        http://images.amazon.com/images/P/0521795028.0...   \n",
      "5        http://images.amazon.com/images/P/2080674722.0...   \n",
      "16       http://images.amazon.com/images/P/0060517794.0...   \n",
      "...                                                    ...   \n",
      "1149756  http://images.amazon.com/images/P/0590581066.0...   \n",
      "1149757  http://images.amazon.com/images/P/0590907301.0...   \n",
      "1149776  http://images.amazon.com/images/P/0679447156.0...   \n",
      "1149777  http://images.amazon.com/images/P/0515107662.0...   \n",
      "1149778  http://images.amazon.com/images/P/0590442449.0...   \n",
      "\n",
      "                                               Image-URL-L  prefer  \\\n",
      "2        http://images.amazon.com/images/P/0446520802.0...       0   \n",
      "3        http://images.amazon.com/images/P/052165615X.0...       0   \n",
      "4        http://images.amazon.com/images/P/0521795028.0...       0   \n",
      "5        http://images.amazon.com/images/P/2080674722.0...       0   \n",
      "16       http://images.amazon.com/images/P/0060517794.0...       1   \n",
      "...                                                    ...     ...   \n",
      "1149756  http://images.amazon.com/images/P/0590581066.0...       0   \n",
      "1149757  http://images.amazon.com/images/P/0590907301.0...       0   \n",
      "1149776  http://images.amazon.com/images/P/0679447156.0...       0   \n",
      "1149777  http://images.amazon.com/images/P/0515107662.0...       1   \n",
      "1149778  http://images.amazon.com/images/P/0590442449.0...       1   \n",
      "\n",
      "                               Location   Age  Age between  \n",
      "2         h, new south wales, australia  16.0          0.0  \n",
      "3                  rijeka, n/a, croatia  16.0          0.0  \n",
      "4                  rijeka, n/a, croatia  16.0          0.0  \n",
      "5                    paris, n/a, france  37.0          1.0  \n",
      "16                 iowa city, iowa, usa  25.0          0.0  \n",
      "...                                 ...   ...          ...  \n",
      "1149756              wakeman, ohio, usa  43.0          1.0  \n",
      "1149757              wakeman, ohio, usa  43.0          1.0  \n",
      "1149776          quebec, quebec, canada  18.0          0.0  \n",
      "1149777  mannington, west virginia, usa  38.0          1.0  \n",
      "1149778   providence, rhode island, usa  14.0          0.0  \n",
      "\n",
      "[752735 rows x 14 columns]\n"
     ]
    },
    {
     "data": {
      "text/html": [
       "<div>\n",
       "<style scoped>\n",
       "    .dataframe tbody tr th:only-of-type {\n",
       "        vertical-align: middle;\n",
       "    }\n",
       "\n",
       "    .dataframe tbody tr th {\n",
       "        vertical-align: top;\n",
       "    }\n",
       "\n",
       "    .dataframe thead th {\n",
       "        text-align: right;\n",
       "    }\n",
       "</style>\n",
       "<table border=\"1\" class=\"dataframe\">\n",
       "  <thead>\n",
       "    <tr style=\"text-align: right;\">\n",
       "      <th></th>\n",
       "      <th>uidx</th>\n",
       "      <th>iidx</th>\n",
       "      <th>age</th>\n",
       "      <th>Publisher</th>\n",
       "      <th>author</th>\n",
       "      <th>y</th>\n",
       "    </tr>\n",
       "  </thead>\n",
       "  <tbody>\n",
       "    <tr>\n",
       "      <th>2</th>\n",
       "      <td>2</td>\n",
       "      <td>2</td>\n",
       "      <td>0.0</td>\n",
       "      <td>73</td>\n",
       "      <td>192</td>\n",
       "      <td>0</td>\n",
       "    </tr>\n",
       "    <tr>\n",
       "      <th>3</th>\n",
       "      <td>3</td>\n",
       "      <td>3</td>\n",
       "      <td>0.0</td>\n",
       "      <td>372</td>\n",
       "      <td>91671</td>\n",
       "      <td>0</td>\n",
       "    </tr>\n",
       "    <tr>\n",
       "      <th>4</th>\n",
       "      <td>3</td>\n",
       "      <td>4</td>\n",
       "      <td>0.0</td>\n",
       "      <td>372</td>\n",
       "      <td>30646</td>\n",
       "      <td>0</td>\n",
       "    </tr>\n",
       "    <tr>\n",
       "      <th>5</th>\n",
       "      <td>4</td>\n",
       "      <td>5</td>\n",
       "      <td>1.0</td>\n",
       "      <td>369</td>\n",
       "      <td>3945</td>\n",
       "      <td>0</td>\n",
       "    </tr>\n",
       "    <tr>\n",
       "      <th>16</th>\n",
       "      <td>10</td>\n",
       "      <td>14</td>\n",
       "      <td>0.0</td>\n",
       "      <td>37</td>\n",
       "      <td>127</td>\n",
       "      <td>1</td>\n",
       "    </tr>\n",
       "    <tr>\n",
       "      <th>...</th>\n",
       "      <td>...</td>\n",
       "      <td>...</td>\n",
       "      <td>...</td>\n",
       "      <td>...</td>\n",
       "      <td>...</td>\n",
       "      <td>...</td>\n",
       "    </tr>\n",
       "    <tr>\n",
       "      <th>1149756</th>\n",
       "      <td>105276</td>\n",
       "      <td>184310</td>\n",
       "      <td>1.0</td>\n",
       "      <td>366</td>\n",
       "      <td>2720</td>\n",
       "      <td>0</td>\n",
       "    </tr>\n",
       "    <tr>\n",
       "      <th>1149757</th>\n",
       "      <td>105276</td>\n",
       "      <td>241069</td>\n",
       "      <td>1.0</td>\n",
       "      <td>735</td>\n",
       "      <td>2720</td>\n",
       "      <td>0</td>\n",
       "    </tr>\n",
       "    <tr>\n",
       "      <th>1149776</th>\n",
       "      <td>105279</td>\n",
       "      <td>6299</td>\n",
       "      <td>0.0</td>\n",
       "      <td>31</td>\n",
       "      <td>17796</td>\n",
       "      <td>0</td>\n",
       "    </tr>\n",
       "    <tr>\n",
       "      <th>1149777</th>\n",
       "      <td>105280</td>\n",
       "      <td>10044</td>\n",
       "      <td>1.0</td>\n",
       "      <td>133</td>\n",
       "      <td>453</td>\n",
       "      <td>1</td>\n",
       "    </tr>\n",
       "    <tr>\n",
       "      <th>1149778</th>\n",
       "      <td>105281</td>\n",
       "      <td>60289</td>\n",
       "      <td>0.0</td>\n",
       "      <td>24</td>\n",
       "      <td>3172</td>\n",
       "      <td>1</td>\n",
       "    </tr>\n",
       "  </tbody>\n",
       "</table>\n",
       "<p>752735 rows × 6 columns</p>\n",
       "</div>"
      ],
      "text/plain": [
       "           uidx    iidx  age  Publisher  author  y\n",
       "2             2       2  0.0         73     192  0\n",
       "3             3       3  0.0        372   91671  0\n",
       "4             3       4  0.0        372   30646  0\n",
       "5             4       5  1.0        369    3945  0\n",
       "16           10      14  0.0         37     127  1\n",
       "...         ...     ...  ...        ...     ... ..\n",
       "1149756  105276  184310  1.0        366    2720  0\n",
       "1149757  105276  241069  1.0        735    2720  0\n",
       "1149776  105279    6299  0.0         31   17796  0\n",
       "1149777  105280   10044  1.0        133     453  1\n",
       "1149778  105281   60289  0.0         24    3172  1\n",
       "\n",
       "[752735 rows x 6 columns]"
      ]
     },
     "execution_count": 20,
     "metadata": {},
     "output_type": "execute_result"
    }
   ],
   "source": [
    "uid2idx = {v: k for k, v in dict(enumerate(data1['User-ID'].unique())).items()}\n",
    "iid2idx = {v: k for k, v in dict(enumerate(data1['ISBN'].unique())).items()}\n",
    "pub2idx = {v: k for k, v in dict(enumerate(data['Publisher'].unique())).items()}\n",
    "aut2idx = {v: k for k, v in dict(enumerate(data['Book-Author'].unique())).items()}\n",
    "name2idx = {v: k for k, v in dict(enumerate(data1['Book-Title'].unique())).items()}\n",
    "\n",
    "data1 = data1.dropna()\n",
    "print(data1)\n",
    "dataset = pd.DataFrame()\n",
    "dataset['uidx'] = data1['User-ID'].map(uid2idx.get)\n",
    "#dataset['iidx'] = data1['ISBN'].map(iid2idx.get)\n",
    "dataset['iidx'] = data1['Book-Title'].map(name2idx.get)\n",
    "dataset['age'] = data1['Age between']\n",
    "dataset['Publisher'] = data1['Publisher'].map(pub2idx.get)\n",
    "dataset['author'] = data1['Book-Author'].map(aut2idx.get)\n",
    "dataset['y'] = data1['prefer']\n",
    "da\n",
    "dataset['iidx'] = dataset['iidx'] * 0.1"
   ]
  },
  {
   "cell_type": "code",
   "execution_count": 21,
   "metadata": {},
   "outputs": [
    {
     "name": "stdout",
     "output_type": "stream",
     "text": [
      "(752735, 4) (752735, 1)\n",
      "(677461, 4) (677461, 1) (37637, 4) (37637, 1) (37637, 4) (37637, 1)\n"
     ]
    }
   ],
   "source": [
    "data_x = np.array([\n",
    "    #dataset['uidx'].values, \n",
    "    dataset['iidx'].values, \n",
    "    #dataset['age'].values,\n",
    "    dataset['Publisher'].values,\n",
    "    dataset['author'].values,\n",
    "    dataset['y'].values, \n",
    "]).T\n",
    "data_y = np.array([\n",
    "    #dataset['y'].values, \n",
    "    #dataset['author'].values,\n",
    "    dataset['age'].values,\n",
    "]).T\n",
    "print(data_x.shape, data_y.shape)\n",
    "train_x, valid_x, train_y, valid_y = train_test_split(\n",
    "    data_x, data_y, test_size=0.1,\n",
    ")\n",
    "valid_x, test_x, valid_y, test_y = train_test_split(\n",
    "    valid_x, valid_y, test_size=0.5,\n",
    ")\n",
    "print(\n",
    "    train_x.shape, train_y.shape, \n",
    "    valid_x.shape, valid_y.shape, \n",
    "    test_x.shape, test_y.shape,\n",
    ")"
   ]
  },
  {
   "cell_type": "code",
   "execution_count": 22,
   "metadata": {},
   "outputs": [],
   "source": [
    "#def evaluate(model, x, y):\n",
    "#    pred = model.predict(x)\n",
    "#    pred_ratio = pred.sum() / len(y)\n",
    "#    y_ratio = y.sum() / len(y)\n",
    "#    acc = (y == pred).sum() / len(y)\n",
    "#    print(f'{pred_ratio=}, {y_ratio=}, {acc=}')"
   ]
  },
  {
   "cell_type": "code",
   "execution_count": 23,
   "metadata": {},
   "outputs": [],
   "source": [
    "#%%time\n",
    "#sample_size = 100000\n",
    "#rbf_svc = svm.SVC()\n",
    "#rbf_svc = rbf_svc.fit(train_x[:sample_size], train_y[:sample_size])"
   ]
  },
  {
   "cell_type": "code",
   "execution_count": 24,
   "metadata": {},
   "outputs": [],
   "source": [
    "#evaluate(rbf_svc, valid_x, valid_y)"
   ]
  },
  {
   "cell_type": "code",
   "execution_count": 25,
   "metadata": {},
   "outputs": [],
   "source": [
    "#evaluate(rbf_svc, test_x, test_y)"
   ]
  },
  {
   "cell_type": "code",
   "execution_count": 26,
   "metadata": {},
   "outputs": [],
   "source": [
    "checkpoint_filepath = './model_{epoch:02d}_{val_loss:.2f}.hdf5'\n",
    "model_checkpoint_callback = tf.keras.callbacks.ModelCheckpoint(\n",
    "    filepath=checkpoint_filepath,\n",
    "    save_best_only=True,\n",
    ")"
   ]
  },
  {
   "cell_type": "code",
   "execution_count": 27,
   "metadata": {
    "execution": {
     "iopub.execute_input": "2022-04-02T11:34:13.342534Z",
     "iopub.status.busy": "2022-04-02T11:34:13.342221Z",
     "iopub.status.idle": "2022-04-02T11:34:13.352714Z",
     "shell.execute_reply": "2022-04-02T11:34:13.352083Z",
     "shell.execute_reply.started": "2022-04-02T11:34:13.342499Z"
    }
   },
   "outputs": [
    {
     "name": "stdout",
     "output_type": "stream",
     "text": [
      "Epoch 1/20\n"
     ]
    },
    {
     "name": "stderr",
     "output_type": "stream",
     "text": [
      "C:\\Users\\gosfl\\anaconda3\\lib\\site-packages\\tensorflow\\python\\data\\ops\\structured_function.py:264: UserWarning: Even though the `tf.config.experimental_run_functions_eagerly` option is set, this option does not apply to tf.data functions. To force eager execution of tf.data functions, please use `tf.data.experimental.enable_debug_mode()`.\n",
      "  warnings.warn(\n"
     ]
    },
    {
     "ename": "InvalidArgumentError",
     "evalue": "Exception encountered when calling layer \"user_embedding\" (type Embedding).\n\nindices[5,0] = 134231 is not in [0, 105283) [Op:ResourceGather]\n\nCall arguments received:\n  • inputs=tf.Tensor(shape=(1024, 1), dtype=float32)",
     "output_type": "error",
     "traceback": [
      "\u001b[1;31m---------------------------------------------------------------------------\u001b[0m",
      "\u001b[1;31mInvalidArgumentError\u001b[0m                      Traceback (most recent call last)",
      "\u001b[1;32mC:\\Users\\Public\\Documents\\ESTsoft\\CreatorTemp/ipykernel_34272/3217556723.py\u001b[0m in \u001b[0;36m<module>\u001b[1;34m\u001b[0m\n\u001b[0;32m      1\u001b[0m \u001b[0mmodel\u001b[0m \u001b[1;33m=\u001b[0m \u001b[0mcompile_model\u001b[0m\u001b[1;33m(\u001b[0m\u001b[0mnum_of_user\u001b[0m\u001b[1;33m,\u001b[0m \u001b[0mnum_of_item\u001b[0m\u001b[1;33m)\u001b[0m\u001b[1;33m\u001b[0m\u001b[1;33m\u001b[0m\u001b[0m\n\u001b[1;32m----> 2\u001b[1;33m history = model.fit(\n\u001b[0m\u001b[0;32m      3\u001b[0m     \u001b[0mx\u001b[0m\u001b[1;33m=\u001b[0m\u001b[1;33m(\u001b[0m\u001b[0mtrain_x\u001b[0m\u001b[1;33m[\u001b[0m\u001b[1;33m:\u001b[0m\u001b[1;33m,\u001b[0m\u001b[1;36m0\u001b[0m\u001b[1;33m,\u001b[0m\u001b[1;32mNone\u001b[0m\u001b[1;33m]\u001b[0m\u001b[1;33m,\u001b[0m \u001b[0mtrain_x\u001b[0m\u001b[1;33m[\u001b[0m\u001b[1;33m:\u001b[0m\u001b[1;33m,\u001b[0m\u001b[1;36m1\u001b[0m\u001b[1;33m,\u001b[0m\u001b[1;32mNone\u001b[0m\u001b[1;33m]\u001b[0m\u001b[1;33m)\u001b[0m\u001b[1;33m,\u001b[0m\u001b[1;33m\u001b[0m\u001b[1;33m\u001b[0m\u001b[0m\n\u001b[0;32m      4\u001b[0m     \u001b[0my\u001b[0m\u001b[1;33m=\u001b[0m\u001b[0mtrain_y\u001b[0m\u001b[1;33m,\u001b[0m\u001b[1;33m\u001b[0m\u001b[1;33m\u001b[0m\u001b[0m\n\u001b[0;32m      5\u001b[0m     \u001b[0mbatch_size\u001b[0m\u001b[1;33m=\u001b[0m\u001b[1;36m1024\u001b[0m\u001b[1;33m,\u001b[0m\u001b[1;33m\u001b[0m\u001b[1;33m\u001b[0m\u001b[0m\n",
      "\u001b[1;32m~\\anaconda3\\lib\\site-packages\\keras\\utils\\traceback_utils.py\u001b[0m in \u001b[0;36merror_handler\u001b[1;34m(*args, **kwargs)\u001b[0m\n\u001b[0;32m     65\u001b[0m     \u001b[1;32mexcept\u001b[0m \u001b[0mException\u001b[0m \u001b[1;32mas\u001b[0m \u001b[0me\u001b[0m\u001b[1;33m:\u001b[0m  \u001b[1;31m# pylint: disable=broad-except\u001b[0m\u001b[1;33m\u001b[0m\u001b[1;33m\u001b[0m\u001b[0m\n\u001b[0;32m     66\u001b[0m       \u001b[0mfiltered_tb\u001b[0m \u001b[1;33m=\u001b[0m \u001b[0m_process_traceback_frames\u001b[0m\u001b[1;33m(\u001b[0m\u001b[0me\u001b[0m\u001b[1;33m.\u001b[0m\u001b[0m__traceback__\u001b[0m\u001b[1;33m)\u001b[0m\u001b[1;33m\u001b[0m\u001b[1;33m\u001b[0m\u001b[0m\n\u001b[1;32m---> 67\u001b[1;33m       \u001b[1;32mraise\u001b[0m \u001b[0me\u001b[0m\u001b[1;33m.\u001b[0m\u001b[0mwith_traceback\u001b[0m\u001b[1;33m(\u001b[0m\u001b[0mfiltered_tb\u001b[0m\u001b[1;33m)\u001b[0m \u001b[1;32mfrom\u001b[0m \u001b[1;32mNone\u001b[0m\u001b[1;33m\u001b[0m\u001b[1;33m\u001b[0m\u001b[0m\n\u001b[0m\u001b[0;32m     68\u001b[0m     \u001b[1;32mfinally\u001b[0m\u001b[1;33m:\u001b[0m\u001b[1;33m\u001b[0m\u001b[1;33m\u001b[0m\u001b[0m\n\u001b[0;32m     69\u001b[0m       \u001b[1;32mdel\u001b[0m \u001b[0mfiltered_tb\u001b[0m\u001b[1;33m\u001b[0m\u001b[1;33m\u001b[0m\u001b[0m\n",
      "\u001b[1;32m~\\anaconda3\\lib\\site-packages\\tensorflow\\python\\framework\\ops.py\u001b[0m in \u001b[0;36mraise_from_not_ok_status\u001b[1;34m(e, name)\u001b[0m\n\u001b[0;32m   7184\u001b[0m \u001b[1;32mdef\u001b[0m \u001b[0mraise_from_not_ok_status\u001b[0m\u001b[1;33m(\u001b[0m\u001b[0me\u001b[0m\u001b[1;33m,\u001b[0m \u001b[0mname\u001b[0m\u001b[1;33m)\u001b[0m\u001b[1;33m:\u001b[0m\u001b[1;33m\u001b[0m\u001b[1;33m\u001b[0m\u001b[0m\n\u001b[0;32m   7185\u001b[0m   \u001b[0me\u001b[0m\u001b[1;33m.\u001b[0m\u001b[0mmessage\u001b[0m \u001b[1;33m+=\u001b[0m \u001b[1;33m(\u001b[0m\u001b[1;34m\" name: \"\u001b[0m \u001b[1;33m+\u001b[0m \u001b[0mname\u001b[0m \u001b[1;32mif\u001b[0m \u001b[0mname\u001b[0m \u001b[1;32mis\u001b[0m \u001b[1;32mnot\u001b[0m \u001b[1;32mNone\u001b[0m \u001b[1;32melse\u001b[0m \u001b[1;34m\"\"\u001b[0m\u001b[1;33m)\u001b[0m\u001b[1;33m\u001b[0m\u001b[1;33m\u001b[0m\u001b[0m\n\u001b[1;32m-> 7186\u001b[1;33m   \u001b[1;32mraise\u001b[0m \u001b[0mcore\u001b[0m\u001b[1;33m.\u001b[0m\u001b[0m_status_to_exception\u001b[0m\u001b[1;33m(\u001b[0m\u001b[0me\u001b[0m\u001b[1;33m)\u001b[0m \u001b[1;32mfrom\u001b[0m \u001b[1;32mNone\u001b[0m  \u001b[1;31m# pylint: disable=protected-access\u001b[0m\u001b[1;33m\u001b[0m\u001b[1;33m\u001b[0m\u001b[0m\n\u001b[0m\u001b[0;32m   7187\u001b[0m \u001b[1;33m\u001b[0m\u001b[0m\n\u001b[0;32m   7188\u001b[0m \u001b[1;33m\u001b[0m\u001b[0m\n",
      "\u001b[1;31mInvalidArgumentError\u001b[0m: Exception encountered when calling layer \"user_embedding\" (type Embedding).\n\nindices[5,0] = 134231 is not in [0, 105283) [Op:ResourceGather]\n\nCall arguments received:\n  • inputs=tf.Tensor(shape=(1024, 1), dtype=float32)"
     ]
    }
   ],
   "source": [
    "model = compile_model(num_of_user, num_of_item)\n",
    "history = model.fit(\n",
    "    x=(train_x[:,0,None], train_x[:,1,None]),\n",
    "    y=train_y, \n",
    "    batch_size=1024,\n",
    "    epochs=10, \n",
    "    verbose='auto',\n",
    "    validation_data=((valid_x[:,0,None], valid_x[:,1,None]), valid_y), \n",
    "    shuffle=True,\n",
    "    callbacks=[model_checkpoint_callback],\n",
    ")"
   ]
  },
  {
   "cell_type": "code",
   "execution_count": null,
   "metadata": {
    "execution": {
     "iopub.execute_input": "2022-04-02T11:34:13.354828Z",
     "iopub.status.busy": "2022-04-02T11:34:13.353935Z",
     "iopub.status.idle": "2022-04-02T11:34:13.519866Z",
     "shell.execute_reply": "2022-04-02T11:34:13.518972Z",
     "shell.execute_reply.started": "2022-04-02T11:34:13.354773Z"
    }
   },
   "outputs": [],
   "source": [
    "plt.plot(history.history['loss'])\n",
    "plt.plot(history.history['val_loss'])\n",
    "plt.title('model loss')\n",
    "plt.ylabel('loss')\n",
    "plt.xlabel('epoch')\n",
    "plt.legend(['train', 'val'], loc='upper left')\n",
    "plt.show()"
   ]
  },
  {
   "cell_type": "code",
   "execution_count": null,
   "metadata": {
    "execution": {
     "iopub.execute_input": "2022-04-02T11:34:13.522173Z",
     "iopub.status.busy": "2022-04-02T11:34:13.521207Z",
     "iopub.status.idle": "2022-04-02T11:34:14.604291Z",
     "shell.execute_reply": "2022-04-02T11:34:14.603464Z",
     "shell.execute_reply.started": "2022-04-02T11:34:13.522124Z"
    }
   },
   "outputs": [],
   "source": [
    "best_model = keras.models.load_model('./model_15_0.16.hdf5')"
   ]
  },
  {
   "cell_type": "code",
   "execution_count": null,
   "metadata": {
    "scrolled": true
   },
   "outputs": [],
   "source": [
    "best_model.evaluate(\n",
    "    x=(test_x[:,0,None], test_x[:,1,None]),\n",
    "    y=test_y\n",
    ")"
   ]
  },
  {
   "cell_type": "markdown",
   "metadata": {},
   "source": [
    "user_layer = best_model.layers[2]\n",
    "item_layer = best_model.layers[3]\n",
    "user_vectors = user_layer.get_weights()[0]\n",
    "item_vectors = item_layer.get_weights()[0]\n",
    "user_vectors.shape, item_vectors.shape"
   ]
  },
  {
   "cell_type": "code",
   "execution_count": null,
   "metadata": {},
   "outputs": [],
   "source": [
    "source_df = (\n",
    "    data1\n",
    "    .assign(\n",
    "        bookIdx=lambda df: df['ISBN'].map(iid2idx.get),\n",
    "    )\n",
    "    .join(\n",
    "        data1\n",
    "        .groupby('ISBN')\n",
    "        .agg(count=('prefer', 'count')) \n",
    "        .sort_values('count', ascending=False),\n",
    "        on='ISBN',\n",
    "        how='inner',\n",
    "    )\n",
    ")\n",
    "print(len(source_df))\n",
    "source_df.sort_values('count', ascending=False).head(17)"
   ]
  },
  {
   "cell_type": "code",
   "execution_count": null,
   "metadata": {
    "execution": {
     "iopub.execute_input": "2022-04-02T11:34:14.606037Z",
     "iopub.status.busy": "2022-04-02T11:34:14.605367Z",
     "iopub.status.idle": "2022-04-02T11:34:14.653389Z",
     "shell.execute_reply": "2022-04-02T11:34:14.652548Z",
     "shell.execute_reply.started": "2022-04-02T11:34:14.606005Z"
    }
   },
   "outputs": [],
   "source": [
    "data = data.rename(columns={'Book-Title':'bookname'})"
   ]
  },
  {
   "cell_type": "code",
   "execution_count": null,
   "metadata": {},
   "outputs": [],
   "source": [
    "def consine_similarity(v, mat, topn=10):\n",
    "    sim = np.dot(v, mat.T) / (np.linalg.norm(v) * np.linalg.norm(mat, axis=1))\n",
    "    ind = np.argpartition(sim, -(topn + 1))[-(topn + 1):]\n",
    "    ind = ind[np.argsort(sim[ind])][topn - 1::-1]\n",
    "    return sim[ind], ind"
   ]
  },
  {
   "cell_type": "code",
   "execution_count": null,
   "metadata": {},
   "outputs": [],
   "source": [
    "sim, ind = consine_similarity(item_vectors[113], item_vectors)\n",
    "print(sim)\n",
    "print(ind)\n",
    "source_df[source_df['bookIdx'].isin(ind)]"
   ]
  },
  {
   "cell_type": "code",
   "execution_count": null,
   "metadata": {},
   "outputs": [],
   "source": [
    "\n"
   ]
  },
  {
   "cell_type": "code",
   "execution_count": null,
   "metadata": {
    "execution": {
     "iopub.execute_input": "2022-04-02T11:34:14.656266Z",
     "iopub.status.busy": "2022-04-02T11:34:14.654683Z",
     "iopub.status.idle": "2022-04-02T11:34:14.662956Z",
     "shell.execute_reply": "2022-04-02T11:34:14.662104Z",
     "shell.execute_reply.started": "2022-04-02T11:34:14.656207Z"
    }
   },
   "outputs": [],
   "source": [
    "def recommend(bookname):\n",
    "    book_list_name = []\n",
    "    li = data[data['bookname'] == bookname]\n",
    "    book_id  = data[data['bookname'] == bookname].index\n",
    "    book_id = book_id[0]\n",
    "    \n",
    "    for newid in islist[book_id]:\n",
    "        book_list_name.append(data.loc[newid].bookname)\n",
    "        \n",
    "        \n",
    "    return book_list_name   "
   ]
  },
  {
   "cell_type": "code",
   "execution_count": null,
   "metadata": {
    "execution": {
     "iopub.execute_input": "2022-04-02T11:34:14.665519Z",
     "iopub.status.busy": "2022-04-02T11:34:14.664468Z",
     "iopub.status.idle": "2022-04-02T11:34:14.721001Z",
     "shell.execute_reply": "2022-04-02T11:34:14.720411Z",
     "shell.execute_reply.started": "2022-04-02T11:34:14.665478Z"
    }
   },
   "outputs": [],
   "source": [
    "recommend('Clara Callan')"
   ]
  },
  {
   "cell_type": "code",
   "execution_count": null,
   "metadata": {},
   "outputs": [],
   "source": []
  }
 ],
 "metadata": {
  "kernelspec": {
   "display_name": "Python 3 (ipykernel)",
   "language": "python",
   "name": "python3"
  },
  "language_info": {
   "codemirror_mode": {
    "name": "ipython",
    "version": 3
   },
   "file_extension": ".py",
   "mimetype": "text/x-python",
   "name": "python",
   "nbconvert_exporter": "python",
   "pygments_lexer": "ipython3",
   "version": "3.9.7"
  }
 },
 "nbformat": 4,
 "nbformat_minor": 4
}
