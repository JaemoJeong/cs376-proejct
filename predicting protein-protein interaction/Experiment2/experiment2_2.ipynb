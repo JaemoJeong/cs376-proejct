{
  "cells": [
    {
      "cell_type": "code",
      "execution_count": null,
      "metadata": {
        "id": "ipODEhnCOHFq"
      },
      "outputs": [],
      "source": [
        "import numpy as np\n",
        "import pandas as pd\n",
        "import tensorflow as tf\n",
        "import tensorflow.keras as keras\n",
        "from matplotlib import pyplot as plt\n",
        "from sklearn.model_selection import train_test_split\n",
        "tf.config.run_functions_eagerly(True)"
      ]
    },
    {
      "cell_type": "code",
      "execution_count": null,
      "metadata": {
        "id": "UG943DXvOL3C"
      },
      "outputs": [],
      "source": [
        "from google.colab import drive\n",
        "drive.mount('/content/drive')"
      ]
    },
    {
      "cell_type": "code",
      "execution_count": null,
      "metadata": {
        "id": "9kmvOmGkOP7k"
      },
      "outputs": [],
      "source": [
        "seq = pd.read_csv('/content/drive/My Drive/Colab Notebooks/sequence_dict.txt', sep = '\\t')\n",
        "print(len(seq))\n",
        "seq.head()"
      ]
    },
    {
      "cell_type": "code",
      "execution_count": null,
      "metadata": {
        "id": "P0kP-4UAOfA4"
      },
      "outputs": [],
      "source": [
        "seq_dict = {k:v for k, v in zip(seq['Uniprot_ID'],seq['Fasta'])}"
      ]
    },
    {
      "cell_type": "code",
      "execution_count": null,
      "metadata": {
        "id": "CglnqgOoOw15"
      },
      "outputs": [],
      "source": [
        "ppi = pd.read_csv('/content/drive/My Drive/Colab Notebooks/ppi_human.txt', sep = '\\t')\n",
        "print(len(ppi))\n",
        "ppi.head()"
      ]
    },
    {
      "cell_type": "code",
      "execution_count": null,
      "metadata": {
        "id": "cmQ6HtuIRfIf"
      },
      "outputs": [],
      "source": [
        "ppi['Interaction'] = (ppi['Interaction'] > 0).astype(int)\n",
        "ppi.head()"
      ]
    },
    {
      "cell_type": "code",
      "execution_count": null,
      "metadata": {
        "id": "xpeVbcSiVCpa"
      },
      "outputs": [],
      "source": [
        "ppi['Protein_A_sequence'] = ppi['Uniprot_A']\n",
        "ppi['Protein_B_sequence'] = ppi['Uniprot_B']\n",
        "for i in range(len(ppi)):\n",
        "  ppi['Protein_A_sequence'][i] = seq_dict[ppi['Uniprot_A'][i]]\n",
        "  ppi['Protein_B_sequence'][i] = seq_dict[ppi['Uniprot_B'][i]]"
      ]
    },
    {
      "cell_type": "code",
      "execution_count": null,
      "metadata": {
        "id": "s-MPb2tFZZnx"
      },
      "outputs": [],
      "source": [
        "ppi.head()"
      ]
    },
    {
      "cell_type": "code",
      "execution_count": null,
      "metadata": {
        "id": "ffsaQBOSVV5c"
      },
      "outputs": [],
      "source": [
        "words = list(set(ppi[\"Protein_A_sequence\"].values) | set(ppi[\"Protein_B_sequence\"].values))\n",
        "chars = set([w_i for w in words for w_i in w])\n",
        "chars = sorted(list(chars))\n",
        "print(chars)"
      ]
    },
    {
      "cell_type": "code",
      "execution_count": null,
      "metadata": {
        "id": "RFk5KvUvZQDB"
      },
      "outputs": [],
      "source": [
        "char_to_index = {c: i + 2 for i, c in enumerate(chars)}\n",
        "index_to_char = {}\n",
        "for key, value in char_to_index.items():\n",
        "  index_to_char[value] = key"
      ]
    },
    {
      "cell_type": "code",
      "execution_count": null,
      "metadata": {
        "id": "34ZLoX19ZQYi"
      },
      "outputs": [],
      "source": [
        "max_len_char = 1000\n",
        "\n",
        "def padding_char_indice(char_indice, max_len_char):\n",
        "  if len(char_indice) >= max_len_char: \n",
        "    return char_indice[0:max_len_char+1]\n",
        "  else:\n",
        "    return char_indice + ['0']*(max_len_char - len(char_indice))\n",
        "\n",
        "def integer_coding(sentences):\n",
        "  char_indice = [char_to_index[char] for char in sentences]\n",
        "  char_indice = padding_char_indice(char_indice, max_len_char)\n",
        "  return char_indice\n",
        "\n",
        "for i in range(len(ppi)):\n",
        "  ppi['Protein_A_sequence'][i] =  integer_coding(list(ppi['Protein_A_sequence'][i]))\n",
        "  ppi['Protein_B_sequence'][i] =  integer_coding(list(ppi['Protein_B_sequence'][i]))"
      ]
    },
    {
      "cell_type": "code",
      "execution_count": null,
      "metadata": {
        "id": "Lsm5Dk81ZZET"
      },
      "outputs": [],
      "source": [
        "ppi['Sequence'] = ppi['Protein_A_sequence']\n",
        "for i in range(len(ppi)):\n",
        "  ppi['Sequence'][i] = ppi['Protein_A_sequence'][i] + ppi['Protein_B_sequence'][i]\n",
        "ppi.head()"
      ]
    },
    {
      "cell_type": "code",
      "execution_count": null,
      "metadata": {
        "id": "xLyD2wtjZkA6"
      },
      "outputs": [],
      "source": [
        "dataset = pd.DataFrame()\n",
        "dataset['x'] = ppi['Sequence'][:100000]\n",
        "dataset['y'] = ppi['Interaction'][:100000]\n",
        "dataset.describe()"
      ]
    },
    {
      "cell_type": "code",
      "execution_count": null,
      "metadata": {
        "id": "aOZtWBg2Zmey"
      },
      "outputs": [],
      "source": [
        "def vectorize(sequences, dimension = 23):\n",
        "  results = np.zeros((2000, dimension))\n",
        "  for i, sequence in enumerate(sequences[:2000]):\n",
        "    try:\n",
        "      results[i, int(sequence)] = 1\n",
        "    except TypeError as e :\n",
        "      print(sequence)\n",
        "  return results.astype('float32')\n",
        "\n",
        "for i in range(len(dataset['x'])):\n",
        "  dataset['x'][i] = vectorize(dataset['x'][i])\n",
        "\n",
        "dataset"
      ]
    },
    {
      "cell_type": "code",
      "execution_count": null,
      "metadata": {
        "id": "ltn1kxM1Zodr"
      },
      "outputs": [],
      "source": [
        "data_x = np.stack(\n",
        "                   dataset['x'].values\n",
        ")\n",
        "data_y = np.stack(\n",
        "                   dataset['y'].values\n",
        ").T\n",
        "print(data_x.shape, data_y.shape)"
      ]
    },
    {
      "cell_type": "code",
      "execution_count": null,
      "metadata": {
        "id": "5nC463yzZquk"
      },
      "outputs": [],
      "source": [
        "train_x, valid_x, train_y, valid_y = train_test_split(data_x, data_y, test_size = 0.1)\n",
        "valid_x, test_x, valid_y, test_y = train_test_split(valid_x, valid_y, test_size = 0.5)\n",
        "print(\n",
        "    train_x.shape, train_y.shape, \n",
        "    valid_x.shape, valid_y.shape,\n",
        "    test_x.shape, test_y.shape\n",
        ")"
      ]
    },
    {
      "cell_type": "code",
      "execution_count": null,
      "metadata": {
        "id": "oAfM5XidZsps"
      },
      "outputs": [],
      "source": [
        "model = keras.models.Sequential()\n",
        "model.add(keras.layers.Flatten())\n",
        "model.add(keras.layers.Dense(16, activation = 'relu', input_shape = (46000, )))\n",
        "model.add(keras.layers.Dense(16, activation = 'relu'))\n",
        "model.add(keras.layers.Dense(1, activation = 'sigmoid'))\n",
        "model.compile(\n",
        "    optimizer = 'adam',\n",
        "    loss = 'binary_crossentropy',\n",
        "    metrics = ['accuracy']\n",
        ")\n",
        "model.summary()"
      ]
    },
    {
      "cell_type": "code",
      "execution_count": null,
      "metadata": {
        "id": "12Ln16DHZuBD"
      },
      "outputs": [],
      "source": [
        "history = model.fit(\n",
        "    x = train_x, \n",
        "    y = train_y, \n",
        "    batch_size = 512, \n",
        "    epochs = 20, \n",
        "    verbose = 'auto',\n",
        "    validation_data = (valid_x, valid_y),\n",
        "    shuffle = True,\n",
        ")"
      ]
    },
    {
      "cell_type": "code",
      "execution_count": null,
      "metadata": {
        "id": "iGpPX-gtZv1a"
      },
      "outputs": [],
      "source": [
        "plt.plot(history.history['loss'])\n",
        "plt.plot(history.history['val_loss'])\n",
        "plt.title('model_loss')\n",
        "plt.ylabel('loss')\n",
        "plt.xlabel('epoch')\n",
        "plt.legend(['train', 'val'], loc = 'upper left')\n",
        "plt.show()"
      ]
    }
  ],
  "metadata": {
    "accelerator": "TPU",
    "colab": {
      "machine_shape": "hm",
      "name": "experiment 7",
      "provenance": []
    },
    "kernelspec": {
      "display_name": "Python 3",
      "name": "python3"
    },
    "language_info": {
      "name": "python"
    }
  },
  "nbformat": 4,
  "nbformat_minor": 0
}