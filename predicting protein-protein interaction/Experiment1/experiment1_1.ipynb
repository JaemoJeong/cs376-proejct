{
  "nbformat": 4,
  "nbformat_minor": 0,
  "metadata": {
    "colab": {
      "name": "experiment 6",
      "provenance": []
    },
    "kernelspec": {
      "name": "python3",
      "display_name": "Python 3"
    },
    "language_info": {
      "name": "python"
    }
  },
  "cells": [
    {
      "cell_type": "code",
      "execution_count": null,
      "metadata": {
        "id": "ipODEhnCOHFq"
      },
      "outputs": [],
      "source": [
        "import numpy as np\n",
        "import pandas as pd\n",
        "import tensorflow as tf\n",
        "import tensorflow.keras as keras\n",
        "from matplotlib import pyplot as plt\n",
        "from sklearn.model_selection import train_test_split\n",
        "tf.config.run_functions_eagerly(True)"
      ]
    },
    {
      "cell_type": "code",
      "source": [
        "from google.colab import drive\n",
        "drive.mount('/content/drive')"
      ],
      "metadata": {
        "colab": {
          "base_uri": "https://localhost:8080/"
        },
        "id": "UG943DXvOL3C",
        "outputId": "35af1441-8090-4b4f-cfc6-882205decd5b"
      },
      "execution_count": null,
      "outputs": [
        {
          "output_type": "stream",
          "name": "stdout",
          "text": [
            "Drive already mounted at /content/drive; to attempt to forcibly remount, call drive.mount(\"/content/drive\", force_remount=True).\n"
          ]
        }
      ]
    },
    {
      "cell_type": "code",
      "source": [
        "ppi = pd.read_csv('/content/drive/My Drive/Colab Notebooks/ppi_human.txt', sep = '\\t')\n",
        "print(len(ppi))\n",
        "ppi.head()"
      ],
      "metadata": {
        "colab": {
          "base_uri": "https://localhost:8080/",
          "height": 224
        },
        "id": "CglnqgOoOw15",
        "outputId": "8e117627-127c-4f5f-a1ff-463c5b224992"
      },
      "execution_count": null,
      "outputs": [
        {
          "output_type": "stream",
          "name": "stdout",
          "text": [
            "315934\n"
          ]
        },
        {
          "output_type": "execute_result",
          "data": {
            "text/plain": [
              "   Protein_A_idx  Protein_B_idx  Interaction Uniprot_A Uniprot_B\n",
              "0          11777            537        0.045    Q9HCE7    Q9BYM8\n",
              "1          11777           5865        0.508    Q9HCE7    P51668\n",
              "2          11777          10925        0.080    Q9HCE7    P17844\n",
              "3          11777           6695        0.156    Q9HCE7    P38646\n",
              "4          11777           4966        0.264    Q9HCE7    Q9H469"
            ],
            "text/html": [
              "\n",
              "  <div id=\"df-0604ac88-4f11-49f0-844a-3a14cf134c00\">\n",
              "    <div class=\"colab-df-container\">\n",
              "      <div>\n",
              "<style scoped>\n",
              "    .dataframe tbody tr th:only-of-type {\n",
              "        vertical-align: middle;\n",
              "    }\n",
              "\n",
              "    .dataframe tbody tr th {\n",
              "        vertical-align: top;\n",
              "    }\n",
              "\n",
              "    .dataframe thead th {\n",
              "        text-align: right;\n",
              "    }\n",
              "</style>\n",
              "<table border=\"1\" class=\"dataframe\">\n",
              "  <thead>\n",
              "    <tr style=\"text-align: right;\">\n",
              "      <th></th>\n",
              "      <th>Protein_A_idx</th>\n",
              "      <th>Protein_B_idx</th>\n",
              "      <th>Interaction</th>\n",
              "      <th>Uniprot_A</th>\n",
              "      <th>Uniprot_B</th>\n",
              "    </tr>\n",
              "  </thead>\n",
              "  <tbody>\n",
              "    <tr>\n",
              "      <th>0</th>\n",
              "      <td>11777</td>\n",
              "      <td>537</td>\n",
              "      <td>0.045</td>\n",
              "      <td>Q9HCE7</td>\n",
              "      <td>Q9BYM8</td>\n",
              "    </tr>\n",
              "    <tr>\n",
              "      <th>1</th>\n",
              "      <td>11777</td>\n",
              "      <td>5865</td>\n",
              "      <td>0.508</td>\n",
              "      <td>Q9HCE7</td>\n",
              "      <td>P51668</td>\n",
              "    </tr>\n",
              "    <tr>\n",
              "      <th>2</th>\n",
              "      <td>11777</td>\n",
              "      <td>10925</td>\n",
              "      <td>0.080</td>\n",
              "      <td>Q9HCE7</td>\n",
              "      <td>P17844</td>\n",
              "    </tr>\n",
              "    <tr>\n",
              "      <th>3</th>\n",
              "      <td>11777</td>\n",
              "      <td>6695</td>\n",
              "      <td>0.156</td>\n",
              "      <td>Q9HCE7</td>\n",
              "      <td>P38646</td>\n",
              "    </tr>\n",
              "    <tr>\n",
              "      <th>4</th>\n",
              "      <td>11777</td>\n",
              "      <td>4966</td>\n",
              "      <td>0.264</td>\n",
              "      <td>Q9HCE7</td>\n",
              "      <td>Q9H469</td>\n",
              "    </tr>\n",
              "  </tbody>\n",
              "</table>\n",
              "</div>\n",
              "      <button class=\"colab-df-convert\" onclick=\"convertToInteractive('df-0604ac88-4f11-49f0-844a-3a14cf134c00')\"\n",
              "              title=\"Convert this dataframe to an interactive table.\"\n",
              "              style=\"display:none;\">\n",
              "        \n",
              "  <svg xmlns=\"http://www.w3.org/2000/svg\" height=\"24px\"viewBox=\"0 0 24 24\"\n",
              "       width=\"24px\">\n",
              "    <path d=\"M0 0h24v24H0V0z\" fill=\"none\"/>\n",
              "    <path d=\"M18.56 5.44l.94 2.06.94-2.06 2.06-.94-2.06-.94-.94-2.06-.94 2.06-2.06.94zm-11 1L8.5 8.5l.94-2.06 2.06-.94-2.06-.94L8.5 2.5l-.94 2.06-2.06.94zm10 10l.94 2.06.94-2.06 2.06-.94-2.06-.94-.94-2.06-.94 2.06-2.06.94z\"/><path d=\"M17.41 7.96l-1.37-1.37c-.4-.4-.92-.59-1.43-.59-.52 0-1.04.2-1.43.59L10.3 9.45l-7.72 7.72c-.78.78-.78 2.05 0 2.83L4 21.41c.39.39.9.59 1.41.59.51 0 1.02-.2 1.41-.59l7.78-7.78 2.81-2.81c.8-.78.8-2.07 0-2.86zM5.41 20L4 18.59l7.72-7.72 1.47 1.35L5.41 20z\"/>\n",
              "  </svg>\n",
              "      </button>\n",
              "      \n",
              "  <style>\n",
              "    .colab-df-container {\n",
              "      display:flex;\n",
              "      flex-wrap:wrap;\n",
              "      gap: 12px;\n",
              "    }\n",
              "\n",
              "    .colab-df-convert {\n",
              "      background-color: #E8F0FE;\n",
              "      border: none;\n",
              "      border-radius: 50%;\n",
              "      cursor: pointer;\n",
              "      display: none;\n",
              "      fill: #1967D2;\n",
              "      height: 32px;\n",
              "      padding: 0 0 0 0;\n",
              "      width: 32px;\n",
              "    }\n",
              "\n",
              "    .colab-df-convert:hover {\n",
              "      background-color: #E2EBFA;\n",
              "      box-shadow: 0px 1px 2px rgba(60, 64, 67, 0.3), 0px 1px 3px 1px rgba(60, 64, 67, 0.15);\n",
              "      fill: #174EA6;\n",
              "    }\n",
              "\n",
              "    [theme=dark] .colab-df-convert {\n",
              "      background-color: #3B4455;\n",
              "      fill: #D2E3FC;\n",
              "    }\n",
              "\n",
              "    [theme=dark] .colab-df-convert:hover {\n",
              "      background-color: #434B5C;\n",
              "      box-shadow: 0px 1px 3px 1px rgba(0, 0, 0, 0.15);\n",
              "      filter: drop-shadow(0px 1px 2px rgba(0, 0, 0, 0.3));\n",
              "      fill: #FFFFFF;\n",
              "    }\n",
              "  </style>\n",
              "\n",
              "      <script>\n",
              "        const buttonEl =\n",
              "          document.querySelector('#df-0604ac88-4f11-49f0-844a-3a14cf134c00 button.colab-df-convert');\n",
              "        buttonEl.style.display =\n",
              "          google.colab.kernel.accessAllowed ? 'block' : 'none';\n",
              "\n",
              "        async function convertToInteractive(key) {\n",
              "          const element = document.querySelector('#df-0604ac88-4f11-49f0-844a-3a14cf134c00');\n",
              "          const dataTable =\n",
              "            await google.colab.kernel.invokeFunction('convertToInteractive',\n",
              "                                                     [key], {});\n",
              "          if (!dataTable) return;\n",
              "\n",
              "          const docLinkHtml = 'Like what you see? Visit the ' +\n",
              "            '<a target=\"_blank\" href=https://colab.research.google.com/notebooks/data_table.ipynb>data table notebook</a>'\n",
              "            + ' to learn more about interactive tables.';\n",
              "          element.innerHTML = '';\n",
              "          dataTable['output_type'] = 'display_data';\n",
              "          await google.colab.output.renderOutput(dataTable, element);\n",
              "          const docLink = document.createElement('div');\n",
              "          docLink.innerHTML = docLinkHtml;\n",
              "          element.appendChild(docLink);\n",
              "        }\n",
              "      </script>\n",
              "    </div>\n",
              "  </div>\n",
              "  "
            ]
          },
          "metadata": {},
          "execution_count": 37
        }
      ]
    },
    {
      "cell_type": "code",
      "source": [
        "ppi['Interaction'] = (ppi['Interaction'] > 0).astype(int)\n",
        "ppi.head()"
      ],
      "metadata": {
        "colab": {
          "base_uri": "https://localhost:8080/",
          "height": 206
        },
        "id": "cmQ6HtuIRfIf",
        "outputId": "1af6a715-de03-4262-9afa-114e24d24b17"
      },
      "execution_count": null,
      "outputs": [
        {
          "output_type": "execute_result",
          "data": {
            "text/plain": [
              "   Protein_A_idx  Protein_B_idx  Interaction Uniprot_A Uniprot_B\n",
              "0          11777            537            1    Q9HCE7    Q9BYM8\n",
              "1          11777           5865            1    Q9HCE7    P51668\n",
              "2          11777          10925            1    Q9HCE7    P17844\n",
              "3          11777           6695            1    Q9HCE7    P38646\n",
              "4          11777           4966            1    Q9HCE7    Q9H469"
            ],
            "text/html": [
              "\n",
              "  <div id=\"df-193776e1-16bc-465d-af0a-cb0cb561b84f\">\n",
              "    <div class=\"colab-df-container\">\n",
              "      <div>\n",
              "<style scoped>\n",
              "    .dataframe tbody tr th:only-of-type {\n",
              "        vertical-align: middle;\n",
              "    }\n",
              "\n",
              "    .dataframe tbody tr th {\n",
              "        vertical-align: top;\n",
              "    }\n",
              "\n",
              "    .dataframe thead th {\n",
              "        text-align: right;\n",
              "    }\n",
              "</style>\n",
              "<table border=\"1\" class=\"dataframe\">\n",
              "  <thead>\n",
              "    <tr style=\"text-align: right;\">\n",
              "      <th></th>\n",
              "      <th>Protein_A_idx</th>\n",
              "      <th>Protein_B_idx</th>\n",
              "      <th>Interaction</th>\n",
              "      <th>Uniprot_A</th>\n",
              "      <th>Uniprot_B</th>\n",
              "    </tr>\n",
              "  </thead>\n",
              "  <tbody>\n",
              "    <tr>\n",
              "      <th>0</th>\n",
              "      <td>11777</td>\n",
              "      <td>537</td>\n",
              "      <td>1</td>\n",
              "      <td>Q9HCE7</td>\n",
              "      <td>Q9BYM8</td>\n",
              "    </tr>\n",
              "    <tr>\n",
              "      <th>1</th>\n",
              "      <td>11777</td>\n",
              "      <td>5865</td>\n",
              "      <td>1</td>\n",
              "      <td>Q9HCE7</td>\n",
              "      <td>P51668</td>\n",
              "    </tr>\n",
              "    <tr>\n",
              "      <th>2</th>\n",
              "      <td>11777</td>\n",
              "      <td>10925</td>\n",
              "      <td>1</td>\n",
              "      <td>Q9HCE7</td>\n",
              "      <td>P17844</td>\n",
              "    </tr>\n",
              "    <tr>\n",
              "      <th>3</th>\n",
              "      <td>11777</td>\n",
              "      <td>6695</td>\n",
              "      <td>1</td>\n",
              "      <td>Q9HCE7</td>\n",
              "      <td>P38646</td>\n",
              "    </tr>\n",
              "    <tr>\n",
              "      <th>4</th>\n",
              "      <td>11777</td>\n",
              "      <td>4966</td>\n",
              "      <td>1</td>\n",
              "      <td>Q9HCE7</td>\n",
              "      <td>Q9H469</td>\n",
              "    </tr>\n",
              "  </tbody>\n",
              "</table>\n",
              "</div>\n",
              "      <button class=\"colab-df-convert\" onclick=\"convertToInteractive('df-193776e1-16bc-465d-af0a-cb0cb561b84f')\"\n",
              "              title=\"Convert this dataframe to an interactive table.\"\n",
              "              style=\"display:none;\">\n",
              "        \n",
              "  <svg xmlns=\"http://www.w3.org/2000/svg\" height=\"24px\"viewBox=\"0 0 24 24\"\n",
              "       width=\"24px\">\n",
              "    <path d=\"M0 0h24v24H0V0z\" fill=\"none\"/>\n",
              "    <path d=\"M18.56 5.44l.94 2.06.94-2.06 2.06-.94-2.06-.94-.94-2.06-.94 2.06-2.06.94zm-11 1L8.5 8.5l.94-2.06 2.06-.94-2.06-.94L8.5 2.5l-.94 2.06-2.06.94zm10 10l.94 2.06.94-2.06 2.06-.94-2.06-.94-.94-2.06-.94 2.06-2.06.94z\"/><path d=\"M17.41 7.96l-1.37-1.37c-.4-.4-.92-.59-1.43-.59-.52 0-1.04.2-1.43.59L10.3 9.45l-7.72 7.72c-.78.78-.78 2.05 0 2.83L4 21.41c.39.39.9.59 1.41.59.51 0 1.02-.2 1.41-.59l7.78-7.78 2.81-2.81c.8-.78.8-2.07 0-2.86zM5.41 20L4 18.59l7.72-7.72 1.47 1.35L5.41 20z\"/>\n",
              "  </svg>\n",
              "      </button>\n",
              "      \n",
              "  <style>\n",
              "    .colab-df-container {\n",
              "      display:flex;\n",
              "      flex-wrap:wrap;\n",
              "      gap: 12px;\n",
              "    }\n",
              "\n",
              "    .colab-df-convert {\n",
              "      background-color: #E8F0FE;\n",
              "      border: none;\n",
              "      border-radius: 50%;\n",
              "      cursor: pointer;\n",
              "      display: none;\n",
              "      fill: #1967D2;\n",
              "      height: 32px;\n",
              "      padding: 0 0 0 0;\n",
              "      width: 32px;\n",
              "    }\n",
              "\n",
              "    .colab-df-convert:hover {\n",
              "      background-color: #E2EBFA;\n",
              "      box-shadow: 0px 1px 2px rgba(60, 64, 67, 0.3), 0px 1px 3px 1px rgba(60, 64, 67, 0.15);\n",
              "      fill: #174EA6;\n",
              "    }\n",
              "\n",
              "    [theme=dark] .colab-df-convert {\n",
              "      background-color: #3B4455;\n",
              "      fill: #D2E3FC;\n",
              "    }\n",
              "\n",
              "    [theme=dark] .colab-df-convert:hover {\n",
              "      background-color: #434B5C;\n",
              "      box-shadow: 0px 1px 3px 1px rgba(0, 0, 0, 0.15);\n",
              "      filter: drop-shadow(0px 1px 2px rgba(0, 0, 0, 0.3));\n",
              "      fill: #FFFFFF;\n",
              "    }\n",
              "  </style>\n",
              "\n",
              "      <script>\n",
              "        const buttonEl =\n",
              "          document.querySelector('#df-193776e1-16bc-465d-af0a-cb0cb561b84f button.colab-df-convert');\n",
              "        buttonEl.style.display =\n",
              "          google.colab.kernel.accessAllowed ? 'block' : 'none';\n",
              "\n",
              "        async function convertToInteractive(key) {\n",
              "          const element = document.querySelector('#df-193776e1-16bc-465d-af0a-cb0cb561b84f');\n",
              "          const dataTable =\n",
              "            await google.colab.kernel.invokeFunction('convertToInteractive',\n",
              "                                                     [key], {});\n",
              "          if (!dataTable) return;\n",
              "\n",
              "          const docLinkHtml = 'Like what you see? Visit the ' +\n",
              "            '<a target=\"_blank\" href=https://colab.research.google.com/notebooks/data_table.ipynb>data table notebook</a>'\n",
              "            + ' to learn more about interactive tables.';\n",
              "          element.innerHTML = '';\n",
              "          dataTable['output_type'] = 'display_data';\n",
              "          await google.colab.output.renderOutput(dataTable, element);\n",
              "          const docLink = document.createElement('div');\n",
              "          docLink.innerHTML = docLinkHtml;\n",
              "          element.appendChild(docLink);\n",
              "        }\n",
              "      </script>\n",
              "    </div>\n",
              "  </div>\n",
              "  "
            ]
          },
          "metadata": {},
          "execution_count": 38
        }
      ]
    },
    {
      "cell_type": "code",
      "source": [
        "num_of_protein_A = len(ppi['Protein_A_idx'].unique())\n",
        "num_of_protein_B = len(ppi['Protein_B_idx'].unique())"
      ],
      "metadata": {
        "id": "s6EtsW6bSLLI"
      },
      "execution_count": null,
      "outputs": []
    },
    {
      "cell_type": "code",
      "source": [
        "def compile_model(num_of_user, num_of_item, learning_rate = 0.001):\n",
        "  VECTOR_DIMENSION = 8\n",
        "\n",
        "  protein_A_input = keras.layers.Input((1,))\n",
        "  protein_A_embedding = keras.layers.Embedding(num_of_protein_A, VECTOR_DIMENSION, input_length = 1, name = 'protein_A_embedding')\n",
        "  protein_A = protein_A_embedding(protein_A_input)\n",
        "  protein_A = keras.layers.Reshape((VECTOR_DIMENSION, 1))(protein_A)\n",
        "\n",
        "  protein_B_input = keras.layers.Input((1,))\n",
        "  protein_B_embedding = keras.layers.Embedding(num_of_protein_B, VECTOR_DIMENSION, input_length = 1, name = 'protein_B_embedding')\n",
        "  protein_B = protein_B_embedding(protein_B_input)\n",
        "  protein_B = keras.layers.Reshape((VECTOR_DIMENSION, 1))(protein_B)\n",
        "\n",
        "  dot_product = keras.layers.dot([protein_A, protein_B], axes = 1)\n",
        "  output = keras.layers.Activation('sigmoid')(dot_product)\n",
        "\n",
        "  model = keras.models.Model(inputs=[protein_A_input, protein_B_input], outputs = output)\n",
        "  model.compile(\n",
        "      loss = 'binary_crossentropy',\n",
        "      optimizer = keras.optimizers.Adam(learning_rate = learning_rate),\n",
        "      metrics = ['binary_accuracy'],\n",
        "  )\n",
        "  return model\n",
        "\n",
        "model = compile_model(num_of_protein_A, num_of_protein_B)\n",
        "model.summary()"
      ],
      "metadata": {
        "colab": {
          "base_uri": "https://localhost:8080/"
        },
        "id": "hwzrtXu4Sz_v",
        "outputId": "0e99818f-b650-4847-b9a0-7c27c47bacb6"
      },
      "execution_count": null,
      "outputs": [
        {
          "output_type": "stream",
          "name": "stdout",
          "text": [
            "Model: \"model_8\"\n",
            "__________________________________________________________________________________________________\n",
            " Layer (type)                   Output Shape         Param #     Connected to                     \n",
            "==================================================================================================\n",
            " input_19 (InputLayer)          [(None, 1)]          0           []                               \n",
            "                                                                                                  \n",
            " input_20 (InputLayer)          [(None, 1)]          0           []                               \n",
            "                                                                                                  \n",
            " protein_A_embedding (Embedding  (None, 1, 8)        115232      ['input_19[0][0]']               \n",
            " )                                                                                                \n",
            "                                                                                                  \n",
            " protein_B_embedding (Embedding  (None, 1, 8)        115120      ['input_20[0][0]']               \n",
            " )                                                                                                \n",
            "                                                                                                  \n",
            " reshape_32 (Reshape)           (None, 8, 1)         0           ['protein_A_embedding[0][0]']    \n",
            "                                                                                                  \n",
            " reshape_33 (Reshape)           (None, 8, 1)         0           ['protein_B_embedding[0][0]']    \n",
            "                                                                                                  \n",
            " dot_8 (Dot)                    (None, 1, 1)         0           ['reshape_32[0][0]',             \n",
            "                                                                  'reshape_33[0][0]']             \n",
            "                                                                                                  \n",
            " activation_8 (Activation)      (None, 1, 1)         0           ['dot_8[0][0]']                  \n",
            "                                                                                                  \n",
            "==================================================================================================\n",
            "Total params: 230,352\n",
            "Trainable params: 230,352\n",
            "Non-trainable params: 0\n",
            "__________________________________________________________________________________________________\n"
          ]
        }
      ]
    },
    {
      "cell_type": "code",
      "source": [
        "pa2idx = {v: k for k, v in dict(enumerate(ppi['Protein_A_idx'].unique())).items()}\n",
        "pb2idx = {v: k for k, v in dict(enumerate(ppi['Protein_B_idx'].unique())).items()}\n",
        "\n",
        "dataset = pd.DataFrame()\n",
        "dataset['paidx'] = ppi['Protein_A_idx'].map(pa2idx.get)\n",
        "dataset['pbidx'] = ppi['Protein_B_idx'].map(pb2idx.get)\n",
        "dataset['y'] = ppi['Interaction']\n",
        "dataset"
      ],
      "metadata": {
        "colab": {
          "base_uri": "https://localhost:8080/",
          "height": 424
        },
        "id": "Fc7XptUKS4QI",
        "outputId": "327d3190-fb80-4494-fbc7-da3d03a7af8a"
      },
      "execution_count": null,
      "outputs": [
        {
          "output_type": "execute_result",
          "data": {
            "text/plain": [
              "        paidx  pbidx  y\n",
              "0           0      0  1\n",
              "1           0      1  1\n",
              "2           0      2  1\n",
              "3           0      3  1\n",
              "4           0      4  1\n",
              "...       ...    ... ..\n",
              "315929   5409   6185  0\n",
              "315930   9149  10338  0\n",
              "315931    472  13901  0\n",
              "315932  11791   4912  0\n",
              "315933   6142    504  0\n",
              "\n",
              "[315934 rows x 3 columns]"
            ],
            "text/html": [
              "\n",
              "  <div id=\"df-3bea6051-937d-4ad3-b353-193b0a7ce523\">\n",
              "    <div class=\"colab-df-container\">\n",
              "      <div>\n",
              "<style scoped>\n",
              "    .dataframe tbody tr th:only-of-type {\n",
              "        vertical-align: middle;\n",
              "    }\n",
              "\n",
              "    .dataframe tbody tr th {\n",
              "        vertical-align: top;\n",
              "    }\n",
              "\n",
              "    .dataframe thead th {\n",
              "        text-align: right;\n",
              "    }\n",
              "</style>\n",
              "<table border=\"1\" class=\"dataframe\">\n",
              "  <thead>\n",
              "    <tr style=\"text-align: right;\">\n",
              "      <th></th>\n",
              "      <th>paidx</th>\n",
              "      <th>pbidx</th>\n",
              "      <th>y</th>\n",
              "    </tr>\n",
              "  </thead>\n",
              "  <tbody>\n",
              "    <tr>\n",
              "      <th>0</th>\n",
              "      <td>0</td>\n",
              "      <td>0</td>\n",
              "      <td>1</td>\n",
              "    </tr>\n",
              "    <tr>\n",
              "      <th>1</th>\n",
              "      <td>0</td>\n",
              "      <td>1</td>\n",
              "      <td>1</td>\n",
              "    </tr>\n",
              "    <tr>\n",
              "      <th>2</th>\n",
              "      <td>0</td>\n",
              "      <td>2</td>\n",
              "      <td>1</td>\n",
              "    </tr>\n",
              "    <tr>\n",
              "      <th>3</th>\n",
              "      <td>0</td>\n",
              "      <td>3</td>\n",
              "      <td>1</td>\n",
              "    </tr>\n",
              "    <tr>\n",
              "      <th>4</th>\n",
              "      <td>0</td>\n",
              "      <td>4</td>\n",
              "      <td>1</td>\n",
              "    </tr>\n",
              "    <tr>\n",
              "      <th>...</th>\n",
              "      <td>...</td>\n",
              "      <td>...</td>\n",
              "      <td>...</td>\n",
              "    </tr>\n",
              "    <tr>\n",
              "      <th>315929</th>\n",
              "      <td>5409</td>\n",
              "      <td>6185</td>\n",
              "      <td>0</td>\n",
              "    </tr>\n",
              "    <tr>\n",
              "      <th>315930</th>\n",
              "      <td>9149</td>\n",
              "      <td>10338</td>\n",
              "      <td>0</td>\n",
              "    </tr>\n",
              "    <tr>\n",
              "      <th>315931</th>\n",
              "      <td>472</td>\n",
              "      <td>13901</td>\n",
              "      <td>0</td>\n",
              "    </tr>\n",
              "    <tr>\n",
              "      <th>315932</th>\n",
              "      <td>11791</td>\n",
              "      <td>4912</td>\n",
              "      <td>0</td>\n",
              "    </tr>\n",
              "    <tr>\n",
              "      <th>315933</th>\n",
              "      <td>6142</td>\n",
              "      <td>504</td>\n",
              "      <td>0</td>\n",
              "    </tr>\n",
              "  </tbody>\n",
              "</table>\n",
              "<p>315934 rows × 3 columns</p>\n",
              "</div>\n",
              "      <button class=\"colab-df-convert\" onclick=\"convertToInteractive('df-3bea6051-937d-4ad3-b353-193b0a7ce523')\"\n",
              "              title=\"Convert this dataframe to an interactive table.\"\n",
              "              style=\"display:none;\">\n",
              "        \n",
              "  <svg xmlns=\"http://www.w3.org/2000/svg\" height=\"24px\"viewBox=\"0 0 24 24\"\n",
              "       width=\"24px\">\n",
              "    <path d=\"M0 0h24v24H0V0z\" fill=\"none\"/>\n",
              "    <path d=\"M18.56 5.44l.94 2.06.94-2.06 2.06-.94-2.06-.94-.94-2.06-.94 2.06-2.06.94zm-11 1L8.5 8.5l.94-2.06 2.06-.94-2.06-.94L8.5 2.5l-.94 2.06-2.06.94zm10 10l.94 2.06.94-2.06 2.06-.94-2.06-.94-.94-2.06-.94 2.06-2.06.94z\"/><path d=\"M17.41 7.96l-1.37-1.37c-.4-.4-.92-.59-1.43-.59-.52 0-1.04.2-1.43.59L10.3 9.45l-7.72 7.72c-.78.78-.78 2.05 0 2.83L4 21.41c.39.39.9.59 1.41.59.51 0 1.02-.2 1.41-.59l7.78-7.78 2.81-2.81c.8-.78.8-2.07 0-2.86zM5.41 20L4 18.59l7.72-7.72 1.47 1.35L5.41 20z\"/>\n",
              "  </svg>\n",
              "      </button>\n",
              "      \n",
              "  <style>\n",
              "    .colab-df-container {\n",
              "      display:flex;\n",
              "      flex-wrap:wrap;\n",
              "      gap: 12px;\n",
              "    }\n",
              "\n",
              "    .colab-df-convert {\n",
              "      background-color: #E8F0FE;\n",
              "      border: none;\n",
              "      border-radius: 50%;\n",
              "      cursor: pointer;\n",
              "      display: none;\n",
              "      fill: #1967D2;\n",
              "      height: 32px;\n",
              "      padding: 0 0 0 0;\n",
              "      width: 32px;\n",
              "    }\n",
              "\n",
              "    .colab-df-convert:hover {\n",
              "      background-color: #E2EBFA;\n",
              "      box-shadow: 0px 1px 2px rgba(60, 64, 67, 0.3), 0px 1px 3px 1px rgba(60, 64, 67, 0.15);\n",
              "      fill: #174EA6;\n",
              "    }\n",
              "\n",
              "    [theme=dark] .colab-df-convert {\n",
              "      background-color: #3B4455;\n",
              "      fill: #D2E3FC;\n",
              "    }\n",
              "\n",
              "    [theme=dark] .colab-df-convert:hover {\n",
              "      background-color: #434B5C;\n",
              "      box-shadow: 0px 1px 3px 1px rgba(0, 0, 0, 0.15);\n",
              "      filter: drop-shadow(0px 1px 2px rgba(0, 0, 0, 0.3));\n",
              "      fill: #FFFFFF;\n",
              "    }\n",
              "  </style>\n",
              "\n",
              "      <script>\n",
              "        const buttonEl =\n",
              "          document.querySelector('#df-3bea6051-937d-4ad3-b353-193b0a7ce523 button.colab-df-convert');\n",
              "        buttonEl.style.display =\n",
              "          google.colab.kernel.accessAllowed ? 'block' : 'none';\n",
              "\n",
              "        async function convertToInteractive(key) {\n",
              "          const element = document.querySelector('#df-3bea6051-937d-4ad3-b353-193b0a7ce523');\n",
              "          const dataTable =\n",
              "            await google.colab.kernel.invokeFunction('convertToInteractive',\n",
              "                                                     [key], {});\n",
              "          if (!dataTable) return;\n",
              "\n",
              "          const docLinkHtml = 'Like what you see? Visit the ' +\n",
              "            '<a target=\"_blank\" href=https://colab.research.google.com/notebooks/data_table.ipynb>data table notebook</a>'\n",
              "            + ' to learn more about interactive tables.';\n",
              "          element.innerHTML = '';\n",
              "          dataTable['output_type'] = 'display_data';\n",
              "          await google.colab.output.renderOutput(dataTable, element);\n",
              "          const docLink = document.createElement('div');\n",
              "          docLink.innerHTML = docLinkHtml;\n",
              "          element.appendChild(docLink);\n",
              "        }\n",
              "      </script>\n",
              "    </div>\n",
              "  </div>\n",
              "  "
            ]
          },
          "metadata": {},
          "execution_count": 41
        }
      ]
    },
    {
      "cell_type": "code",
      "source": [
        "data_x = np.array([\n",
        "                   dataset['paidx'].values, \n",
        "                   dataset['pbidx'].values\n",
        "]).T\n",
        "data_y = np.array([\n",
        "                   dataset['y'].values\n",
        "]).T\n",
        "print(data_x.shape, data_y.shape)\n",
        "train_x, valid_x, train_y, valid_y = train_test_split(data_x, data_y, test_size = 0.1)\n",
        "valid_x, test_x, valid_y, test_y = train_test_split(valid_x, valid_y, test_size = 0.5)\n",
        "print(\n",
        "    train_x.shape, train_y.shape, \n",
        "    valid_x.shape, valid_y.shape,\n",
        "    test_x.shape, test_y.shape\n",
        ")"
      ],
      "metadata": {
        "colab": {
          "base_uri": "https://localhost:8080/"
        },
        "id": "UzNO4GedS9ib",
        "outputId": "27888743-b39c-4284-d950-ed5bd25ead4b"
      },
      "execution_count": null,
      "outputs": [
        {
          "output_type": "stream",
          "name": "stdout",
          "text": [
            "(315934, 2) (315934, 1)\n",
            "(284340, 2) (284340, 1) (15797, 2) (15797, 1) (15797, 2) (15797, 1)\n"
          ]
        }
      ]
    },
    {
      "cell_type": "code",
      "source": [
        "model = compile_model(num_of_protein_A, num_of_protein_B)\n",
        "history = model.fit(\n",
        "    x = (train_x[:,0,None], train_x[:,1,None]),\n",
        "    y = train_y, \n",
        "    batch_size = 512, \n",
        "    epochs = 20, \n",
        "    verbose = 'auto', \n",
        "    validation_data = ((valid_x[:,0,None], valid_x[:,1,None]),valid_y),\n",
        "    shuffle = True, \n",
        ")"
      ],
      "metadata": {
        "colab": {
          "base_uri": "https://localhost:8080/"
        },
        "id": "AWgY_Xj6TAkd",
        "outputId": "85bcdbde-b6b8-4895-8692-90a9954d4ea6"
      },
      "execution_count": null,
      "outputs": [
        {
          "output_type": "stream",
          "name": "stdout",
          "text": [
            "Epoch 1/20\n",
            "  3/556 [..............................] - ETA: 19s - loss: 0.6931 - binary_accuracy: 0.5293"
          ]
        },
        {
          "output_type": "stream",
          "name": "stderr",
          "text": [
            "/usr/local/lib/python3.7/dist-packages/tensorflow/python/data/ops/structured_function.py:265: UserWarning: Even though the `tf.config.experimental_run_functions_eagerly` option is set, this option does not apply to tf.data functions. To force eager execution of tf.data functions, please use `tf.data.experimental.enable_debug_mode()`.\n",
            "  \"Even though the `tf.config.experimental_run_functions_eagerly` \"\n"
          ]
        },
        {
          "output_type": "stream",
          "name": "stdout",
          "text": [
            "556/556 [==============================] - 23s 41ms/step - loss: 0.6930 - binary_accuracy: 0.5232 - val_loss: 0.6920 - val_binary_accuracy: 0.5937\n",
            "Epoch 2/20\n",
            "556/556 [==============================] - 20s 36ms/step - loss: 0.6766 - binary_accuracy: 0.7853 - val_loss: 0.6533 - val_binary_accuracy: 0.7111\n",
            "Epoch 3/20\n",
            "556/556 [==============================] - 30s 55ms/step - loss: 0.6071 - binary_accuracy: 0.8465 - val_loss: 0.5792 - val_binary_accuracy: 0.7451\n",
            "Epoch 4/20\n",
            "556/556 [==============================] - 24s 43ms/step - loss: 0.5307 - binary_accuracy: 0.8579 - val_loss: 0.5249 - val_binary_accuracy: 0.7579\n",
            "Epoch 5/20\n",
            "556/556 [==============================] - 19s 35ms/step - loss: 0.4746 - binary_accuracy: 0.8626 - val_loss: 0.4901 - val_binary_accuracy: 0.7663\n",
            "Epoch 6/20\n",
            "556/556 [==============================] - 22s 40ms/step - loss: 0.4331 - binary_accuracy: 0.8676 - val_loss: 0.4667 - val_binary_accuracy: 0.7769\n",
            "Epoch 7/20\n",
            "556/556 [==============================] - 23s 42ms/step - loss: 0.4003 - binary_accuracy: 0.8738 - val_loss: 0.4498 - val_binary_accuracy: 0.7846\n",
            "Epoch 8/20\n",
            "556/556 [==============================] - 21s 37ms/step - loss: 0.3727 - binary_accuracy: 0.8798 - val_loss: 0.4366 - val_binary_accuracy: 0.7903\n",
            "Epoch 9/20\n",
            "556/556 [==============================] - 24s 43ms/step - loss: 0.3483 - binary_accuracy: 0.8861 - val_loss: 0.4256 - val_binary_accuracy: 0.7957\n",
            "Epoch 10/20\n",
            "556/556 [==============================] - 23s 41ms/step - loss: 0.3264 - binary_accuracy: 0.8924 - val_loss: 0.4164 - val_binary_accuracy: 0.8023\n",
            "Epoch 11/20\n",
            "556/556 [==============================] - 18s 33ms/step - loss: 0.3062 - binary_accuracy: 0.8985 - val_loss: 0.4082 - val_binary_accuracy: 0.8076\n",
            "Epoch 12/20\n",
            "556/556 [==============================] - 24s 42ms/step - loss: 0.2876 - binary_accuracy: 0.9045 - val_loss: 0.4010 - val_binary_accuracy: 0.8119\n",
            "Epoch 13/20\n",
            "556/556 [==============================] - 26s 48ms/step - loss: 0.2702 - binary_accuracy: 0.9103 - val_loss: 0.3948 - val_binary_accuracy: 0.8167\n",
            "Epoch 14/20\n",
            "556/556 [==============================] - 24s 43ms/step - loss: 0.2539 - binary_accuracy: 0.9155 - val_loss: 0.3893 - val_binary_accuracy: 0.8210\n",
            "Epoch 15/20\n",
            "556/556 [==============================] - 18s 32ms/step - loss: 0.2387 - binary_accuracy: 0.9210 - val_loss: 0.3846 - val_binary_accuracy: 0.8241\n",
            "Epoch 16/20\n",
            "556/556 [==============================] - 27s 49ms/step - loss: 0.2244 - binary_accuracy: 0.9259 - val_loss: 0.3808 - val_binary_accuracy: 0.8276\n",
            "Epoch 17/20\n",
            "556/556 [==============================] - 27s 48ms/step - loss: 0.2111 - binary_accuracy: 0.9308 - val_loss: 0.3777 - val_binary_accuracy: 0.8309\n",
            "Epoch 18/20\n",
            "556/556 [==============================] - 32s 57ms/step - loss: 0.1986 - binary_accuracy: 0.9354 - val_loss: 0.3753 - val_binary_accuracy: 0.8323\n",
            "Epoch 19/20\n",
            "556/556 [==============================] - 30s 54ms/step - loss: 0.1869 - binary_accuracy: 0.9396 - val_loss: 0.3736 - val_binary_accuracy: 0.8339\n",
            "Epoch 20/20\n",
            "556/556 [==============================] - 25s 45ms/step - loss: 0.1759 - binary_accuracy: 0.9438 - val_loss: 0.3727 - val_binary_accuracy: 0.8345\n"
          ]
        }
      ]
    },
    {
      "cell_type": "code",
      "source": [
        "plt.plot(history.history['loss'])\n",
        "plt.plot(history.history['val_loss'])\n",
        "plt.title('model_loss')\n",
        "plt.ylabel('loss')\n",
        "plt.xlabel('epoch')\n",
        "plt.legend(['train','val'],loc = 'upper left')\n",
        "plt.show()"
      ],
      "metadata": {
        "id": "TUDTj5QRTCOC",
        "colab": {
          "base_uri": "https://localhost:8080/",
          "height": 295
        },
        "outputId": "d3dadd80-08b2-4564-8a7b-00aaafb86f7a"
      },
      "execution_count": null,
      "outputs": [
        {
          "output_type": "display_data",
          "data": {
            "text/plain": [
              "<Figure size 432x288 with 1 Axes>"
            ],
            "image/png": "[encoded data removed]"
          },
          "metadata": {
            "needs_background": "light"
          }
        }
      ]
    },
    {
      "cell_type": "code",
      "source": [
        "model.evaluate(\n",
        "    x = (test_x[:,0,None], test_x[:,1,None]),\n",
        "    y = test_y\n",
        ")"
      ],
      "metadata": {
        "id": "JKxkan6TTGGO",
        "colab": {
          "base_uri": "https://localhost:8080/"
        },
        "outputId": "97856563-ba02-4a7f-ba38-8ddcc0aa7b5d"
      },
      "execution_count": null,
      "outputs": [
        {
          "output_type": "stream",
          "name": "stderr",
          "text": [
            "/usr/local/lib/python3.7/dist-packages/tensorflow/python/data/ops/structured_function.py:265: UserWarning: Even though the `tf.config.experimental_run_functions_eagerly` option is set, this option does not apply to tf.data functions. To force eager execution of tf.data functions, please use `tf.data.experimental.enable_debug_mode()`.\n",
            "  \"Even though the `tf.config.experimental_run_functions_eagerly` \"\n"
          ]
        },
        {
          "output_type": "stream",
          "name": "stdout",
          "text": [
            "494/494 [==============================] - 11s 23ms/step - loss: 0.3684 - binary_accuracy: 0.8337\n"
          ]
        },
        {
          "output_type": "execute_result",
          "data": {
            "text/plain": [
              "[0.36842843890190125, 0.8337026238441467]"
            ]
          },
          "metadata": {},
          "execution_count": 45
        }
      ]
    },
    {
      "cell_type": "code",
      "source": [
        ""
      ],
      "metadata": {
        "id": "8twvdsLWUcca"
      },
      "execution_count": null,
      "outputs": []
    }
  ]
}