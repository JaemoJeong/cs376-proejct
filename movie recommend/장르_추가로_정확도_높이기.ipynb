{
 "cells": [
  {
   "cell_type": "code",
   "execution_count": 72,
   "id": "a36cd822-5aee-4973-af0a-3bd434516965",
   "metadata": {},
   "outputs": [],
   "source": [
    "import os\n",
    "import pickle\n",
    "\n",
    "import joblib\n",
    "import numpy as np\n",
    "import pandas as pd\n",
    "import tensorflow as tf\n",
    "import tensorflow.keras as keras\n",
    "from sklearn import svm, tree, linear_model\n",
    "from tqdm.notebook import tqdm\n",
    "from sklearn.model_selection import train_test_split"
   ]
  },
  {
   "cell_type": "markdown",
   "id": "603b3cb8-5876-46f7-b2c6-9bb89995d91e",
   "metadata": {},
   "source": [
    "# 장르 추가로 정확도 높이기\n",
    "\n",
    "영화와 영화에 대한 사용자의 취향을 학습한 기존 추천 모델에 장르와 장르에 대한 사용자의 취향을 학습한 장르 추천 모델 데이터를 더해 영화 추천 정확도를 높일 수 있는지 확인합니다.\n",
    "\n",
    "각 벡터를 모두 이어 64 차원의 벡터를 input으로, prefer 여부인 1, 0을 output으로 하는 모델을 학습합니다.\n",
    "\n",
    "`장르 8 + 영화 24 + 장르 사용자 8 + 영화 사용자 24 = 64`\n",
    "\n",
    "장르게 여러 개인 영화의 경우 장르 벡터들의 평균을 사용했습니다.\n",
    "\n",
    "SVM, Decision Tree, Logistic Regression 모델을 시도했습니다.\n",
    "\n",
    "이 중 SVM만이 79.73%로 기존 77.04%보다 더 높은 정확도를 보였습니다."
   ]
  },
  {
   "cell_type": "markdown",
   "id": "88fa3455-1e39-4c22-bbb6-4ca01b296cae",
   "metadata": {},
   "source": [
    "## 학습 데이터 만들기\n",
    "\n",
    "학습 데이터는 사용자의 별점, 영화의 장르, 각 모델의 벡터로 이뤄집니다.\n",
    "\n",
    "먼저, 사용자의 별점, 영화의 장르 데이터를 로드하고, 별점별 영화와 장르를 알 수 있게 join합니다."
   ]
  },
  {
   "cell_type": "code",
   "execution_count": 2,
   "id": "89dc2981-85a0-403d-842a-11840036d119",
   "metadata": {},
   "outputs": [],
   "source": [
    "rating_df = pd.read_csv('./The Movies Dataset/processed_ratings.csv')\n",
    "movie_df = pd.read_csv('./The Movies Dataset/processed_movies.csv')\n",
    "genre_df = pd.read_csv('./The Movies Dataset/genres.csv')"
   ]
  },
  {
   "cell_type": "code",
   "execution_count": 3,
   "id": "77398dbd-1be8-4b23-83ed-f1ffe0dc761d",
   "metadata": {
    "tags": []
   },
   "outputs": [
    {
     "data": {
      "text/html": [
       "<div>\n",
       "<style scoped>\n",
       "    .dataframe tbody tr th:only-of-type {\n",
       "        vertical-align: middle;\n",
       "    }\n",
       "\n",
       "    .dataframe tbody tr th {\n",
       "        vertical-align: top;\n",
       "    }\n",
       "\n",
       "    .dataframe thead th {\n",
       "        text-align: right;\n",
       "    }\n",
       "</style>\n",
       "<table border=\"1\" class=\"dataframe\">\n",
       "  <thead>\n",
       "    <tr style=\"text-align: right;\">\n",
       "      <th></th>\n",
       "      <th>title</th>\n",
       "      <th>genres</th>\n",
       "      <th>original_language</th>\n",
       "      <th>release_date</th>\n",
       "      <th>imdbId</th>\n",
       "    </tr>\n",
       "  </thead>\n",
       "  <tbody>\n",
       "    <tr>\n",
       "      <th>55</th>\n",
       "      <td>Kids of the Round Table</td>\n",
       "      <td>NaN</td>\n",
       "      <td>en</td>\n",
       "      <td>1997-07-08</td>\n",
       "      <td>113541</td>\n",
       "    </tr>\n",
       "    <tr>\n",
       "      <th>83</th>\n",
       "      <td>Last Summer in the Hamptons</td>\n",
       "      <td>NaN</td>\n",
       "      <td>en</td>\n",
       "      <td>1995-11-22</td>\n",
       "      <td>113612</td>\n",
       "    </tr>\n",
       "    <tr>\n",
       "      <th>126</th>\n",
       "      <td>Jupiter's Wife</td>\n",
       "      <td>NaN</td>\n",
       "      <td>en</td>\n",
       "      <td>1995-01-01</td>\n",
       "      <td>110217</td>\n",
       "    </tr>\n",
       "    <tr>\n",
       "      <th>137</th>\n",
       "      <td>Target</td>\n",
       "      <td>NaN</td>\n",
       "      <td>en</td>\n",
       "      <td>1995-08-01</td>\n",
       "      <td>114618</td>\n",
       "    </tr>\n",
       "    <tr>\n",
       "      <th>390</th>\n",
       "      <td>Desert Winds</td>\n",
       "      <td>NaN</td>\n",
       "      <td>en</td>\n",
       "      <td>1997-12-31</td>\n",
       "      <td>112849</td>\n",
       "    </tr>\n",
       "    <tr>\n",
       "      <th>...</th>\n",
       "      <td>...</td>\n",
       "      <td>...</td>\n",
       "      <td>...</td>\n",
       "      <td>...</td>\n",
       "      <td>...</td>\n",
       "    </tr>\n",
       "    <tr>\n",
       "      <th>45424</th>\n",
       "      <td>The Untameable Whiskers</td>\n",
       "      <td>NaN</td>\n",
       "      <td>fr</td>\n",
       "      <td>1904-03-05</td>\n",
       "      <td>135631</td>\n",
       "    </tr>\n",
       "    <tr>\n",
       "      <th>45425</th>\n",
       "      <td>The Imperceptable Transmutations</td>\n",
       "      <td>NaN</td>\n",
       "      <td>fr</td>\n",
       "      <td>1904-01-01</td>\n",
       "      <td>224286</td>\n",
       "    </tr>\n",
       "    <tr>\n",
       "      <th>45432</th>\n",
       "      <td>St. Michael Had a Rooster</td>\n",
       "      <td>NaN</td>\n",
       "      <td>it</td>\n",
       "      <td>1972-01-01</td>\n",
       "      <td>69215</td>\n",
       "    </tr>\n",
       "    <tr>\n",
       "      <th>45441</th>\n",
       "      <td>Satan Triumphant</td>\n",
       "      <td>NaN</td>\n",
       "      <td>en</td>\n",
       "      <td>1917-10-21</td>\n",
       "      <td>8536</td>\n",
       "    </tr>\n",
       "    <tr>\n",
       "      <th>45442</th>\n",
       "      <td>Queerama</td>\n",
       "      <td>NaN</td>\n",
       "      <td>en</td>\n",
       "      <td>2017-06-09</td>\n",
       "      <td>6980792</td>\n",
       "    </tr>\n",
       "  </tbody>\n",
       "</table>\n",
       "<p>2437 rows × 5 columns</p>\n",
       "</div>"
      ],
      "text/plain": [
       "                                  title genres original_language release_date  \\\n",
       "55              Kids of the Round Table    NaN                en   1997-07-08   \n",
       "83          Last Summer in the Hamptons    NaN                en   1995-11-22   \n",
       "126                      Jupiter's Wife    NaN                en   1995-01-01   \n",
       "137                              Target    NaN                en   1995-08-01   \n",
       "390                        Desert Winds    NaN                en   1997-12-31   \n",
       "...                                 ...    ...               ...          ...   \n",
       "45424           The Untameable Whiskers    NaN                fr   1904-03-05   \n",
       "45425  The Imperceptable Transmutations    NaN                fr   1904-01-01   \n",
       "45432         St. Michael Had a Rooster    NaN                it   1972-01-01   \n",
       "45441                  Satan Triumphant    NaN                en   1917-10-21   \n",
       "45442                          Queerama    NaN                en   2017-06-09   \n",
       "\n",
       "        imdbId  \n",
       "55      113541  \n",
       "83      113612  \n",
       "126     110217  \n",
       "137     114618  \n",
       "390     112849  \n",
       "...        ...  \n",
       "45424   135631  \n",
       "45425   224286  \n",
       "45432    69215  \n",
       "45441     8536  \n",
       "45442  6980792  \n",
       "\n",
       "[2437 rows x 5 columns]"
      ]
     },
     "execution_count": 3,
     "metadata": {},
     "output_type": "execute_result"
    }
   ],
   "source": [
    "movie_df.query('genres.isna()')"
   ]
  },
  {
   "cell_type": "code",
   "execution_count": 4,
   "id": "ada7f267-8580-41a2-866d-c37f280590fa",
   "metadata": {},
   "outputs": [
    {
     "data": {
      "text/html": [
       "<div>\n",
       "<style scoped>\n",
       "    .dataframe tbody tr th:only-of-type {\n",
       "        vertical-align: middle;\n",
       "    }\n",
       "\n",
       "    .dataframe tbody tr th {\n",
       "        vertical-align: top;\n",
       "    }\n",
       "\n",
       "    .dataframe thead th {\n",
       "        text-align: right;\n",
       "    }\n",
       "</style>\n",
       "<table border=\"1\" class=\"dataframe\">\n",
       "  <thead>\n",
       "    <tr style=\"text-align: right;\">\n",
       "      <th></th>\n",
       "      <th>userId</th>\n",
       "      <th>rating</th>\n",
       "      <th>timestamp</th>\n",
       "      <th>imdbId</th>\n",
       "      <th>prefer</th>\n",
       "      <th>genres</th>\n",
       "    </tr>\n",
       "  </thead>\n",
       "  <tbody>\n",
       "    <tr>\n",
       "      <th>0</th>\n",
       "      <td>1</td>\n",
       "      <td>1.0</td>\n",
       "      <td>1425941529</td>\n",
       "      <td>112573</td>\n",
       "      <td>0</td>\n",
       "      <td>Action, Drama, History, War</td>\n",
       "    </tr>\n",
       "    <tr>\n",
       "      <th>1</th>\n",
       "      <td>11</td>\n",
       "      <td>3.5</td>\n",
       "      <td>1231676989</td>\n",
       "      <td>112573</td>\n",
       "      <td>1</td>\n",
       "      <td>Action, Drama, History, War</td>\n",
       "    </tr>\n",
       "    <tr>\n",
       "      <th>2</th>\n",
       "      <td>22</td>\n",
       "      <td>5.0</td>\n",
       "      <td>1111937009</td>\n",
       "      <td>112573</td>\n",
       "      <td>1</td>\n",
       "      <td>Action, Drama, History, War</td>\n",
       "    </tr>\n",
       "    <tr>\n",
       "      <th>3</th>\n",
       "      <td>24</td>\n",
       "      <td>5.0</td>\n",
       "      <td>979870012</td>\n",
       "      <td>112573</td>\n",
       "      <td>1</td>\n",
       "      <td>Action, Drama, History, War</td>\n",
       "    </tr>\n",
       "    <tr>\n",
       "      <th>4</th>\n",
       "      <td>29</td>\n",
       "      <td>3.0</td>\n",
       "      <td>1044020005</td>\n",
       "      <td>112573</td>\n",
       "      <td>0</td>\n",
       "      <td>Action, Drama, History, War</td>\n",
       "    </tr>\n",
       "    <tr>\n",
       "      <th>...</th>\n",
       "      <td>...</td>\n",
       "      <td>...</td>\n",
       "      <td>...</td>\n",
       "      <td>...</td>\n",
       "      <td>...</td>\n",
       "      <td>...</td>\n",
       "    </tr>\n",
       "    <tr>\n",
       "      <th>26024283</th>\n",
       "      <td>270887</td>\n",
       "      <td>4.5</td>\n",
       "      <td>1487299002</td>\n",
       "      <td>469810</td>\n",
       "      <td>1</td>\n",
       "      <td>Thriller, Drama</td>\n",
       "    </tr>\n",
       "    <tr>\n",
       "      <th>26024285</th>\n",
       "      <td>270887</td>\n",
       "      <td>5.0</td>\n",
       "      <td>1486961830</td>\n",
       "      <td>487156</td>\n",
       "      <td>1</td>\n",
       "      <td>Action, Thriller</td>\n",
       "    </tr>\n",
       "    <tr>\n",
       "      <th>26024286</th>\n",
       "      <td>270887</td>\n",
       "      <td>4.0</td>\n",
       "      <td>1479088587</td>\n",
       "      <td>3731196</td>\n",
       "      <td>1</td>\n",
       "      <td>Thriller, Drama</td>\n",
       "    </tr>\n",
       "    <tr>\n",
       "      <th>26024287</th>\n",
       "      <td>270887</td>\n",
       "      <td>4.0</td>\n",
       "      <td>1493084042</td>\n",
       "      <td>176326</td>\n",
       "      <td>1</td>\n",
       "      <td>Drama, Thriller</td>\n",
       "    </tr>\n",
       "    <tr>\n",
       "      <th>26024288</th>\n",
       "      <td>270887</td>\n",
       "      <td>5.0</td>\n",
       "      <td>1493040473</td>\n",
       "      <td>4287348</td>\n",
       "      <td>1</td>\n",
       "      <td>Action, Crime, Thriller</td>\n",
       "    </tr>\n",
       "  </tbody>\n",
       "</table>\n",
       "<p>25946710 rows × 6 columns</p>\n",
       "</div>"
      ],
      "text/plain": [
       "          userId  rating   timestamp   imdbId  prefer  \\\n",
       "0              1     1.0  1425941529   112573       0   \n",
       "1             11     3.5  1231676989   112573       1   \n",
       "2             22     5.0  1111937009   112573       1   \n",
       "3             24     5.0   979870012   112573       1   \n",
       "4             29     3.0  1044020005   112573       0   \n",
       "...          ...     ...         ...      ...     ...   \n",
       "26024283  270887     4.5  1487299002   469810       1   \n",
       "26024285  270887     5.0  1486961830   487156       1   \n",
       "26024286  270887     4.0  1479088587  3731196       1   \n",
       "26024287  270887     4.0  1493084042   176326       1   \n",
       "26024288  270887     5.0  1493040473  4287348       1   \n",
       "\n",
       "                               genres  \n",
       "0         Action, Drama, History, War  \n",
       "1         Action, Drama, History, War  \n",
       "2         Action, Drama, History, War  \n",
       "3         Action, Drama, History, War  \n",
       "4         Action, Drama, History, War  \n",
       "...                               ...  \n",
       "26024283              Thriller, Drama  \n",
       "26024285             Action, Thriller  \n",
       "26024286              Thriller, Drama  \n",
       "26024287              Drama, Thriller  \n",
       "26024288      Action, Crime, Thriller  \n",
       "\n",
       "[25946710 rows x 6 columns]"
      ]
     },
     "execution_count": 4,
     "metadata": {},
     "output_type": "execute_result"
    }
   ],
   "source": [
    "genre_rating_df = (\n",
    "    rating_df\n",
    "    .assign(\n",
    "        prefer=lambda df: (df['rating'] >= 3.5).astype(int),\n",
    "    )\n",
    "    .join(\n",
    "        movie_df\n",
    "        .query('~genres.isna()')\n",
    "        [['imdbId', 'genres']]\n",
    "        .set_index('imdbId'), \n",
    "        on='imdbId', \n",
    "        how='inner',\n",
    "    )\n",
    ")\n",
    "genre_rating_df"
   ]
  },
  {
   "cell_type": "markdown",
   "id": "7876d3ee-6d31-4a41-be52-4e756192a6f6",
   "metadata": {},
   "source": [
    "장르 추천 모델과 영화 추천 모델을 불러옵니다.\n",
    "\n",
    "`*2idx` 정보를 불러와 사용자, 영화, 장르의 ID와 모델의 벡터 위치를 매핑합니다.\n",
    "\n",
    "테스트 데이터셋도 함께 가져와 기준이 되는 모델 정확도를 다시 한 번 확인합니다.\n",
    "\n",
    "이 경우 baseline은 기존 영화 추천 모델의 정확도인 `0.7704`입니다."
   ]
  },
  {
   "cell_type": "code",
   "execution_count": 5,
   "id": "804e8db6-5354-4e11-afb6-154fd2d8ced7",
   "metadata": {},
   "outputs": [],
   "source": [
    "def load_dataset(filepath):\n",
    "    with np.load(filepath) as filedata:\n",
    "        return dict(filedata['uid2idx']), dict(filedata['iid2idx']), \\\n",
    "            filedata['train_x'], filedata['train_y'], \\\n",
    "            filedata['valid_x'], filedata['valid_y'], \\\n",
    "            filedata['test_x'], filedata['test_y']"
   ]
  },
  {
   "cell_type": "code",
   "execution_count": null,
   "id": "c8f86c5e-3122-4b8f-a5a4-cc9609f69bf1",
   "metadata": {},
   "outputs": [],
   "source": [
    "genre_model8 = keras.models.load_model('The Movies Dataset/genre8_0.5718.hdf5')"
   ]
  },
  {
   "cell_type": "code",
   "execution_count": 7,
   "id": "85d1a2ac-3677-4a60-be42-e1839f0abe09",
   "metadata": {},
   "outputs": [],
   "source": [
    "filepath = './The Movies Dataset/genre_dataset.npz'\n",
    "genre_uid2idx, genre_iid2idx, _, _, _, _, test_x, test_y = load_dataset(filepath)"
   ]
  },
  {
   "cell_type": "code",
   "execution_count": 8,
   "id": "002c5eed-ed30-438b-af5e-41f6977e09fc",
   "metadata": {
    "tags": []
   },
   "outputs": [
    {
     "name": "stdout",
     "output_type": "stream",
     "text": [
      "625/625 [==============================] - 0s 446us/step - loss: 0.5676 - binary_accuracy: 0.6946\n"
     ]
    },
    {
     "data": {
      "text/plain": [
       "[0.5676388740539551, 0.6946499943733215]"
      ]
     },
     "execution_count": 8,
     "metadata": {},
     "output_type": "execute_result"
    }
   ],
   "source": [
    "genre_model8.evaluate(\n",
    "    x=(test_x[:,0,None], test_x[:,1,None]),\n",
    "    y=test_y\n",
    ")"
   ]
  },
  {
   "cell_type": "code",
   "execution_count": 118,
   "id": "4d9c1146-460a-4289-84e9-86fd6ace4b65",
   "metadata": {},
   "outputs": [],
   "source": [
    "filepath = './The Movies Dataset/rcmd_dataset.npz'\n",
    "rcmd_uid2idx, rcmd_iid2idx, _, _, _, _, test_x, test_y = load_dataset(filepath)"
   ]
  },
  {
   "cell_type": "code",
   "execution_count": 119,
   "id": "32e0b907-d391-40d1-a766-08937d2dfc44",
   "metadata": {},
   "outputs": [],
   "source": [
    "rcmd_model24 = keras.models.load_model('The Movies Dataset/model24_0.4762.hdf5')"
   ]
  },
  {
   "cell_type": "code",
   "execution_count": 120,
   "id": "e09b5a51-9fcd-457e-9139-61be064eedcb",
   "metadata": {},
   "outputs": [
    {
     "name": "stdout",
     "output_type": "stream",
     "text": [
      "625/625 [==============================] - 0s 441us/step - loss: 0.4805 - binary_accuracy: 0.7704\n"
     ]
    },
    {
     "data": {
      "text/plain": [
       "[0.48053163290023804, 0.7703999876976013]"
      ]
     },
     "execution_count": 120,
     "metadata": {},
     "output_type": "execute_result"
    }
   ],
   "source": [
    "rcmd_model24.evaluate(\n",
    "    x=(test_x[:,0,None], test_x[:,1,None]),\n",
    "    y=test_y\n",
    ")"
   ]
  },
  {
   "cell_type": "markdown",
   "id": "26785cbb-b447-4c78-ba19-013cfcda8304",
   "metadata": {},
   "source": [
    "불러온 벡터들을 이어붙여 모델의 학습 데이터를 만듭니다.\n",
    "\n",
    "장르게 여러 개인 영화의 경우 장르 벡터들의 평균을 사용합니다."
   ]
  },
  {
   "cell_type": "code",
   "execution_count": 16,
   "id": "2a96f43c-0c5f-4f94-84f9-f0c9b664beb8",
   "metadata": {},
   "outputs": [],
   "source": [
    "get_genre_uidx = genre_uid2idx.get\n",
    "get_genre_iidx = dict(genre_df.values[::, ::-1]).get\n",
    "get_rcmd_uidx = rcmd_uid2idx.get\n",
    "get_rcmd_iidx = rcmd_iid2idx.get\n",
    "\n",
    "\n",
    "def voctor_getter(model, layer, get_idx):\n",
    "    layer_num = {'user': 2, 'item': 3}[layer]\n",
    "    vectors = model.layers[layer_num].get_weights()[0]\n",
    "    def func(_id):\n",
    "        idx = get_idx(_id)\n",
    "        return None if idx is None else vectors[idx]\n",
    "    return func\n",
    "\n",
    "\n",
    "get_genre_user_vec = voctor_getter(genre_model8, 'user', get_genre_uidx)\n",
    "get_genre_item_vec = voctor_getter(genre_model8, 'item', get_genre_iidx)\n",
    "get_rcmd_user_vec = voctor_getter(rcmd_model24, 'user', get_rcmd_uidx)\n",
    "get_rcmd_item_vec = voctor_getter(rcmd_model24, 'item', get_rcmd_iidx)\n",
    "\n",
    "\n",
    "def get_user_vec(user_id):\n",
    "    return np.concatenate((get_genre_user_vec(user_id), get_rcmd_user_vec(user_id)))\n",
    "\n",
    "def get_item_vec(genre_names, imdb_id):\n",
    "    genre_vectors = np.array([get_genre_item_vec(genre) for genre in genre_names])\n",
    "    return np.concatenate((genre_vectors.mean(axis=0), get_rcmd_item_vec(imdb_id)))"
   ]
  },
  {
   "cell_type": "code",
   "execution_count": 17,
   "id": "2230a822-7955-40a4-9d58-40edf3082d81",
   "metadata": {},
   "outputs": [
    {
     "data": {
      "application/vnd.jupyter.widget-view+json": {
       "model_id": "044124941d854c1f9a22e87304ecc1bf",
       "version_major": 2,
       "version_minor": 0
      },
      "text/plain": [
       "0it [00:00, ?it/s]"
      ]
     },
     "metadata": {},
     "output_type": "display_data"
    },
    {
     "data": {
      "text/plain": [
       "((25946710, 64), (25946710,))"
      ]
     },
     "execution_count": 17,
     "metadata": {},
     "output_type": "execute_result"
    }
   ],
   "source": [
    "data_x = list()\n",
    "data_y = genre_rating_df['prefer'].values\n",
    "for _, row in tqdm(genre_rating_df.iterrows()):\n",
    "    user_vec = get_user_vec(row['userId'])\n",
    "    item_vec = get_item_vec(row['genres'].split(', '), row['imdbId'])\n",
    "    data_x.append(np.concatenate((user_vec, item_vec)))\n",
    "\n",
    "data_x = np.array(data_x)\n",
    "data_x.shape, data_y.shape"
   ]
  },
  {
   "cell_type": "code",
   "execution_count": 20,
   "id": "080110ac-92ed-478c-a82b-fb93fdb10d11",
   "metadata": {},
   "outputs": [],
   "source": [
    "train_x, valid_x, train_y, valid_y = train_test_split(\n",
    "    data_x, data_y, test_size=40000,\n",
    ")\n",
    "valid_x, test_x, valid_y, test_y = train_test_split(\n",
    "    valid_x, valid_y, test_size=20000,\n",
    ")\n",
    "np.savez_compressed(\n",
    "    './The Movies Dataset/genre_rcmd_vector_dataset.npz',\n",
    "    **{\n",
    "        'train_x': train_x, \n",
    "        'train_y': train_y, \n",
    "        'valid_x': valid_x, \n",
    "        'valid_y': valid_y, \n",
    "        'test_x': test_x, \n",
    "        'test_y': test_y,\n",
    "    },\n",
    ")"
   ]
  },
  {
   "cell_type": "code",
   "execution_count": 122,
   "id": "5b3b50b3-c58a-45ba-9b01-d0ce061c59aa",
   "metadata": {},
   "outputs": [],
   "source": [
    "with np.load('./The Movies Dataset/genre_rcmd_vector_dataset.npz') as filedata:\n",
    "    train_x = filedata['train_x']\n",
    "    train_y = filedata['train_y']\n",
    "    valid_x = filedata['valid_x']\n",
    "    valid_y = filedata['valid_y']\n",
    "    test_x = filedata['test_x']\n",
    "    test_y = filedata['test_y']"
   ]
  },
  {
   "cell_type": "markdown",
   "id": "44e741f8-a25f-4053-bc1c-c55247e875a5",
   "metadata": {},
   "source": [
    "# SVM model\n",
    "\n",
    "SVM classifier를 이용해 prefer를 예측합니다.\n",
    "\n",
    "SVM은 학습 데이터가 2천 만 개나 필요할 정도로 강력한 모델이 아니므로 준비된 학습 데이터 중 10만 개만 사용합니다.\n",
    "\n",
    "테스트 데이터셋에서 정확도 79.73%로 기존보다 약 2.7%p 개선된 결과를 얻을 수 있었습니다."
   ]
  },
  {
   "cell_type": "code",
   "execution_count": 114,
   "id": "7683c90e-8192-4af7-8588-6f27ab45fe93",
   "metadata": {},
   "outputs": [],
   "source": [
    "def evaluate(model, x, y):\n",
    "    pred = model.predict(x)\n",
    "    pred_ratio = pred.sum() / len(y)\n",
    "    y_ratio = y.sum() / len(y)\n",
    "    acc = (y == pred).sum() / len(y)\n",
    "    print(f'{pred_ratio=}, {y_ratio=}, {acc=}')"
   ]
  },
  {
   "cell_type": "code",
   "execution_count": 115,
   "id": "ef694c48-5318-4b4c-a69f-bdc169d28863",
   "metadata": {},
   "outputs": [
    {
     "name": "stdout",
     "output_type": "stream",
     "text": [
      "pred_ratio=0.68045, y_ratio=0.6184, acc=0.79385\n",
      "CPU times: user 19min 40s, sys: 156 ms, total: 19min 40s\n",
      "Wall time: 19min 41s\n"
     ]
    }
   ],
   "source": [
    "%%time\n",
    "sample_size = 100000\n",
    "rbf_svc = svm.SVC()\n",
    "rbf_svc = rbf_svc.fit(train_x[:sample_size], train_y[:sample_size])"
   ]
  },
  {
   "cell_type": "code",
   "execution_count": 123,
   "id": "d6cd7a13-9a7b-4243-bd3c-5cde2dab7415",
   "metadata": {},
   "outputs": [
    {
     "name": "stdout",
     "output_type": "stream",
     "text": [
      "pred_ratio=0.68045, y_ratio=0.6184, acc=0.79385\n"
     ]
    }
   ],
   "source": [
    "evaluate(rbf_svc, valid_x, valid_y)"
   ]
  },
  {
   "cell_type": "code",
   "execution_count": 63,
   "id": "2e9b2da4-150a-4382-9c95-f105d786fc10",
   "metadata": {},
   "outputs": [
    {
     "name": "stdout",
     "output_type": "stream",
     "text": [
      "pred_ratio=0.6868, y_ratio=0.6216, acc=0.7973\n"
     ]
    }
   ],
   "source": [
    "evaluate(rbf_svc, test_x, test_y)"
   ]
  },
  {
   "cell_type": "markdown",
   "id": "e26e92d6-8c7f-4bbe-a6e6-cd1d1ccd9e70",
   "metadata": {},
   "source": [
    "# Decision Tree Model\n",
    "\n",
    "Decision tree를 이용해 prefer를 예측합니다.\n",
    "\n",
    "이번에는 72.87%로 기존보다 낮은 정확도가 나왔습니다."
   ]
  },
  {
   "cell_type": "code",
   "execution_count": 69,
   "id": "c5290b36-2a23-4812-981c-0a7e147c711a",
   "metadata": {},
   "outputs": [],
   "source": [
    "sample_size = 100000\n",
    "tree_clf = tree.DecisionTreeClassifier(max_depth=5)\n",
    "tree_clf = tree_clf.fit(train_x[:sample_size], train_y[:sample_size])"
   ]
  },
  {
   "cell_type": "code",
   "execution_count": 70,
   "id": "362cffd7-8f2c-4178-9413-d6dd2e6de6f7",
   "metadata": {},
   "outputs": [
    {
     "name": "stdout",
     "output_type": "stream",
     "text": [
      "pred_ratio=0.69205, y_ratio=0.6184, acc=0.72555\n"
     ]
    }
   ],
   "source": [
    "evaluate(tree_clf, valid_x, valid_y)"
   ]
  },
  {
   "cell_type": "code",
   "execution_count": 71,
   "id": "15bc1d5d-e4e0-47be-a0b1-cdd2a1b735af",
   "metadata": {},
   "outputs": [
    {
     "name": "stdout",
     "output_type": "stream",
     "text": [
      "pred_ratio=0.6935, y_ratio=0.6216, acc=0.7287\n"
     ]
    }
   ],
   "source": [
    "evaluate(tree_clf, test_x, test_y)"
   ]
  },
  {
   "cell_type": "markdown",
   "id": "ce3ad82d-7bbf-485e-ae12-ee7397c6939c",
   "metadata": {},
   "source": [
    "# Logistic Regression\n",
    "\n",
    "Logistic regression으로 prefer를 예측합니다.\n",
    "\n",
    "이번에는 validation으로 시도해 본 결과, 20만 개 데이터를 학습했을 때, 10만 개 데이터를 학습했을 때보다 정확도가 높아 20만 개 데이터를 사용했습니다.\n",
    "\n",
    "그 이후로는 눈에 띄는 정확도 향상은 없었습니다.\n",
    "\n",
    "결과는 74.95%로 기존 모델보다 낮았습니다."
   ]
  },
  {
   "cell_type": "code",
   "execution_count": 110,
   "id": "01987ab8-b9d8-4d1e-a67f-7250a8db71b2",
   "metadata": {},
   "outputs": [],
   "source": [
    "sample_size = 200000\n",
    "lin_clf = linear_model.LogisticRegression(\n",
    "    max_iter=500,\n",
    ")\n",
    "lin_clf = lin_clf.fit(train_x[:sample_size], train_y[:sample_size])"
   ]
  },
  {
   "cell_type": "code",
   "execution_count": 111,
   "id": "0eec9937-60f3-4c1b-a616-9e99be67c5c5",
   "metadata": {},
   "outputs": [
    {
     "name": "stdout",
     "output_type": "stream",
     "text": [
      "pred_ratio=0.6818, y_ratio=0.6184, acc=0.7414\n"
     ]
    }
   ],
   "source": [
    "evaluate(lin_clf, valid_x, valid_y)"
   ]
  },
  {
   "cell_type": "code",
   "execution_count": 112,
   "id": "2e67627e-7c6c-479f-9428-c8b9e32e1f0e",
   "metadata": {},
   "outputs": [
    {
     "name": "stdout",
     "output_type": "stream",
     "text": [
      "pred_ratio=0.6812, y_ratio=0.6216, acc=0.7495\n"
     ]
    }
   ],
   "source": [
    "evaluate(lin_clf, test_x, test_y)"
   ]
  }
 ],
 "metadata": {
  "kernelspec": {
   "display_name": "Python 3 (ipykernel)",
   "language": "python",
   "name": "python3"
  },
  "language_info": {
   "codemirror_mode": {
    "name": "ipython",
    "version": 3
   },
   "file_extension": ".py",
   "mimetype": "text/x-python",
   "name": "python",
   "nbconvert_exporter": "python",
   "pygments_lexer": "ipython3",
   "version": "3.9.2"
  }
 },
 "nbformat": 4,
 "nbformat_minor": 5
}
