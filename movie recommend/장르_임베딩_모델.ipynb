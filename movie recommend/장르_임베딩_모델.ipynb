{
 "cells": [
  {
   "cell_type": "code",
   "execution_count": 8,
   "id": "7b0f2a7d-537e-4890-a32d-5cccc970863d",
   "metadata": {},
   "outputs": [],
   "source": [
    "import os\n",
    "\n",
    "import tensorflow as tf\n",
    "import tensorflow.keras as keras\n",
    "tf.config.run_functions_eagerly(True)\n",
    "\n",
    "import numpy as np\n",
    "import pandas as pd\n",
    "from matplotlib import pyplot as plt\n",
    "from sklearn.model_selection import train_test_split"
   ]
  },
  {
   "cell_type": "markdown",
   "id": "4977661d-6a96-4b96-8fbf-ee9482703142",
   "metadata": {},
   "source": [
    "# 장르 임베딩 모델\n",
    "\n",
    "추천 모델과 마찬가지 원리로 장르를 벡터로 임베딩합니다.\n",
    "\n",
    "`사용자 벡터 * 장르 벡터 = 선호 여부`로 보고, 선호 여부는 이전 모델과 마찬가지로 평점 3.5점을 기준으로 합니다.\n",
    "\n",
    "여기서 학습된 장르 벡터와 장르에 대한 사용자 벡터(사용자의 장르 취향 벡터)에 더해 기존 추천 모델로 학습한 벡터를 input으로 새 모델을 학습 시킬 계획입니다.\n",
    "\n",
    "하나의 영화가 여러 장르를 갖는 경우가 있는데, 이 경우 데이터가 복제되었습니다.\n",
    "\n",
    "예를 들어, 한 사용자가 Action, Adventure 영화에 5점을 준 경우, Action 장르에 대한 prefer=1인 샘플 하나, Adventure 장르에 대한 prefer=1인 샘플 하나, 총 2개 샘플이 생성됩니다.\n",
    "\n",
    "반대로, 장르 데이터가 없는 영화도 있는데, 이런 영화들에 대한 데이터는 제외했습니다.\n",
    "\n",
    "테스트 데이터에 대한 최종 결과는 `loss: 0.5676, accuracy: 0.6946`입니다."
   ]
  },
  {
   "cell_type": "code",
   "execution_count": 10,
   "id": "77171314-f8af-4501-8946-d4bbc9dd068a",
   "metadata": {},
   "outputs": [
    {
     "name": "stdout",
     "output_type": "stream",
     "text": [
      "20\n"
     ]
    },
    {
     "data": {
      "text/html": [
       "<div>\n",
       "<style scoped>\n",
       "    .dataframe tbody tr th:only-of-type {\n",
       "        vertical-align: middle;\n",
       "    }\n",
       "\n",
       "    .dataframe tbody tr th {\n",
       "        vertical-align: top;\n",
       "    }\n",
       "\n",
       "    .dataframe thead th {\n",
       "        text-align: right;\n",
       "    }\n",
       "</style>\n",
       "<table border=\"1\" class=\"dataframe\">\n",
       "  <thead>\n",
       "    <tr style=\"text-align: right;\">\n",
       "      <th></th>\n",
       "      <th>genre_id</th>\n",
       "      <th>genre_name</th>\n",
       "    </tr>\n",
       "  </thead>\n",
       "  <tbody>\n",
       "    <tr>\n",
       "      <th>0</th>\n",
       "      <td>0</td>\n",
       "      <td>Action</td>\n",
       "    </tr>\n",
       "    <tr>\n",
       "      <th>1</th>\n",
       "      <td>1</td>\n",
       "      <td>Adventure</td>\n",
       "    </tr>\n",
       "    <tr>\n",
       "      <th>2</th>\n",
       "      <td>2</td>\n",
       "      <td>Animation</td>\n",
       "    </tr>\n",
       "    <tr>\n",
       "      <th>3</th>\n",
       "      <td>3</td>\n",
       "      <td>Comedy</td>\n",
       "    </tr>\n",
       "    <tr>\n",
       "      <th>4</th>\n",
       "      <td>4</td>\n",
       "      <td>Crime</td>\n",
       "    </tr>\n",
       "  </tbody>\n",
       "</table>\n",
       "</div>"
      ],
      "text/plain": [
       "   genre_id genre_name\n",
       "0         0     Action\n",
       "1         1  Adventure\n",
       "2         2  Animation\n",
       "3         3     Comedy\n",
       "4         4      Crime"
      ]
     },
     "execution_count": 10,
     "metadata": {},
     "output_type": "execute_result"
    }
   ],
   "source": [
    "genre_df = pd.read_csv('./The Movies Dataset/genres.csv')\n",
    "print(len(genre_df))\n",
    "genre_df.head()"
   ]
  },
  {
   "cell_type": "code",
   "execution_count": 11,
   "id": "15d2283a-ebe1-4bad-8215-aeeced215435",
   "metadata": {},
   "outputs": [
    {
     "name": "stdout",
     "output_type": "stream",
     "text": [
      "70504818\n"
     ]
    },
    {
     "data": {
      "text/html": [
       "<div>\n",
       "<style scoped>\n",
       "    .dataframe tbody tr th:only-of-type {\n",
       "        vertical-align: middle;\n",
       "    }\n",
       "\n",
       "    .dataframe tbody tr th {\n",
       "        vertical-align: top;\n",
       "    }\n",
       "\n",
       "    .dataframe thead th {\n",
       "        text-align: right;\n",
       "    }\n",
       "</style>\n",
       "<table border=\"1\" class=\"dataframe\">\n",
       "  <thead>\n",
       "    <tr style=\"text-align: right;\">\n",
       "      <th></th>\n",
       "      <th>userId</th>\n",
       "      <th>rating</th>\n",
       "      <th>timestamp</th>\n",
       "      <th>imdbId</th>\n",
       "      <th>genre</th>\n",
       "      <th>genre_id</th>\n",
       "      <th>prefer</th>\n",
       "    </tr>\n",
       "  </thead>\n",
       "  <tbody>\n",
       "    <tr>\n",
       "      <th>0</th>\n",
       "      <td>1</td>\n",
       "      <td>1.0</td>\n",
       "      <td>1425941529</td>\n",
       "      <td>112573</td>\n",
       "      <td>Action</td>\n",
       "      <td>0</td>\n",
       "      <td>0</td>\n",
       "    </tr>\n",
       "    <tr>\n",
       "      <th>1</th>\n",
       "      <td>1</td>\n",
       "      <td>1.0</td>\n",
       "      <td>1425941529</td>\n",
       "      <td>112573</td>\n",
       "      <td>Drama</td>\n",
       "      <td>6</td>\n",
       "      <td>0</td>\n",
       "    </tr>\n",
       "    <tr>\n",
       "      <th>2</th>\n",
       "      <td>1</td>\n",
       "      <td>1.0</td>\n",
       "      <td>1425941529</td>\n",
       "      <td>112573</td>\n",
       "      <td>History</td>\n",
       "      <td>10</td>\n",
       "      <td>0</td>\n",
       "    </tr>\n",
       "    <tr>\n",
       "      <th>3</th>\n",
       "      <td>1</td>\n",
       "      <td>1.0</td>\n",
       "      <td>1425941529</td>\n",
       "      <td>112573</td>\n",
       "      <td>War</td>\n",
       "      <td>18</td>\n",
       "      <td>0</td>\n",
       "    </tr>\n",
       "    <tr>\n",
       "      <th>4</th>\n",
       "      <td>11</td>\n",
       "      <td>3.5</td>\n",
       "      <td>1231676989</td>\n",
       "      <td>112573</td>\n",
       "      <td>Action</td>\n",
       "      <td>0</td>\n",
       "      <td>1</td>\n",
       "    </tr>\n",
       "  </tbody>\n",
       "</table>\n",
       "</div>"
      ],
      "text/plain": [
       "   userId  rating   timestamp  imdbId    genre  genre_id  prefer\n",
       "0       1     1.0  1425941529  112573   Action         0       0\n",
       "1       1     1.0  1425941529  112573    Drama         6       0\n",
       "2       1     1.0  1425941529  112573  History        10       0\n",
       "3       1     1.0  1425941529  112573      War        18       0\n",
       "4      11     3.5  1231676989  112573   Action         0       1"
      ]
     },
     "execution_count": 11,
     "metadata": {},
     "output_type": "execute_result"
    }
   ],
   "source": [
    "rating_df = pd.read_csv('./The Movies Dataset/genre_ratings.csv')\n",
    "rating_df['prefer'] = (rating_df['rating'] >= 3.5).astype(int)\n",
    "print(len(rating_df))\n",
    "rating_df.head()"
   ]
  },
  {
   "cell_type": "code",
   "execution_count": 12,
   "id": "5f8abbc3-c123-4807-be5b-e9d39206a73a",
   "metadata": {},
   "outputs": [
    {
     "data": {
      "text/plain": [
       "count    7.050482e+07\n",
       "mean     6.123738e-01\n",
       "std      4.872085e-01\n",
       "min      0.000000e+00\n",
       "25%      0.000000e+00\n",
       "50%      1.000000e+00\n",
       "75%      1.000000e+00\n",
       "max      1.000000e+00\n",
       "Name: prefer, dtype: float64"
      ]
     },
     "execution_count": 12,
     "metadata": {},
     "output_type": "execute_result"
    }
   ],
   "source": [
    "rating_df['prefer'].describe()"
   ]
  },
  {
   "cell_type": "code",
   "execution_count": 13,
   "id": "4ca3f758-7428-4f82-aa0e-87e87c560267",
   "metadata": {},
   "outputs": [
    {
     "data": {
      "text/plain": [
       "(270876, 20)"
      ]
     },
     "execution_count": 13,
     "metadata": {},
     "output_type": "execute_result"
    }
   ],
   "source": [
    "num_of_user = len(rating_df['userId'].unique())\n",
    "num_of_item = len(rating_df['genre_id'].unique())\n",
    "num_of_user, num_of_item"
   ]
  },
  {
   "cell_type": "code",
   "execution_count": 14,
   "id": "18e19d5a-dcca-427b-8dd1-3f3f4ce8e4a9",
   "metadata": {},
   "outputs": [
    {
     "name": "stdout",
     "output_type": "stream",
     "text": [
      "Model: \"model\"\n",
      "__________________________________________________________________________________________________\n",
      " Layer (type)                   Output Shape         Param #     Connected to                     \n",
      "==================================================================================================\n",
      " input_1 (InputLayer)           [(None, 1)]          0           []                               \n",
      "                                                                                                  \n",
      " input_2 (InputLayer)           [(None, 1)]          0           []                               \n",
      "                                                                                                  \n",
      " user_embedding (Embedding)     (None, 1, 8)         2167008     ['input_1[0][0]']                \n",
      "                                                                                                  \n",
      " item_embedding (Embedding)     (None, 1, 8)         160         ['input_2[0][0]']                \n",
      "                                                                                                  \n",
      " reshape (Reshape)              (None, 8, 1)         0           ['user_embedding[0][0]']         \n",
      "                                                                                                  \n",
      " reshape_1 (Reshape)            (None, 8, 1)         0           ['item_embedding[0][0]']         \n",
      "                                                                                                  \n",
      " dot (Dot)                      (None, 1, 1)         0           ['reshape[0][0]',                \n",
      "                                                                  'reshape_1[0][0]']              \n",
      "                                                                                                  \n",
      " activation (Activation)        (None, 1, 1)         0           ['dot[0][0]']                    \n",
      "                                                                                                  \n",
      "==================================================================================================\n",
      "Total params: 2,167,168\n",
      "Trainable params: 2,167,168\n",
      "Non-trainable params: 0\n",
      "__________________________________________________________________________________________________\n"
     ]
    }
   ],
   "source": [
    "VECTOR_DIMENSION = 8\n",
    "\n",
    "def compile_model(num_of_user, num_of_item, learning_rate=3e-4): \n",
    "    user_input = keras.layers.Input((1,))\n",
    "    user_embedding = keras.layers.Embedding(num_of_user, VECTOR_DIMENSION, input_length=1, name='user_embedding')\n",
    "    user = user_embedding(user_input)\n",
    "    user = keras.layers.Reshape((VECTOR_DIMENSION, 1))(user)\n",
    "    \n",
    "    item_input = keras.layers.Input((1,))\n",
    "    item_embedding = keras.layers.Embedding(num_of_item, VECTOR_DIMENSION, input_length=1, name='item_embedding')\n",
    "    item = item_embedding(item_input)\n",
    "    item = keras.layers.Reshape((VECTOR_DIMENSION, 1))(item)\n",
    "    \n",
    "    dot_product = keras.layers.dot([user, item], axes=1) \n",
    "    output = keras.layers.Activation('sigmoid')(dot_product)\n",
    "    \n",
    "    model = keras.models.Model(inputs=[user_input, item_input], outputs=output) \n",
    "    model.compile(\n",
    "        loss='binary_crossentropy', \n",
    "        optimizer=keras.optimizers.Adam(learning_rate),\n",
    "        metrics=['binary_accuracy'],\n",
    "    )\n",
    "    return model\n",
    "\n",
    "\n",
    "model = compile_model(num_of_user, num_of_item)\n",
    "model.summary()"
   ]
  },
  {
   "cell_type": "code",
   "execution_count": 3,
   "id": "3083cff0-c58a-4d65-ad7b-e28ad617783d",
   "metadata": {},
   "outputs": [],
   "source": [
    "def build_dataset(filepath, user_col, item_col, y_col):\n",
    "    uid2idx = {v: k for k, v in dict(enumerate(sorted(rating_df[user_col].unique()))).items()}\n",
    "    iid2idx = {v: k for k, v in dict(enumerate(sorted(rating_df[item_col].unique()))).items()}\n",
    "\n",
    "    dataset = pd.DataFrame()\n",
    "    dataset['uidx'] = rating_df[user_col].map(uid2idx.get)\n",
    "    dataset['iidx'] = rating_df[item_col].map(iid2idx.get)\n",
    "    dataset['y'] = rating_df[y_col]\n",
    "    \n",
    "    data_x = np.array([\n",
    "        dataset['uidx'].values, \n",
    "        dataset['iidx'].values, \n",
    "    ]).T\n",
    "    data_y = np.array([\n",
    "        dataset['y'].values, \n",
    "    ]).T\n",
    "    train_x, valid_x, train_y, valid_y = train_test_split(\n",
    "        data_x, data_y, test_size=40000,\n",
    "    )\n",
    "    valid_x, test_x, valid_y, test_y = train_test_split(\n",
    "        valid_x, valid_y, test_size=20000,\n",
    "    )\n",
    "    return {\n",
    "        'uid2idx': np.array(list(uid2idx.items())),\n",
    "        'iid2idx': np.array(list(iid2idx.items())),\n",
    "        'train_x': train_x, \n",
    "        'train_y': train_y, \n",
    "        'valid_x': valid_x, \n",
    "        'valid_y': valid_y, \n",
    "        'test_x': test_x, \n",
    "        'test_y': test_y,\n",
    "    }\n",
    "\n",
    "\n",
    "def load_or_build_dataset(filepath, user_col, item_col, y_col):\n",
    "    if not os.path.exists(filepath):\n",
    "        np.savez_compressed(\n",
    "            filepath,\n",
    "            **build_dataset(filepath, user_col, item_col, y_col),\n",
    "        )\n",
    "    with np.load(filepath) as filedata:\n",
    "        return dict(filedata['uid2idx']), dict(filedata['iid2idx']), \\\n",
    "            filedata['train_x'], filedata['train_y'], \\\n",
    "            filedata['valid_x'], filedata['valid_y'], \\\n",
    "            filedata['test_x'], filedata['test_y']\n",
    "\n",
    "    \n",
    "filepath = './The Movies Dataset/genre_dataset.npz'\n",
    "uid2idx, iid2idx, train_x, train_y, valid_x, valid_y, test_x, test_y =\\\n",
    "    load_or_build_dataset(filepath, 'userId', 'genre_id', 'prefer')"
   ]
  },
  {
   "cell_type": "code",
   "execution_count": 8,
   "id": "379fff51-c2b1-4081-a71b-574a9b941584",
   "metadata": {},
   "outputs": [],
   "source": [
    "checkpoint_filepath = './The Movies Dataset/genre' + str(VECTOR_DIMENSION) + '_{val_loss:.4f}.hdf5'\n",
    "model_checkpoint_callback = keras.callbacks.ModelCheckpoint(\n",
    "    filepath=checkpoint_filepath,\n",
    "    save_best_only=True,\n",
    ")"
   ]
  },
  {
   "cell_type": "code",
   "execution_count": null,
   "id": "ed21aa65-776d-40d4-acc2-c7239d15964a",
   "metadata": {},
   "outputs": [],
   "source": [
    "model = compile_model(num_of_user, num_of_item)\n",
    "history = model.fit(\n",
    "    x=(train_x[:,0,None], train_x[:,1,None]),\n",
    "    y=train_y, \n",
    "    batch_size=2048,\n",
    "    epochs=6, \n",
    "    verbose=1,\n",
    "    validation_data=((valid_x[:,0,None], valid_x[:,1,None]), valid_y), \n",
    "    shuffle=True,\n",
    "    callbacks=[model_checkpoint_callback],\n",
    ")"
   ]
  },
  {
   "cell_type": "code",
   "execution_count": 6,
   "id": "88091d17-0a62-4fc5-8a9a-15ddb6374d31",
   "metadata": {},
   "outputs": [],
   "source": [
    "best_model = keras.models.load_model('The Movies Dataset/genre8_0.5718.hdf5')"
   ]
  },
  {
   "cell_type": "code",
   "execution_count": 7,
   "id": "27f19d2f-aec7-4911-938d-592d9b247058",
   "metadata": {},
   "outputs": [
    {
     "name": "stdout",
     "output_type": "stream",
     "text": [
      "625/625 [==============================] - 2s 3ms/step - loss: 0.5676 - binary_accuracy: 0.6946\n"
     ]
    },
    {
     "data": {
      "text/plain": [
       "[0.5676388740539551, 0.6946499943733215]"
      ]
     },
     "execution_count": 7,
     "metadata": {},
     "output_type": "execute_result"
    }
   ],
   "source": [
    "best_model.evaluate(\n",
    "    x=(test_x[:,0,None], test_x[:,1,None]),\n",
    "    y=test_y\n",
    ")"
   ]
  }
 ],
 "metadata": {
  "kernelspec": {
   "display_name": "Python 3 (ipykernel)",
   "language": "python",
   "name": "python3"
  },
  "language_info": {
   "codemirror_mode": {
    "name": "ipython",
    "version": 3
   },
   "file_extension": ".py",
   "mimetype": "text/x-python",
   "name": "python",
   "nbconvert_exporter": "python",
   "pygments_lexer": "ipython3",
   "version": "3.9.2"
  }
 },
 "nbformat": 4,
 "nbformat_minor": 5
}
